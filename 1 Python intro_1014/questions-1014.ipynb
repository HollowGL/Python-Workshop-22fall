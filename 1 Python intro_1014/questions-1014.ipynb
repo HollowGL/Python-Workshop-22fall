{
 "cells": [
  {
   "cell_type": "markdown",
   "metadata": {},
   "source": [
    "## 关于pop, del, remove 的用法"
   ]
  },
  {
   "cell_type": "code",
   "execution_count": 33,
   "metadata": {},
   "outputs": [
    {
     "data": {
      "text/plain": [
       "[1, 2, 3, 4, 5, ['high'], 'low']"
      ]
     },
     "execution_count": 33,
     "metadata": {},
     "output_type": "execute_result"
    }
   ],
   "source": [
    "# remove\n",
    "list_1 = [1,2,3,4,5,5,['high'],'low']\n",
    "c = 5\n",
    "if c in list_1:\n",
    "    list_1.remove(c) # 去除某个值的【第一个】匹配项\n",
    "list_1\n"
   ]
  },
  {
   "cell_type": "code",
   "execution_count": 34,
   "metadata": {},
   "outputs": [
    {
     "name": "stdout",
     "output_type": "stream",
     "text": [
      "1\n",
      "[2, 3, 4, 5, ['high'], 'low']\n",
      "3\n",
      "[2, 4, 5, ['high'], 'low']\n",
      "5\n",
      "[2, 4, ['high'], 'low']\n",
      "low\n",
      "[2, 4, ['high']]\n"
     ]
    }
   ],
   "source": [
    "# 有同学课后来问了个非常有趣的问题，如果把 if 语句改成 for 语句，会有什么变化呢？\n",
    "# 现在的list_1 = [1, 2, 3, 4, 5, ['high'], 'low']\n",
    "# 理论上来讲，应该是删除了所有的值\n",
    "\n",
    "for c in list_1:\n",
    "    print(c)\n",
    "    list_1.remove(c) \n",
    "    print(list_1)\n",
    "\n",
    "\n",
    "# 原因：python是按 index 执行操作\n",
    "# 所以第一次循环, c == 1, 这是因为python识别了 index 为0的元素，所以remove掉了第一个值\n",
    "# 第二次循环, c == 2, 为什么不见了呢，\n",
    "# 这是因为这个时候list的长度和当前表示移除元素位置的index的数值就不匹配了。这次循环需要执行的是 index 为 0 + 1（多了一次循环），\n",
    "# 但是新的list_1 变成了 [2, 3, 4, 5, ['high'], 'low'], 所以这时候删除（index 等于 1）的元素 -> 所以删了新的list中的3，而不是2\n",
    "# 此后同理，这就解释了为什么会跳着删（隔一个，隔两个，隔三个），直到index超出就停止，形成了最后的结果。\n"
   ]
  },
  {
   "cell_type": "code",
   "execution_count": 35,
   "metadata": {},
   "outputs": [
    {
     "name": "stdout",
     "output_type": "stream",
     "text": [
      "[1, 4, 7]\n",
      "[4, 7]\n"
     ]
    }
   ],
   "source": [
    "# pop(index)\n",
    "list_2 = [1, 4, 7, 8]\n",
    "list_2.pop() # 删除最末位（默认 index 为 -1）\n",
    "print(list_2)\n",
    "list_2.pop(0) # 删除第index为0 位\n",
    "print(list_2)\n"
   ]
  },
  {
   "cell_type": "code",
   "execution_count": 36,
   "metadata": {},
   "outputs": [
    {
     "name": "stdout",
     "output_type": "stream",
     "text": [
      "[5, 11, 'x', 'abc']\n",
      "[5]\n"
     ]
    }
   ],
   "source": [
    "# del\n",
    "list_3 = [5, 9, 11, 'x', 'abc']\n",
    "del list_3[1] # 删除index 为 1的项\n",
    "print(list_3)\n",
    "del list_3[1:4] # 删除index 为 1， 2， 3 的项\n",
    "print(list_3)\n"
   ]
  },
  {
   "cell_type": "code",
   "execution_count": 37,
   "metadata": {},
   "outputs": [
    {
     "name": "stdout",
     "output_type": "stream",
     "text": [
      "[]\n"
     ]
    }
   ],
   "source": [
    "# 如果想delete 所有元素，可以用del\n",
    "list_4 = [1, 3, 6, 9]\n",
    "del list_4[:] # 删除全部内容，和上一部分的[1:4]比较一下\n",
    "print(list_4)"
   ]
  },
  {
   "cell_type": "code",
   "execution_count": 38,
   "metadata": {},
   "outputs": [
    {
     "name": "stdout",
     "output_type": "stream",
     "text": [
      "2\n"
     ]
    }
   ],
   "source": [
    "# 关于 del vs pop\n",
    "list_5 = [1, 2, 5, 7]\n",
    "popped = list_5.pop(1) # 想存下来的话，可以返回到（or 记录）删除的元素\n",
    "print(popped)"
   ]
  },
  {
   "cell_type": "code",
   "execution_count": 39,
   "metadata": {},
   "outputs": [
    {
     "ename": "SyntaxError",
     "evalue": "invalid syntax (<ipython-input-39-df85712b3f1d>, line 1)",
     "output_type": "error",
     "traceback": [
      "\u001b[0;36m  File \u001b[0;32m\"<ipython-input-39-df85712b3f1d>\"\u001b[0;36m, line \u001b[0;32m1\u001b[0m\n\u001b[0;31m    deleted = list_5.del(1) # 会报错\u001b[0m\n\u001b[0m                       ^\u001b[0m\n\u001b[0;31mSyntaxError\u001b[0m\u001b[0;31m:\u001b[0m invalid syntax\n"
     ]
    }
   ],
   "source": [
    "deleted = list_5.del(1) # 会报错，无法返回删除值"
   ]
  },
  {
   "cell_type": "code",
   "execution_count": null,
   "metadata": {},
   "outputs": [],
   "source": [
    "# 如何研究内置的一些method的使用：documentation https://docs.python.org/3.7/library/stdtypes.html\n",
    "# （notebook 上方 help - python reference 进行检索）"
   ]
  }
 ],
 "metadata": {
  "kernelspec": {
   "display_name": "Python 3",
   "language": "python",
   "name": "python3"
  },
  "language_info": {
   "codemirror_mode": {
    "name": "ipython",
    "version": 3
   },
   "file_extension": ".py",
   "mimetype": "text/x-python",
   "name": "python",
   "nbconvert_exporter": "python",
   "pygments_lexer": "ipython3",
   "version": "3.7.2"
  }
 },
 "nbformat": 4,
 "nbformat_minor": 2
}
