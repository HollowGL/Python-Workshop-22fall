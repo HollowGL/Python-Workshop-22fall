{
 "cells": [
  {
   "cell_type": "markdown",
   "metadata": {},
   "source": [
    "### 关于 清华大学计算社会科学平台\n",
    "\n",
    "为了提升清华计算社会科学研究的整体水平，营造“创新、共享、开放、合作”的大数据科研环境，打造大数据时代清华社会科学发展的独特品牌，\n",
    "2017年5月，清华大学社科学院决定联合清华其他社科类学院系、清华大学数据科学研究院建设“清华大学计算社会科学平台（Tsinghua-Computational Social Science Institution）”，以服务于社科学院在“十三五”期间顺利实现“弯道超车”，建成国际一流社会科学的发展目标。\n",
    "\n",
    "“清华大学计算社会科学平台”将充分利用清华大学、大数据产业界、相关政府部门的多样化资源条件，组织经济学、心理学、社会学、政治学、国际关系等多学科研究团队系统地开展将大数据资源、大数据方法和大数据方案应用于社会科学研究，为社会科学研究范式转换、促进重大经济社会问题解决提供理论和应用知识。\n",
    "\n",
    "\n",
    "\n",
    "\n",
    "\n",
    "\n",
    "\n",
    "\n",
    "\n",
    "\n",
    "\n"
   ]
  },
  {
   "cell_type": "markdown",
   "metadata": {},
   "source": [
    "# 第一讲 Python入门：基本语法与逻辑"
   ]
  },
  {
   "cell_type": "code",
   "execution_count": 1,
   "metadata": {},
   "outputs": [
    {
     "name": "stdout",
     "output_type": "stream",
     "text": [
      "The Zen of Python, by Tim Peters\n",
      "\n",
      "Beautiful is better than ugly.\n",
      "Explicit is better than implicit.\n",
      "Simple is better than complex.\n",
      "Complex is better than complicated.\n",
      "Flat is better than nested.\n",
      "Sparse is better than dense.\n",
      "Readability counts.\n",
      "Special cases aren't special enough to break the rules.\n",
      "Although practicality beats purity.\n",
      "Errors should never pass silently.\n",
      "Unless explicitly silenced.\n",
      "In the face of ambiguity, refuse the temptation to guess.\n",
      "There should be one-- and preferably only one --obvious way to do it.\n",
      "Although that way may not be obvious at first unless you're Dutch.\n",
      "Now is better than never.\n",
      "Although never is often better than *right* now.\n",
      "If the implementation is hard to explain, it's a bad idea.\n",
      "If the implementation is easy to explain, it may be a good idea.\n",
      "Namespaces are one honking great idea -- let's do more of those!\n"
     ]
    }
   ],
   "source": [
    "# python 之禅 -- 为什么要使用 python？python 的好处是什么？\n",
    "import this"
   ]
  },
  {
   "cell_type": "code",
   "execution_count": 1,
   "metadata": {},
   "outputs": [
    {
     "ename": "SyntaxError",
     "evalue": "invalid character '！' (U+FF01) (3477320340.py, line 1)",
     "output_type": "error",
     "traceback": [
      "\u001b[1;36m  Cell \u001b[1;32mIn [1], line 1\u001b[1;36m\u001b[0m\n\u001b[1;33m    ！pip install pandas #! or ！为什么会报错呢？\u001b[0m\n\u001b[1;37m    ^\u001b[0m\n\u001b[1;31mSyntaxError\u001b[0m\u001b[1;31m:\u001b[0m invalid character '！' (U+FF01)\n"
     ]
    }
   ],
   "source": [
    "！pip install pandas #! or ！为什么会报错呢？"
   ]
  },
  {
   "cell_type": "code",
   "execution_count": 1,
   "metadata": {},
   "outputs": [],
   "source": [
    "# ! pip install pandas"
   ]
  },
  {
   "cell_type": "code",
   "execution_count": 2,
   "metadata": {},
   "outputs": [
    {
     "name": "stdout",
     "output_type": "stream",
     "text": [
      "absl-py==1.0.0\r\n",
      "alabaster==0.7.11\r\n",
      "anaconda-client==1.7.2\r\n",
      "anaconda-navigator==1.9.2\r\n",
      "anaconda-project==0.8.2\r\n",
      "appdirs==1.4.3\r\n",
      "appnope==0.1.0\r\n",
      "appscript==1.0.1\r\n",
      "asn1crypto==0.24.0\r\n",
      "astroid==2.0.4\r\n",
      "astropy==3.0.4\r\n",
      "atomicwrites==1.2.1\r\n",
      "attrs==18.2.0\r\n",
      "Automat==0.7.0\r\n",
      "Babel==2.6.0\r\n",
      "backcall==0.1.0\r\n",
      "backports.shutil-get-terminal-size==1.0.0\r\n",
      "bcrypt @ file:///opt/concourse/worker/volumes/live/25966884-1a49-4448-62e7-44563eba29d2/volume/bcrypt_1597936171818/work\r\n",
      "beautifulsoup4==4.6.3\r\n",
      "bitarray==0.8.3\r\n",
      "bkcharts==0.2\r\n",
      "blaze==0.11.3\r\n",
      "bleach==2.1.4\r\n",
      "bokeh==0.13.0\r\n",
      "boto==2.49.0\r\n",
      "Bottleneck==1.2.1\r\n",
      "cached-property==1.5.2\r\n",
      "cachetools==4.2.4\r\n",
      "certifi==2021.10.8\r\n",
      "cffi==1.11.5\r\n",
      "chardet==3.0.4\r\n",
      "charset-normalizer==2.0.8\r\n",
      "click==6.7\r\n",
      "click-plugins @ file:///Users/ktietz/demo/mc3/conda-bld/click-plugins_1630665883852/work\r\n",
      "cligj==0.7.2\r\n",
      "cloudpickle==0.5.5\r\n",
      "clyent==1.2.2\r\n",
      "colorama==0.3.9\r\n",
      "conda==4.12.0\r\n",
      "conda-build==3.15.1\r\n",
      "conda-package-handling @ file:///opt/concourse/worker/volumes/live/d106838d-eaa7-40fd-5437-9d95a7db5458/volume/conda-package-handling_1618262135990/work\r\n",
      "constantly==15.1.0\r\n",
      "contextlib2==0.5.5\r\n",
      "cryptography @ file:///opt/concourse/worker/volumes/live/a7af4ad9-2d1a-4e6b-6f87-79f3ea7af2fd/volume/cryptography_1615505226445/work\r\n",
      "cycler==0.10.0\r\n",
      "Cython==0.28.5\r\n",
      "cytoolz==0.9.0.1\r\n",
      "dask==0.19.1\r\n",
      "datashape==0.5.4\r\n",
      "decorator==4.3.0\r\n",
      "defusedxml==0.5.0\r\n",
      "distributed==1.23.1\r\n",
      "docutils==0.14\r\n",
      "echarts-china-cities-pypkg==0.0.9\r\n",
      "echarts-china-provinces-pypkg==0.0.3\r\n",
      "echarts-countries-pypkg==0.1.6\r\n",
      "entrypoints==0.2.3\r\n",
      "et-xmlfile==1.0.1\r\n",
      "fastcache==1.0.2\r\n",
      "filelock==3.0.8\r\n",
      "Fiona==1.8.11\r\n",
      "Flask==1.0.2\r\n",
      "Flask-Cors==3.0.6\r\n",
      "GDAL==3.0.2\r\n",
      "geopandas @ file:///tmp/build/80754af9/geopandas_1627401391374/work\r\n",
      "gevent==1.3.6\r\n",
      "glob2==0.6\r\n",
      "gmpy2==2.0.8\r\n",
      "google-auth==2.3.3\r\n",
      "google-auth-oauthlib==0.4.6\r\n",
      "greenlet==0.4.15\r\n",
      "grpcio==1.42.0\r\n",
      "h5py==2.10.0\r\n",
      "heapdict==1.0.0\r\n",
      "html5lib==1.0.1\r\n",
      "hyperlink==18.0.0\r\n",
      "idna==2.7\r\n",
      "imageio==2.4.1\r\n",
      "imagesize==1.1.0\r\n",
      "importlib-metadata==4.8.2\r\n",
      "incremental==17.5.0\r\n",
      "ipykernel==4.9.0\r\n",
      "ipython==6.5.0\r\n",
      "ipython_genutils==0.2.0\r\n",
      "ipywidgets==7.4.1\r\n",
      "isort==4.3.4\r\n",
      "itsdangerous==0.24\r\n",
      "jdcal==1.4\r\n",
      "jedi==0.12.1\r\n",
      "jieba==0.42.1\r\n",
      "Jinja2==2.10\r\n",
      "jsonschema==2.6.0\r\n",
      "jupyter==1.0.0\r\n",
      "jupyter-client==5.2.3\r\n",
      "jupyter-console==5.2.0\r\n",
      "jupyter-core==4.4.0\r\n",
      "jupyterlab==0.34.9\r\n",
      "jupyterlab-launcher==0.13.1\r\n",
      "keyring==13.2.1\r\n",
      "kiwisolver==1.0.1\r\n",
      "lazy-object-proxy==1.3.1\r\n",
      "llvmlite==0.24.0\r\n",
      "lml==0.1.0\r\n",
      "locket==0.2.0\r\n",
      "lxml==4.2.5\r\n",
      "mapclassify @ file:///tmp/build/80754af9/mapclassify_1627369494639/work\r\n",
      "Markdown==3.3.6\r\n",
      "MarkupSafe==1.0\r\n",
      "matplotlib==3.1.3\r\n",
      "mccabe==0.6.1\r\n",
      "mistune==0.8.3\r\n",
      "mkl-fft==1.0.4\r\n",
      "mkl-random==1.0.1\r\n",
      "more-itertools==4.3.0\r\n",
      "mpmath==1.0.0\r\n",
      "msgpack==0.5.6\r\n",
      "multipledispatch==0.6.0\r\n",
      "munch @ file:///Users/ktietz/demo/mc3/conda-bld/munch_1630566382504/work\r\n",
      "navigator-updater==0.2.1\r\n",
      "nbconvert==5.4.0\r\n",
      "nbformat==4.4.0\r\n",
      "networkx==2.1\r\n",
      "nltk==3.3\r\n",
      "nose==1.3.7\r\n",
      "notebook==5.6.0\r\n",
      "numba==0.39.0\r\n",
      "numexpr==2.6.8\r\n",
      "numpy==1.15.1\r\n",
      "numpydoc==0.8.0\r\n",
      "oauthlib==3.1.1\r\n",
      "odo==0.5.1\r\n",
      "olefile==0.46\r\n",
      "openpyxl==2.5.6\r\n",
      "packaging==17.1\r\n",
      "pandas==1.0.3\r\n",
      "pandocfilters==1.4.2\r\n",
      "parso==0.3.1\r\n",
      "partd==0.3.8\r\n",
      "path.py==11.1.0\r\n",
      "pathlib2==2.3.2\r\n",
      "patsy==0.5.0\r\n",
      "pep8==1.7.1\r\n",
      "pexpect==4.6.0\r\n",
      "pickleshare==0.7.4\r\n",
      "Pillow==5.2.0\r\n",
      "pkginfo==1.4.2\r\n",
      "pluggy==0.7.1\r\n",
      "ply==3.11\r\n",
      "prettytable==3.2.0\r\n",
      "prometheus-client==0.3.1\r\n",
      "prompt-toolkit==1.0.15\r\n",
      "protobuf==3.19.1\r\n",
      "psutil==5.4.7\r\n",
      "ptyprocess==0.6.0\r\n",
      "py==1.6.0\r\n",
      "pyasn1==0.4.4\r\n",
      "pyasn1-modules==0.2.2\r\n",
      "pycodestyle==2.4.0\r\n",
      "pycosat==0.6.3\r\n",
      "pycparser==2.18\r\n",
      "pycrypto==2.6.1\r\n",
      "pycurl==7.43.0.5\r\n",
      "pyecharts==1.9.1\r\n",
      "pyecharts-jupyter-installer==0.0.3\r\n",
      "pyflakes==2.0.0\r\n",
      "Pygments==2.2.0\r\n",
      "PyHamcrest @ file:///tmp/build/80754af9/pyhamcrest_1615748656804/work\r\n",
      "pylint==2.1.1\r\n",
      "pyodbc==4.0.24\r\n",
      "pyOpenSSL==18.0.0\r\n",
      "pyparsing==2.2.0\r\n",
      "pyproj @ file:///opt/concourse/worker/volumes/live/6924ac69-4daf-4fdc-4cb0-a670ac438fd7/volume/pyproj_1614277922625/work\r\n",
      "PySocks==1.6.8\r\n",
      "pytest==3.8.0\r\n",
      "pytest-arraydiff==0.2\r\n",
      "pytest-astropy==0.4.0\r\n",
      "pytest-doctestplus==0.1.3\r\n",
      "pytest-openfiles==0.3.0\r\n",
      "pytest-remotedata==0.3.0\r\n",
      "python-dateutil==2.7.3\r\n",
      "pytz==2018.5\r\n",
      "PyWavelets==1.0.0\r\n",
      "PyYAML==3.13\r\n",
      "pyzmq==17.1.2\r\n",
      "QtAwesome==0.4.4\r\n",
      "qtconsole==4.4.1\r\n",
      "QtPy==1.5.0\r\n",
      "requests==2.26.0\r\n",
      "requests-oauthlib==1.3.0\r\n",
      "rope==0.11.0\r\n",
      "rsa==4.8\r\n",
      "Rtree @ file:///opt/concourse/worker/volumes/live/5c63c097-8e47-46e3-5b05-c6294368c0c9/volume/rtree_1618420831358/work\r\n",
      "ruamel_yaml==0.15.46\r\n",
      "scikit-image==0.14.0\r\n",
      "scikit-learn==0.19.2\r\n",
      "scipy==1.1.0\r\n",
      "seaborn==0.11.2\r\n",
      "Send2Trash==1.5.0\r\n",
      "service-identity==17.0.0\r\n",
      "Shapely @ file:///opt/concourse/worker/volumes/live/90b213a3-40f8-45c1-480b-3008028b4f18/volume/shapely_1599817167930/work\r\n",
      "simplegeneric==0.8.1\r\n",
      "simplejson==3.17.6\r\n",
      "singledispatch==3.4.0.3\r\n",
      "six==1.16.0\r\n",
      "snowballstemmer==1.2.1\r\n",
      "sortedcollections==1.0.1\r\n",
      "sortedcontainers==2.0.5\r\n",
      "Sphinx==1.7.9\r\n",
      "sphinxcontrib-websupport==1.1.0\r\n",
      "spyder==3.3.1\r\n",
      "spyder-kernels==0.2.6\r\n",
      "SQLAlchemy==1.2.11\r\n",
      "statsmodels==0.9.0\r\n",
      "sympy==1.2\r\n",
      "tables==3.4.4\r\n",
      "TBB==0.1\r\n",
      "tblib==1.3.2\r\n",
      "tensorboard-data-server==0.6.1\r\n",
      "tensorboard-plugin-wit==1.8.0\r\n",
      "terminado==0.8.1\r\n",
      "testpath==0.3.1\r\n",
      "toolz==0.9.0\r\n",
      "tornado==5.1\r\n",
      "tqdm==4.26.0\r\n",
      "traitlets==4.3.2\r\n",
      "Twisted==19.2.0\r\n",
      "typing_extensions==4.0.0\r\n",
      "unicodecsv==0.14.1\r\n",
      "urllib3==1.23\r\n",
      "wcwidth==0.1.7\r\n",
      "webencodings==0.5.1\r\n",
      "Werkzeug==0.14.1\r\n",
      "widgetsnbextension==3.4.1\r\n",
      "wrapt==1.10.11\r\n",
      "xlrd==1.1.0\r\n",
      "XlsxWriter==1.1.0\r\n",
      "xlwings==0.11.8\r\n",
      "xlwt==1.3.0\r\n",
      "zict==0.1.3\r\n",
      "zipp==3.6.0\r\n",
      "zope.interface==4.5.0\r\n"
     ]
    }
   ],
   "source": [
    "! pip freeze # 查看已安装的package的版本"
   ]
  },
  {
   "cell_type": "markdown",
   "metadata": {},
   "source": [
    "##  变量与表达式"
   ]
  },
  {
   "cell_type": "markdown",
   "metadata": {},
   "source": [
    "### 整数，浮点数"
   ]
  },
  {
   "cell_type": "code",
   "execution_count": null,
   "metadata": {},
   "outputs": [],
   "source": [
    "type(5) "
   ]
  },
  {
   "cell_type": "code",
   "execution_count": 4,
   "metadata": {},
   "outputs": [
    {
     "data": {
      "text/plain": [
       "float"
      ]
     },
     "execution_count": 4,
     "metadata": {},
     "output_type": "execute_result"
    }
   ],
   "source": [
    "type(5.0) "
   ]
  },
  {
   "cell_type": "code",
   "execution_count": 5,
   "metadata": {},
   "outputs": [
    {
     "data": {
      "text/plain": [
       "5.0"
      ]
     },
     "execution_count": 5,
     "metadata": {},
     "output_type": "execute_result"
    }
   ],
   "source": [
    "float(5) "
   ]
  },
  {
   "cell_type": "code",
   "execution_count": 6,
   "metadata": {},
   "outputs": [
    {
     "data": {
      "text/plain": [
       "5"
      ]
     },
     "execution_count": 6,
     "metadata": {},
     "output_type": "execute_result"
    }
   ],
   "source": [
    "int(5.3) "
   ]
  },
  {
   "cell_type": "code",
   "execution_count": 7,
   "metadata": {},
   "outputs": [
    {
     "data": {
      "text/plain": [
       "0"
      ]
     },
     "execution_count": 7,
     "metadata": {},
     "output_type": "execute_result"
    }
   ],
   "source": [
    "int(0.7)"
   ]
  },
  {
   "cell_type": "markdown",
   "metadata": {},
   "source": [
    "#### 运算"
   ]
  },
  {
   "cell_type": "code",
   "execution_count": 8,
   "metadata": {},
   "outputs": [],
   "source": [
    "# math operators\n",
    "# + - * / // % **\n",
    "# 细节可参考 https://www.w3schools.com/python/python_operators.asp\n"
   ]
  },
  {
   "cell_type": "code",
   "execution_count": 9,
   "metadata": {},
   "outputs": [
    {
     "data": {
      "text/plain": [
       "59898605652166846225806"
      ]
     },
     "execution_count": 9,
     "metadata": {},
     "output_type": "execute_result"
    }
   ],
   "source": [
    "29387439823734 * 2038238309"
   ]
  },
  {
   "cell_type": "code",
   "execution_count": 10,
   "metadata": {},
   "outputs": [
    {
     "data": {
      "text/plain": [
       "55"
      ]
     },
     "execution_count": 10,
     "metadata": {},
     "output_type": "execute_result"
    }
   ],
   "source": [
    "5 * 7 + 20 # 运算顺序"
   ]
  },
  {
   "cell_type": "code",
   "execution_count": 11,
   "metadata": {},
   "outputs": [
    {
     "data": {
      "text/plain": [
       "135"
      ]
     },
     "execution_count": 11,
     "metadata": {},
     "output_type": "execute_result"
    }
   ],
   "source": [
    "5 * (7 + 20)"
   ]
  },
  {
   "cell_type": "code",
   "execution_count": 12,
   "metadata": {},
   "outputs": [
    {
     "data": {
      "text/plain": [
       "3125"
      ]
     },
     "execution_count": 12,
     "metadata": {},
     "output_type": "execute_result"
    }
   ],
   "source": [
    "5 ** 5"
   ]
  },
  {
   "cell_type": "code",
   "execution_count": 13,
   "metadata": {},
   "outputs": [
    {
     "data": {
      "text/plain": [
       "2.75"
      ]
     },
     "execution_count": 13,
     "metadata": {},
     "output_type": "execute_result"
    }
   ],
   "source": [
    "11 / 4"
   ]
  },
  {
   "cell_type": "code",
   "execution_count": 14,
   "metadata": {},
   "outputs": [
    {
     "data": {
      "text/plain": [
       "3"
      ]
     },
     "execution_count": 14,
     "metadata": {},
     "output_type": "execute_result"
    }
   ],
   "source": [
    "round(11 / 4) # round() 四舍五入到整数"
   ]
  },
  {
   "cell_type": "code",
   "execution_count": 15,
   "metadata": {},
   "outputs": [
    {
     "data": {
      "text/plain": [
       "3"
      ]
     },
     "execution_count": 15,
     "metadata": {},
     "output_type": "execute_result"
    }
   ],
   "source": [
    "11 % 4 # 求余数"
   ]
  },
  {
   "cell_type": "code",
   "execution_count": 16,
   "metadata": {},
   "outputs": [
    {
     "data": {
      "text/plain": [
       "2"
      ]
     },
     "execution_count": 16,
     "metadata": {},
     "output_type": "execute_result"
    }
   ],
   "source": [
    "11 // 4 # returns the largest possible integer"
   ]
  },
  {
   "cell_type": "code",
   "execution_count": 17,
   "metadata": {},
   "outputs": [
    {
     "ename": "SyntaxError",
     "evalue": "invalid syntax (<ipython-input-17-2a31681610b7>, line 1)",
     "output_type": "error",
     "traceback": [
      "\u001b[0;36m  File \u001b[0;32m\"<ipython-input-17-2a31681610b7>\"\u001b[0;36m, line \u001b[0;32m1\u001b[0m\n\u001b[0;31m    5 +\u001b[0m\n\u001b[0m        ^\u001b[0m\n\u001b[0;31mSyntaxError\u001b[0m\u001b[0;31m:\u001b[0m invalid syntax\n"
     ]
    }
   ],
   "source": [
    "5 + \n"
   ]
  },
  {
   "cell_type": "markdown",
   "metadata": {},
   "source": [
    "### 字符串 string"
   ]
  },
  {
   "cell_type": "code",
   "execution_count": 19,
   "metadata": {},
   "outputs": [
    {
     "data": {
      "text/plain": [
       "str"
      ]
     },
     "execution_count": 19,
     "metadata": {},
     "output_type": "execute_result"
    }
   ],
   "source": [
    "type('today') # 字符串"
   ]
  },
  {
   "cell_type": "code",
   "execution_count": 20,
   "metadata": {},
   "outputs": [
    {
     "data": {
      "text/plain": [
       "str"
      ]
     },
     "execution_count": 20,
     "metadata": {},
     "output_type": "execute_result"
    }
   ],
   "source": [
    "type('5') #‘5’ 和 5的区别在哪里？"
   ]
  },
  {
   "cell_type": "code",
   "execution_count": 21,
   "metadata": {},
   "outputs": [
    {
     "data": {
      "text/plain": [
       "5.0"
      ]
     },
     "execution_count": 21,
     "metadata": {},
     "output_type": "execute_result"
    }
   ],
   "source": [
    "float('5') # convert string to float"
   ]
  },
  {
   "cell_type": "code",
   "execution_count": 29,
   "metadata": {},
   "outputs": [
    {
     "ename": "ValueError",
     "evalue": "could not convert string to float: 'to5day'",
     "output_type": "error",
     "traceback": [
      "\u001b[0;31m---------------------------------------------------------------------------\u001b[0m",
      "\u001b[0;31mValueError\u001b[0m                                Traceback (most recent call last)",
      "\u001b[0;32m<ipython-input-29-b9ab4b28544c>\u001b[0m in \u001b[0;36m<module>\u001b[0;34m()\u001b[0m\n\u001b[0;32m----> 1\u001b[0;31m \u001b[0mfloat\u001b[0m\u001b[0;34m(\u001b[0m\u001b[0;34m'to5day'\u001b[0m\u001b[0;34m)\u001b[0m\u001b[0;34m\u001b[0m\u001b[0;34m\u001b[0m\u001b[0m\n\u001b[0m",
      "\u001b[0;31mValueError\u001b[0m: could not convert string to float: 'to5day'"
     ]
    }
   ],
   "source": [
    "float('to5day')"
   ]
  },
  {
   "cell_type": "code",
   "execution_count": 31,
   "metadata": {},
   "outputs": [
    {
     "data": {
      "text/plain": [
       "'todayisFriday'"
      ]
     },
     "execution_count": 31,
     "metadata": {},
     "output_type": "execute_result"
    }
   ],
   "source": [
    "'today' + 'is' + 'Friday' "
   ]
  },
  {
   "cell_type": "code",
   "execution_count": 32,
   "metadata": {},
   "outputs": [
    {
     "ename": "TypeError",
     "evalue": "unsupported operand type(s) for -: 'str' and 'str'",
     "output_type": "error",
     "traceback": [
      "\u001b[0;31m---------------------------------------------------------------------------\u001b[0m",
      "\u001b[0;31mTypeError\u001b[0m                                 Traceback (most recent call last)",
      "\u001b[0;32m<ipython-input-32-f07e822ee99a>\u001b[0m in \u001b[0;36m<module>\u001b[0;34m()\u001b[0m\n\u001b[0;32m----> 1\u001b[0;31m \u001b[0;34m'today'\u001b[0m \u001b[0;34m-\u001b[0m \u001b[0;34m'day'\u001b[0m\u001b[0;34m\u001b[0m\u001b[0;34m\u001b[0m\u001b[0m\n\u001b[0m",
      "\u001b[0;31mTypeError\u001b[0m: unsupported operand type(s) for -: 'str' and 'str'"
     ]
    }
   ],
   "source": [
    "'today' - 'day' "
   ]
  },
  {
   "cell_type": "code",
   "execution_count": 33,
   "metadata": {},
   "outputs": [
    {
     "data": {
      "text/plain": [
       "'today5'"
      ]
     },
     "execution_count": 33,
     "metadata": {},
     "output_type": "execute_result"
    }
   ],
   "source": [
    "'today' + '5'"
   ]
  },
  {
   "cell_type": "code",
   "execution_count": 35,
   "metadata": {},
   "outputs": [
    {
     "ename": "TypeError",
     "evalue": "can only concatenate str (not \"int\") to str",
     "output_type": "error",
     "traceback": [
      "\u001b[0;31m---------------------------------------------------------------------------\u001b[0m",
      "\u001b[0;31mTypeError\u001b[0m                                 Traceback (most recent call last)",
      "\u001b[0;32m<ipython-input-35-7aa738b45c08>\u001b[0m in \u001b[0;36m<module>\u001b[0;34m()\u001b[0m\n\u001b[0;32m----> 1\u001b[0;31m \u001b[0;34m'today'\u001b[0m \u001b[0;34m+\u001b[0m \u001b[0;36m5\u001b[0m\u001b[0;34m\u001b[0m\u001b[0;34m\u001b[0m\u001b[0m\n\u001b[0m",
      "\u001b[0;31mTypeError\u001b[0m: can only concatenate str (not \"int\") to str"
     ]
    }
   ],
   "source": [
    "'today' + 5"
   ]
  },
  {
   "cell_type": "code",
   "execution_count": 36,
   "metadata": {},
   "outputs": [
    {
     "data": {
      "text/plain": [
       "'todaytodaytodaytodaytoday'"
      ]
     },
     "execution_count": 36,
     "metadata": {},
     "output_type": "execute_result"
    }
   ],
   "source": [
    "'today' * 5"
   ]
  },
  {
   "cell_type": "code",
   "execution_count": 22,
   "metadata": {},
   "outputs": [
    {
     "ename": "SyntaxError",
     "evalue": "EOL while scanning string literal (<ipython-input-22-5705d784c943>, line 1)",
     "output_type": "error",
     "traceback": [
      "\u001b[0;36m  File \u001b[0;32m\"<ipython-input-22-5705d784c943>\"\u001b[0;36m, line \u001b[0;32m1\u001b[0m\n\u001b[0;31m    'Today is Friday.\u001b[0m\n\u001b[0m                     ^\u001b[0m\n\u001b[0;31mSyntaxError\u001b[0m\u001b[0;31m:\u001b[0m EOL while scanning string literal\n"
     ]
    }
   ],
   "source": [
    "'Today is Friday."
   ]
  },
  {
   "cell_type": "code",
   "execution_count": 23,
   "metadata": {},
   "outputs": [
    {
     "data": {
      "text/plain": [
       "'Today is Friday.\\nLet’s take a break.'"
      ]
     },
     "execution_count": 23,
     "metadata": {},
     "output_type": "execute_result"
    }
   ],
   "source": [
    "'Today is Friday.\\nLet’s take a break.'"
   ]
  },
  {
   "cell_type": "code",
   "execution_count": 24,
   "metadata": {},
   "outputs": [
    {
     "name": "stdout",
     "output_type": "stream",
     "text": [
      "Today is Friday.\n",
      "Let’s take a break.\n"
     ]
    }
   ],
   "source": [
    "print('Today is Friday.\\nLet’s take a break.') # 这里与上一条有什么区别？'\\n'的含义是？"
   ]
  },
  {
   "cell_type": "code",
   "execution_count": 66,
   "metadata": {},
   "outputs": [
    {
     "ename": "SyntaxError",
     "evalue": "unexpected character after line continuation character (<ipython-input-66-e3e63d448260>, line 1)",
     "output_type": "error",
     "traceback": [
      "\u001b[0;36m  File \u001b[0;32m\"<ipython-input-66-e3e63d448260>\"\u001b[0;36m, line \u001b[0;32m1\u001b[0m\n\u001b[0;31m    print(Today is Friday.\\n Let’s take a break.)\u001b[0m\n\u001b[0m                                                 ^\u001b[0m\n\u001b[0;31mSyntaxError\u001b[0m\u001b[0;31m:\u001b[0m unexpected character after line continuation character\n"
     ]
    }
   ],
   "source": [
    "print(Today is Friday.\\n Let’s take a break.) \n",
    "\n",
    "# 问题出在哪里？\n"
   ]
  },
  {
   "cell_type": "code",
   "execution_count": 2,
   "metadata": {},
   "outputs": [
    {
     "data": {
      "text/plain": [
       "37"
      ]
     },
     "execution_count": 2,
     "metadata": {},
     "output_type": "execute_result"
    }
   ],
   "source": [
    "len('Today is Friday.\\n Let’s take a break.') "
   ]
  },
  {
   "cell_type": "code",
   "execution_count": null,
   "metadata": {},
   "outputs": [
    {
     "ename": "",
     "evalue": "",
     "output_type": "error",
     "traceback": [
      "\u001b[1;31mRunning cells with 'Python 3.10.6 64-bit' requires ipykernel package.\n",
      "\u001b[1;31mRun the following command to install 'ipykernel' into the Python environment. \n",
      "\u001b[1;31mCommand: 'c:/Users/guil/AppData/Local/Programs/Python/Python310/python.exe -m pip install ipykernel -U --user --force-reinstall'"
     ]
    }
   ],
   "source": [
    "len('\\n')"
   ]
  },
  {
   "cell_type": "code",
   "execution_count": 47,
   "metadata": {},
   "outputs": [
    {
     "data": {
      "text/plain": [
       "True"
      ]
     },
     "execution_count": 47,
     "metadata": {},
     "output_type": "execute_result"
    }
   ],
   "source": [
    "30 == 30.0 # return True == 用于比较<值> value"
   ]
  },
  {
   "cell_type": "code",
   "execution_count": 49,
   "metadata": {},
   "outputs": [
    {
     "data": {
      "text/plain": [
       "False"
      ]
     },
     "execution_count": 49,
     "metadata": {},
     "output_type": "execute_result"
    }
   ],
   "source": [
    "'today' == 'TODAY' # 所以python是分大小写的。"
   ]
  },
  {
   "cell_type": "code",
   "execution_count": 50,
   "metadata": {},
   "outputs": [
    {
     "data": {
      "text/plain": [
       "True"
      ]
     },
     "execution_count": 50,
     "metadata": {},
     "output_type": "execute_result"
    }
   ],
   "source": [
    "'today' != 'TODAY' # != 是 ≠"
   ]
  },
  {
   "cell_type": "code",
   "execution_count": 27,
   "metadata": {},
   "outputs": [
    {
     "ename": "SyntaxError",
     "evalue": "invalid character in identifier (<ipython-input-27-11df18b3040a>, line 1)",
     "output_type": "error",
     "traceback": [
      "\u001b[0;36m  File \u001b[0;32m\"<ipython-input-27-11df18b3040a>\"\u001b[0;36m, line \u001b[0;32m1\u001b[0m\n\u001b[0;31m    'today' ！='TODAY'\u001b[0m\n\u001b[0m            ^\u001b[0m\n\u001b[0;31mSyntaxError\u001b[0m\u001b[0;31m:\u001b[0m invalid character in identifier\n"
     ]
    }
   ],
   "source": [
    "'today' ！='TODAY'"
   ]
  },
  {
   "cell_type": "code",
   "execution_count": 30,
   "metadata": {},
   "outputs": [
    {
     "data": {
      "text/plain": [
       "False"
      ]
     },
     "execution_count": 30,
     "metadata": {},
     "output_type": "execute_result"
    }
   ],
   "source": [
    "type(30) == type(30.0) "
   ]
  },
  {
   "cell_type": "code",
   "execution_count": 31,
   "metadata": {},
   "outputs": [
    {
     "data": {
      "text/plain": [
       "True"
      ]
     },
     "execution_count": 31,
     "metadata": {},
     "output_type": "execute_result"
    }
   ],
   "source": [
    "type('today') == type('TODAY')"
   ]
  },
  {
   "cell_type": "code",
   "execution_count": 32,
   "metadata": {},
   "outputs": [
    {
     "name": "stdout",
     "output_type": "stream",
     "text": [
      "Today is Friday.\n",
      "Let’s take a break.\n",
      "\n",
      "\n",
      "\n",
      "\n",
      "Today is Friday.\n",
      "Let’s take a break.\n",
      "\n",
      "a\n",
      "end\n"
     ]
    }
   ],
   "source": [
    "print('Today is Friday.\\nLet’s take a break.\\n\\n\\n\\n')\n",
    "print('Today is Friday.\\nLet’s take a break.\\n\\na\\n\\n'.rstrip())\n",
    "print('end')"
   ]
  },
  {
   "cell_type": "code",
   "execution_count": 48,
   "metadata": {},
   "outputs": [
    {
     "name": "stdout",
     "output_type": "stream",
     "text": [
      "Character T has index 0\n",
      "Character o has index 1\n",
      "Character d has index 2\n",
      "Character a has index 3\n",
      "Character y has index 4\n",
      "Character   has index 5\n",
      "Character i has index 6\n",
      "Character s has index 7\n",
      "Character   has index 8\n",
      "Character F has index 9\n",
      "Character r has index 10\n",
      "Character i has index 11\n",
      "Character d has index 12\n",
      "Character a has index 13\n",
      "Character y has index 14\n",
      "Character . has index 15\n"
     ]
    }
   ],
   "source": [
    "string = 'Today is Friday.'\n",
    "for index, character in enumerate(string):\n",
    "    print('Character', character, 'has index', index)"
   ]
  },
  {
   "cell_type": "code",
   "execution_count": 49,
   "metadata": {},
   "outputs": [
    {
     "data": {
      "text/plain": [
       "'i'"
      ]
     },
     "execution_count": 49,
     "metadata": {},
     "output_type": "execute_result"
    }
   ],
   "source": [
    "string[-5]"
   ]
  },
  {
   "cell_type": "code",
   "execution_count": 50,
   "metadata": {},
   "outputs": [
    {
     "data": {
      "text/plain": [
       "'Today is friday.'"
      ]
     },
     "execution_count": 50,
     "metadata": {},
     "output_type": "execute_result"
    }
   ],
   "source": [
    "string.capitalize() # 句首大写 capitalize() 函数"
   ]
  },
  {
   "cell_type": "code",
   "execution_count": 51,
   "metadata": {},
   "outputs": [
    {
     "data": {
      "text/plain": [
       "'Today is Friday.'"
      ]
     },
     "execution_count": 51,
     "metadata": {},
     "output_type": "execute_result"
    }
   ],
   "source": [
    "string # 原始的 string 是否发生了变化？"
   ]
  },
  {
   "cell_type": "code",
   "execution_count": 52,
   "metadata": {},
   "outputs": [
    {
     "data": {
      "text/plain": [
       "'TODAY IS FRIDAY.'"
      ]
     },
     "execution_count": 52,
     "metadata": {},
     "output_type": "execute_result"
    }
   ],
   "source": [
    "# 赋值！\n",
    "string = string.upper() \n",
    "string\n"
   ]
  },
  {
   "cell_type": "code",
   "execution_count": 53,
   "metadata": {},
   "outputs": [
    {
     "data": {
      "text/plain": [
       "'Today Is Friday.'"
      ]
     },
     "execution_count": 53,
     "metadata": {},
     "output_type": "execute_result"
    }
   ],
   "source": [
    "string.title() # every word 开头大写\n",
    "\n",
    "\n"
   ]
  },
  {
   "cell_type": "code",
   "execution_count": 57,
   "metadata": {},
   "outputs": [
    {
     "data": {
      "text/plain": [
       "'TODAY is FRIDAY.'"
      ]
     },
     "execution_count": 57,
     "metadata": {},
     "output_type": "execute_result"
    }
   ],
   "source": [
    "string.replace('IS', 'is') \n",
    "\n"
   ]
  },
  {
   "cell_type": "code",
   "execution_count": 59,
   "metadata": {},
   "outputs": [
    {
     "data": {
      "text/plain": [
       "['TODAY IS ', 'IDAY.']"
      ]
     },
     "execution_count": 59,
     "metadata": {},
     "output_type": "execute_result"
    }
   ],
   "source": [
    "# Split, join, strip\n",
    "\n",
    "# split 分割\n",
    "string.split('FR') # 把 ’FR‘作为一个分隔符\n",
    "\n"
   ]
  },
  {
   "cell_type": "code",
   "execution_count": 41,
   "metadata": {},
   "outputs": [
    {
     "data": {
      "text/plain": [
       "['TODAY', 'IS', 'FRIDAY.']"
      ]
     },
     "execution_count": 41,
     "metadata": {},
     "output_type": "execute_result"
    }
   ],
   "source": [
    "# 通过空格来分割, e.g.英语分词\n",
    "string_splited = string.split(' ') # 中间有个 space\n",
    "string_splited\n",
    "\n",
    "\n"
   ]
  },
  {
   "cell_type": "code",
   "execution_count": 61,
   "metadata": {},
   "outputs": [
    {
     "ename": "AttributeError",
     "evalue": "'list' object has no attribute 'join'",
     "output_type": "error",
     "traceback": [
      "\u001b[0;31m---------------------------------------------------------------------------\u001b[0m",
      "\u001b[0;31mAttributeError\u001b[0m                            Traceback (most recent call last)",
      "\u001b[0;32m<ipython-input-61-87f4d78ea436>\u001b[0m in \u001b[0;36m<module>\u001b[0;34m()\u001b[0m\n\u001b[0;32m----> 1\u001b[0;31m \u001b[0mstring_joined\u001b[0m \u001b[0;34m=\u001b[0m \u001b[0mstring_splited\u001b[0m\u001b[0;34m.\u001b[0m\u001b[0mjoin\u001b[0m\u001b[0;34m(\u001b[0m\u001b[0;34m'-'\u001b[0m\u001b[0;34m)\u001b[0m\u001b[0;34m\u001b[0m\u001b[0;34m\u001b[0m\u001b[0m\n\u001b[0m\u001b[1;32m      2\u001b[0m \u001b[0mstring_joined\u001b[0m\u001b[0;34m\u001b[0m\u001b[0;34m\u001b[0m\u001b[0m\n",
      "\u001b[0;31mAttributeError\u001b[0m: 'list' object has no attribute 'join'"
     ]
    }
   ],
   "source": [
    "string_joined = string_splited.join('-') \n",
    "string_joined\n"
   ]
  },
  {
   "cell_type": "code",
   "execution_count": 62,
   "metadata": {},
   "outputs": [
    {
     "data": {
      "text/plain": [
       "'TODAY-IS-FRIDAY.'"
      ]
     },
     "execution_count": 62,
     "metadata": {},
     "output_type": "execute_result"
    }
   ],
   "source": [
    "# 用’-‘来 join被分割开的字符\n",
    "\n",
    "string_joined = '-'.join(string_splited) # 和上一个block中的内容做比较\n",
    "string_joined\n"
   ]
  },
  {
   "cell_type": "code",
   "execution_count": 63,
   "metadata": {},
   "outputs": [
    {
     "name": "stdout",
     "output_type": "stream",
     "text": [
      "TODAY IS FRIDAY.\n",
      "TODAY IS FRIDAY\n",
      "TODAY IS FRIDAY.\n"
     ]
    }
   ],
   "source": [
    "# strip\n",
    "print(string)\n",
    "print(string.strip('.')) # returns a copy of the string\n",
    "print(string)\n",
    "\n"
   ]
  },
  {
   "cell_type": "markdown",
   "metadata": {},
   "source": [
    "### 变量"
   ]
  },
  {
   "cell_type": "code",
   "execution_count": 64,
   "metadata": {},
   "outputs": [
    {
     "name": "stdout",
     "output_type": "stream",
     "text": [
      "100\n"
     ]
    }
   ],
   "source": [
    "x = 100 # = 代表赋值\n",
    "\n",
    "print(x) # 打印出x的值"
   ]
  },
  {
   "cell_type": "code",
   "execution_count": 56,
   "metadata": {},
   "outputs": [
    {
     "name": "stdout",
     "output_type": "stream",
     "text": [
      "hello\n",
      "True\n"
     ]
    }
   ],
   "source": [
    "this_is_my_variable = 'hello'\n",
    "print(this_is_my_variable)\n",
    "print(this_is_my_variable == 'hello')"
   ]
  },
  {
   "cell_type": "code",
   "execution_count": 57,
   "metadata": {},
   "outputs": [
    {
     "ename": "SyntaxError",
     "evalue": "invalid syntax (<ipython-input-57-2f6475f638a0>, line 1)",
     "output_type": "error",
     "traceback": [
      "\u001b[0;36m  File \u001b[0;32m\"<ipython-input-57-2f6475f638a0>\"\u001b[0;36m, line \u001b[0;32m1\u001b[0m\n\u001b[0;31m    this.is.my.variable = 'hello' # 变量名的格式\u001b[0m\n\u001b[0m          ^\u001b[0m\n\u001b[0;31mSyntaxError\u001b[0m\u001b[0;31m:\u001b[0m invalid syntax\n"
     ]
    }
   ],
   "source": [
    "this.is.my.variable = 'hello' # 变量名的格式"
   ]
  },
  {
   "cell_type": "code",
   "execution_count": 69,
   "metadata": {},
   "outputs": [
    {
     "ename": "SyntaxError",
     "evalue": "can't assign to literal (<ipython-input-69-d2612784e403>, line 1)",
     "output_type": "error",
     "traceback": [
      "\u001b[0;36m  File \u001b[0;32m\"<ipython-input-69-d2612784e403>\"\u001b[0;36m, line \u001b[0;32m1\u001b[0m\n\u001b[0;31m    '3_is_my_var' = 3 # 变量名的格式\u001b[0m\n\u001b[0m                              ^\u001b[0m\n\u001b[0;31mSyntaxError\u001b[0m\u001b[0;31m:\u001b[0m can't assign to literal\n"
     ]
    }
   ],
   "source": [
    "'3_is_my_var' = 3 # 变量名的格式"
   ]
  },
  {
   "cell_type": "code",
   "execution_count": 70,
   "metadata": {},
   "outputs": [
    {
     "name": "stdout",
     "output_type": "stream",
     "text": [
      "100\n",
      "this is my age: 100\n"
     ]
    }
   ],
   "source": [
    "my_age = input()\n",
    "print('this is my age:', my_age)"
   ]
  },
  {
   "cell_type": "code",
   "execution_count": 72,
   "metadata": {},
   "outputs": [
    {
     "ename": "SyntaxError",
     "evalue": "Missing parentheses in call to 'print'. Did you mean print(x  # 问题在哪里？)? (<ipython-input-72-c65f854f40df>, line 1)",
     "output_type": "error",
     "traceback": [
      "\u001b[0;36m  File \u001b[0;32m\"<ipython-input-72-c65f854f40df>\"\u001b[0;36m, line \u001b[0;32m1\u001b[0m\n\u001b[0;31m    print x  # 问题在哪里？\u001b[0m\n\u001b[0m          ^\u001b[0m\n\u001b[0;31mSyntaxError\u001b[0m\u001b[0;31m:\u001b[0m Missing parentheses in call to 'print'. Did you mean print(x  # 问题在哪里？)?\n"
     ]
    }
   ],
   "source": [
    "print x  # 问题在哪里？"
   ]
  },
  {
   "cell_type": "code",
   "execution_count": 73,
   "metadata": {},
   "outputs": [
    {
     "ename": "SyntaxError",
     "evalue": "invalid character in identifier (<ipython-input-73-c1628974c232>, line 1)",
     "output_type": "error",
     "traceback": [
      "\u001b[0;36m  File \u001b[0;32m\"<ipython-input-73-c1628974c232>\"\u001b[0;36m, line \u001b[0;32m1\u001b[0m\n\u001b[0;31m    ’figure‘ = 2 ** 3\u001b[0m\n\u001b[0m           ^\u001b[0m\n\u001b[0;31mSyntaxError\u001b[0m\u001b[0;31m:\u001b[0m invalid character in identifier\n"
     ]
    }
   ],
   "source": [
    "’figure‘ = 2 ** 3"
   ]
  },
  {
   "cell_type": "code",
   "execution_count": 75,
   "metadata": {},
   "outputs": [
    {
     "ename": "TypeError",
     "evalue": "object of type 'int' has no len()",
     "output_type": "error",
     "traceback": [
      "\u001b[0;31m---------------------------------------------------------------------------\u001b[0m",
      "\u001b[0;31mTypeError\u001b[0m                                 Traceback (most recent call last)",
      "\u001b[0;32m<ipython-input-75-1500269a57e0>\u001b[0m in \u001b[0;36m<module>\u001b[0;34m()\u001b[0m\n\u001b[0;32m----> 1\u001b[0;31m \u001b[0mprint\u001b[0m\u001b[0;34m(\u001b[0m\u001b[0mlen\u001b[0m\u001b[0;34m(\u001b[0m\u001b[0my\u001b[0m\u001b[0;34m)\u001b[0m \u001b[0;34m==\u001b[0m \u001b[0;36m2\u001b[0m\u001b[0;34m)\u001b[0m\u001b[0;34m\u001b[0m\u001b[0;34m\u001b[0m\u001b[0m\n\u001b[0m",
      "\u001b[0;31mTypeError\u001b[0m: object of type 'int' has no len()"
     ]
    }
   ],
   "source": [
    "print(len(y) == 2)\n"
   ]
  },
  {
   "cell_type": "markdown",
   "metadata": {},
   "source": [
    "### 布尔值 boolean\n"
   ]
  },
  {
   "cell_type": "code",
   "execution_count": 77,
   "metadata": {},
   "outputs": [
    {
     "data": {
      "text/plain": [
       "False"
      ]
     },
     "execution_count": 77,
     "metadata": {},
     "output_type": "execute_result"
    }
   ],
   "source": [
    "True & False"
   ]
  },
  {
   "cell_type": "code",
   "execution_count": 79,
   "metadata": {},
   "outputs": [
    {
     "data": {
      "text/plain": [
       "False"
      ]
     },
     "execution_count": 79,
     "metadata": {},
     "output_type": "execute_result"
    }
   ],
   "source": [
    "not True | True"
   ]
  },
  {
   "cell_type": "code",
   "execution_count": 80,
   "metadata": {},
   "outputs": [
    {
     "data": {
      "text/plain": [
       "True"
      ]
     },
     "execution_count": 80,
     "metadata": {},
     "output_type": "execute_result"
    }
   ],
   "source": [
    "(not True) | True # 与上一行进行比较，了解逻辑运算的优先级"
   ]
  },
  {
   "cell_type": "code",
   "execution_count": 81,
   "metadata": {},
   "outputs": [
    {
     "data": {
      "text/plain": [
       "False"
      ]
     },
     "execution_count": 81,
     "metadata": {},
     "output_type": "execute_result"
    }
   ],
   "source": [
    "False & False"
   ]
  },
  {
   "cell_type": "code",
   "execution_count": 82,
   "metadata": {},
   "outputs": [
    {
     "data": {
      "text/plain": [
       "True"
      ]
     },
     "execution_count": 82,
     "metadata": {},
     "output_type": "execute_result"
    }
   ],
   "source": [
    "True or True and False"
   ]
  },
  {
   "cell_type": "code",
   "execution_count": 72,
   "metadata": {},
   "outputs": [
    {
     "data": {
      "text/plain": [
       "False"
      ]
     },
     "execution_count": 72,
     "metadata": {},
     "output_type": "execute_result"
    }
   ],
   "source": [
    "not (True or True) and False"
   ]
  },
  {
   "cell_type": "code",
   "execution_count": 83,
   "metadata": {},
   "outputs": [
    {
     "data": {
      "text/plain": [
       "True"
      ]
     },
     "execution_count": 83,
     "metadata": {},
     "output_type": "execute_result"
    }
   ],
   "source": [
    "0 == False # == means comparing the logical value"
   ]
  },
  {
   "cell_type": "code",
   "execution_count": 84,
   "metadata": {},
   "outputs": [
    {
     "data": {
      "text/plain": [
       "True"
      ]
     },
     "execution_count": 84,
     "metadata": {},
     "output_type": "execute_result"
    }
   ],
   "source": [
    "1 == True"
   ]
  },
  {
   "cell_type": "code",
   "execution_count": 86,
   "metadata": {},
   "outputs": [
    {
     "data": {
      "text/plain": [
       "5"
      ]
     },
     "execution_count": 86,
     "metadata": {},
     "output_type": "execute_result"
    }
   ],
   "source": [
    "5 or 1 \n",
    "# python的设定问题：A or B 的使用——A为真就是A，A为假就是B"
   ]
  },
  {
   "cell_type": "code",
   "execution_count": 92,
   "metadata": {},
   "outputs": [
    {
     "data": {
      "text/plain": [
       "1"
      ]
     },
     "execution_count": 92,
     "metadata": {},
     "output_type": "execute_result"
    }
   ],
   "source": [
    "1 or 5"
   ]
  },
  {
   "cell_type": "code",
   "execution_count": 87,
   "metadata": {},
   "outputs": [
    {
     "data": {
      "text/plain": [
       "0"
      ]
     },
     "execution_count": 87,
     "metadata": {},
     "output_type": "execute_result"
    }
   ],
   "source": [
    "5 and 0 # A and B的使用：A为真就是B，A为假就是A"
   ]
  },
  {
   "cell_type": "code",
   "execution_count": 89,
   "metadata": {},
   "outputs": [
    {
     "data": {
      "text/plain": [
       "3"
      ]
     },
     "execution_count": 89,
     "metadata": {},
     "output_type": "execute_result"
    }
   ],
   "source": [
    "0 or 3"
   ]
  },
  {
   "cell_type": "code",
   "execution_count": 90,
   "metadata": {},
   "outputs": [
    {
     "data": {
      "text/plain": [
       "True"
      ]
     },
     "execution_count": 90,
     "metadata": {},
     "output_type": "execute_result"
    }
   ],
   "source": [
    "True or 1"
   ]
  },
  {
   "cell_type": "code",
   "execution_count": 91,
   "metadata": {},
   "outputs": [
    {
     "data": {
      "text/plain": [
       "False"
      ]
     },
     "execution_count": 91,
     "metadata": {},
     "output_type": "execute_result"
    }
   ],
   "source": [
    "False and 0"
   ]
  },
  {
   "cell_type": "code",
   "execution_count": 80,
   "metadata": {},
   "outputs": [
    {
     "name": "stdout",
     "output_type": "stream",
     "text": [
      "5\n",
      "3\n",
      "5\n"
     ]
    }
   ],
   "source": [
    "print(1 and 3 and 5)\n",
    "print(5 and (3 or 1))\n",
    "print(5 or 3 and 1)"
   ]
  },
  {
   "cell_type": "code",
   "execution_count": 93,
   "metadata": {},
   "outputs": [
    {
     "data": {
      "text/plain": [
       "False"
      ]
     },
     "execution_count": 93,
     "metadata": {},
     "output_type": "execute_result"
    }
   ],
   "source": [
    "0 is False # is 的用法"
   ]
  },
  {
   "cell_type": "code",
   "execution_count": 94,
   "metadata": {},
   "outputs": [
    {
     "data": {
      "text/plain": [
       "False"
      ]
     },
     "execution_count": 94,
     "metadata": {},
     "output_type": "execute_result"
    }
   ],
   "source": [
    "1 is True"
   ]
  },
  {
   "cell_type": "code",
   "execution_count": 95,
   "metadata": {},
   "outputs": [
    {
     "data": {
      "text/plain": [
       "True"
      ]
     },
     "execution_count": 95,
     "metadata": {},
     "output_type": "execute_result"
    }
   ],
   "source": [
    "bool('h')"
   ]
  },
  {
   "cell_type": "code",
   "execution_count": 96,
   "metadata": {},
   "outputs": [
    {
     "data": {
      "text/plain": [
       "False"
      ]
     },
     "execution_count": 96,
     "metadata": {},
     "output_type": "execute_result"
    }
   ],
   "source": [
    "bool('')"
   ]
  },
  {
   "cell_type": "code",
   "execution_count": 97,
   "metadata": {},
   "outputs": [
    {
     "data": {
      "text/plain": [
       "False"
      ]
     },
     "execution_count": 97,
     "metadata": {},
     "output_type": "execute_result"
    }
   ],
   "source": [
    "bool([])"
   ]
  },
  {
   "cell_type": "markdown",
   "metadata": {},
   "source": [
    "### condition and loop"
   ]
  },
  {
   "cell_type": "code",
   "execution_count": 86,
   "metadata": {},
   "outputs": [
    {
     "name": "stdout",
     "output_type": "stream",
     "text": [
      "correct!\n"
     ]
    }
   ],
   "source": [
    "a = 7\n",
    "if a == 7:\n",
    "    print('correct!')\n",
    "else: # 对齐，注意 indentation\n",
    "    print('Wrong!')\n"
   ]
  },
  {
   "cell_type": "code",
   "execution_count": 87,
   "metadata": {},
   "outputs": [
    {
     "name": "stdout",
     "output_type": "stream",
     "text": [
      "Wrong!\n"
     ]
    }
   ],
   "source": [
    "# 多个条件\n",
    "b = 8\n",
    "if a == 7 and b == 6:\n",
    "    print('correct!')\n",
    "else: \n",
    "    print('Wrong!')\n",
    "\n",
    "\n"
   ]
  },
  {
   "cell_type": "code",
   "execution_count": 102,
   "metadata": {},
   "outputs": [
    {
     "name": "stdout",
     "output_type": "stream",
     "text": [
      "whoops!\n"
     ]
    }
   ],
   "source": [
    "# 多个条件\n",
    "a = 5\n",
    "b = 13 # a,b 的不同取值\n",
    "if a == 13:\n",
    "    print('correct!')\n",
    "elif b < 12: \n",
    "    print('You are here.')\n",
    "elif b > 15:\n",
    "    print('U R Here.')\n",
    "else:\n",
    "    print('whoops!')\n"
   ]
  },
  {
   "cell_type": "code",
   "execution_count": 103,
   "metadata": {},
   "outputs": [
    {
     "name": "stdout",
     "output_type": "stream",
     "text": [
      "h\n",
      "e\n",
      "l\n",
      "l\n",
      "o\n"
     ]
    }
   ],
   "source": [
    "for c in 'hello': # c 可以用任何一个，print c\n",
    "    print(c)"
   ]
  },
  {
   "cell_type": "code",
   "execution_count": 104,
   "metadata": {},
   "outputs": [
    {
     "name": "stdout",
     "output_type": "stream",
     "text": [
      "0\n",
      "1\n",
      "2\n",
      "3\n",
      "4\n",
      "5\n",
      "6\n",
      "7\n",
      "8\n",
      "9\n"
     ]
    }
   ],
   "source": [
    "for x in range(10): # range 函数\n",
    "    print(x) "
   ]
  },
  {
   "cell_type": "markdown",
   "metadata": {},
   "source": [
    "## 基本数据结构"
   ]
  },
  {
   "cell_type": "code",
   "execution_count": 105,
   "metadata": {},
   "outputs": [
    {
     "name": "stdout",
     "output_type": "stream",
     "text": [
      "(2, 3, '2', 2)\n",
      "2\n"
     ]
    }
   ],
   "source": [
    "# tuple() 元组 , list[] 列表 , dictionary{} 字典， set 集合\n",
    "\n",
    "tuple_1 = (2, 3, '2', 2)\n",
    "\n",
    "print(tuple_1)\n",
    "\n",
    "print(tuple_1[0]) \n",
    "\n"
   ]
  },
  {
   "cell_type": "code",
   "execution_count": 108,
   "metadata": {},
   "outputs": [
    {
     "ename": "TypeError",
     "evalue": "'tuple' object does not support item assignment",
     "output_type": "error",
     "traceback": [
      "\u001b[0;31m---------------------------------------------------------------------------\u001b[0m",
      "\u001b[0;31mTypeError\u001b[0m                                 Traceback (most recent call last)",
      "\u001b[0;32m<ipython-input-108-bcbebe903b56>\u001b[0m in \u001b[0;36m<module>\u001b[0;34m()\u001b[0m\n\u001b[1;32m      1\u001b[0m \u001b[0;31m# tuple 中的元素不可变(does not support item assignment)\u001b[0m\u001b[0;34m\u001b[0m\u001b[0;34m\u001b[0m\u001b[0;34m\u001b[0m\u001b[0m\n\u001b[0;32m----> 2\u001b[0;31m \u001b[0mtuple_1\u001b[0m\u001b[0;34m[\u001b[0m\u001b[0;36m1\u001b[0m\u001b[0;34m]\u001b[0m \u001b[0;34m=\u001b[0m \u001b[0;36m0.5\u001b[0m\u001b[0;34m\u001b[0m\u001b[0;34m\u001b[0m\u001b[0m\n\u001b[0m",
      "\u001b[0;31mTypeError\u001b[0m: 'tuple' object does not support item assignment"
     ]
    }
   ],
   "source": [
    "tuple_1[1] = 0.5\n"
   ]
  },
  {
   "cell_type": "code",
   "execution_count": 113,
   "metadata": {},
   "outputs": [
    {
     "name": "stdout",
     "output_type": "stream",
     "text": [
      "列表中 index = 1，即第2个元素为: 3\n",
      "[2, 4, '2']\n"
     ]
    }
   ],
   "source": [
    "# list 有序的：\n",
    "\n",
    "\n",
    "list_1 = [2, 3, '2']\n",
    "\n",
    "print('列表中 index = 1，即第2个元素为:', list_1[1]) # 因为 list 是有序的，所以你可以通过 index 来访问 list 中的元素\n",
    "\n",
    "# list_1[-1]\n",
    "\n",
    "list_1[1] = 4 # 把 list 中第二个元素改成 4\n",
    "\n",
    "print(list_1)\n"
   ]
  },
  {
   "cell_type": "code",
   "execution_count": 114,
   "metadata": {},
   "outputs": [
    {
     "name": "stdout",
     "output_type": "stream",
     "text": [
      "原始列表： [2, 4, '2']\n",
      "[2, 4, '2', 'Python']\n",
      "[2, 4, '2', 'Python', ['how', 'are', 'you']]\n",
      "5\n"
     ]
    }
   ],
   "source": [
    "# 给列表添加元素\n",
    "# 比较以下多个输出\n",
    "print('原始列表：', list_1)\n",
    "\n",
    "list_1.append('Python') # append + 一个元素\n",
    "print(list_1)\n",
    "\n",
    "list_1.append(['how', 'are', 'you']) # append + 一个列表\n",
    "print(list_1)\n",
    "\n",
    "print(len(list_1))\n"
   ]
  },
  {
   "cell_type": "code",
   "execution_count": 115,
   "metadata": {},
   "outputs": [
    {
     "ename": "ValueError",
     "evalue": "'how' is not in list",
     "output_type": "error",
     "traceback": [
      "\u001b[0;31m---------------------------------------------------------------------------\u001b[0m",
      "\u001b[0;31mValueError\u001b[0m                                Traceback (most recent call last)",
      "\u001b[0;32m<ipython-input-115-b8ce4a3f2af3>\u001b[0m in \u001b[0;36m<module>\u001b[0;34m()\u001b[0m\n\u001b[1;32m      1\u001b[0m \u001b[0;31m# 注意\u001b[0m\u001b[0;34m\u001b[0m\u001b[0;34m\u001b[0m\u001b[0;34m\u001b[0m\u001b[0m\n\u001b[0;32m----> 2\u001b[0;31m \u001b[0mprint\u001b[0m\u001b[0;34m(\u001b[0m\u001b[0mlist_1\u001b[0m\u001b[0;34m.\u001b[0m\u001b[0mindex\u001b[0m\u001b[0;34m(\u001b[0m\u001b[0;34m'how'\u001b[0m\u001b[0;34m)\u001b[0m\u001b[0;34m)\u001b[0m \u001b[0;31m# 会发生什么？\u001b[0m\u001b[0;34m\u001b[0m\u001b[0;34m\u001b[0m\u001b[0m\n\u001b[0m",
      "\u001b[0;31mValueError\u001b[0m: 'how' is not in list"
     ]
    }
   ],
   "source": [
    "# 注意\n",
    "print(list_1.index('how')) # 会发生什么？\n"
   ]
  },
  {
   "cell_type": "code",
   "execution_count": 118,
   "metadata": {},
   "outputs": [
    {
     "name": "stdout",
     "output_type": "stream",
     "text": [
      "4\n"
     ]
    }
   ],
   "source": [
    "print(list_1.index(['how', 'are', 'you']))"
   ]
  },
  {
   "cell_type": "code",
   "execution_count": 119,
   "metadata": {},
   "outputs": [
    {
     "name": "stdout",
     "output_type": "stream",
     "text": [
      "[2, 4, '2', 'Python', ['how', 'are', 'you'], 'how', 'are', 'you']\n",
      "'how' 所对应的索引是： 5\n",
      "列表的长度为： 8\n"
     ]
    }
   ],
   "source": [
    "# 使用 extend 添加多个元素\n",
    "\n",
    "list_1.extend(['how', 'are', 'you']) # 添加的是一个列表，还是列表里的每一个元素？\n",
    "print(list_1)\n",
    "\n",
    "print('\\'how\\' 所对应的索引是：', list_1.index('how'))\n",
    "\n",
    "print('列表的长度为：', len(list_1))\n",
    "\n"
   ]
  },
  {
   "cell_type": "code",
   "execution_count": 120,
   "metadata": {},
   "outputs": [],
   "source": [
    "# 在指定位置插入元素 list.insert(index, 'element')\n",
    "\n",
    "list_1.insert(2, 'inserted_element')\n"
   ]
  },
  {
   "cell_type": "code",
   "execution_count": 121,
   "metadata": {},
   "outputs": [
    {
     "data": {
      "text/plain": [
       "[2,\n",
       " 4,\n",
       " 'inserted_element',\n",
       " '2',\n",
       " 'Python',\n",
       " ['how', 'are', 'you'],\n",
       " 'how',\n",
       " 'are',\n",
       " 'you']"
      ]
     },
     "execution_count": 121,
     "metadata": {},
     "output_type": "execute_result"
    }
   ],
   "source": [
    "list_1 "
   ]
  },
  {
   "cell_type": "code",
   "execution_count": 122,
   "metadata": {},
   "outputs": [
    {
     "data": {
      "text/plain": [
       "[2, 4, '2', 'Python', ['how', 'are', 'you'], 'how', 'are', 'you']"
      ]
     },
     "execution_count": 122,
     "metadata": {},
     "output_type": "execute_result"
    }
   ],
   "source": [
    "list_1.pop(2) # 删除的是 index = 2 的部分\n",
    "list_1\n",
    "\n"
   ]
  },
  {
   "cell_type": "code",
   "execution_count": 123,
   "metadata": {},
   "outputs": [
    {
     "ename": "TypeError",
     "evalue": "'str' object cannot be interpreted as an integer",
     "output_type": "error",
     "traceback": [
      "\u001b[0;31m---------------------------------------------------------------------------\u001b[0m",
      "\u001b[0;31mTypeError\u001b[0m                                 Traceback (most recent call last)",
      "\u001b[0;32m<ipython-input-123-3e884e94961b>\u001b[0m in \u001b[0;36m<module>\u001b[0;34m()\u001b[0m\n\u001b[0;32m----> 1\u001b[0;31m \u001b[0mlist_1\u001b[0m\u001b[0;34m.\u001b[0m\u001b[0mpop\u001b[0m\u001b[0;34m(\u001b[0m\u001b[0;34m'2'\u001b[0m\u001b[0;34m)\u001b[0m \u001b[0;31m#试试这个？ 它能运行吗？\u001b[0m\u001b[0;34m\u001b[0m\u001b[0;34m\u001b[0m\u001b[0m\n\u001b[0m",
      "\u001b[0;31mTypeError\u001b[0m: 'str' object cannot be interpreted as an integer"
     ]
    }
   ],
   "source": [
    "list_1.pop('2') #试试这个？ 它能运行吗？"
   ]
  },
  {
   "cell_type": "code",
   "execution_count": 125,
   "metadata": {},
   "outputs": [
    {
     "data": {
      "text/plain": [
       "[4, '2', 'Python', ['how', 'are', 'you'], 'are', 'you']"
      ]
     },
     "execution_count": 125,
     "metadata": {},
     "output_type": "execute_result"
    }
   ],
   "source": [
    "# 如何根据元素的值删除指定元素？\n",
    "\n",
    "c = 2\n",
    "if c in list_1:\n",
    "    list_1.remove(c)\n",
    "\n",
    "list_1 # 注意2和'2'的区别！\n"
   ]
  },
  {
   "cell_type": "code",
   "execution_count": 129,
   "metadata": {},
   "outputs": [],
   "source": [
    "# dictionary {key:value}\n",
    "\n",
    "dict_1 = {'index0': 2, \n",
    "          'index1': 3, \n",
    "          'index2': '2',\n",
    "          'index3': 2}\n",
    "\n"
   ]
  },
  {
   "cell_type": "code",
   "execution_count": 130,
   "metadata": {},
   "outputs": [
    {
     "ename": "KeyError",
     "evalue": "1",
     "output_type": "error",
     "traceback": [
      "\u001b[0;31m---------------------------------------------------------------------------\u001b[0m",
      "\u001b[0;31mKeyError\u001b[0m                                  Traceback (most recent call last)",
      "\u001b[0;32m<ipython-input-130-10b291d3bbe8>\u001b[0m in \u001b[0;36m<module>\u001b[0;34m()\u001b[0m\n\u001b[0;32m----> 1\u001b[0;31m \u001b[0mprint\u001b[0m\u001b[0;34m(\u001b[0m\u001b[0mdict_1\u001b[0m\u001b[0;34m[\u001b[0m\u001b[0;36m1\u001b[0m\u001b[0;34m]\u001b[0m\u001b[0;34m)\u001b[0m\u001b[0;34m\u001b[0m\u001b[0;34m\u001b[0m\u001b[0m\n\u001b[0m",
      "\u001b[0;31mKeyError\u001b[0m: 1"
     ]
    }
   ],
   "source": [
    "print(dict_1[1])"
   ]
  },
  {
   "cell_type": "code",
   "execution_count": 132,
   "metadata": {},
   "outputs": [
    {
     "name": "stdout",
     "output_type": "stream",
     "text": [
      "dict_keys(['index0', 'index1', 'index2', 'index3'])\n"
     ]
    }
   ],
   "source": [
    "# print(dict_1[1])\n",
    "\n",
    "print(dict_1.keys())\n",
    "\n",
    "\n"
   ]
  },
  {
   "cell_type": "code",
   "execution_count": 135,
   "metadata": {},
   "outputs": [
    {
     "data": {
      "text/plain": [
       "3"
      ]
     },
     "execution_count": 135,
     "metadata": {},
     "output_type": "execute_result"
    }
   ],
   "source": [
    "dict_1['index1']"
   ]
  },
  {
   "cell_type": "code",
   "execution_count": 136,
   "metadata": {},
   "outputs": [
    {
     "data": {
      "text/plain": [
       "{'index0': 2,\n",
       " 'index1': 3,\n",
       " 'index2': '2',\n",
       " 'index3': 2,\n",
       " 'new_element': 'new value'}"
      ]
     },
     "execution_count": 136,
     "metadata": {},
     "output_type": "execute_result"
    }
   ],
   "source": [
    "## 向字典里添加元素：dict_name['new_element'] = 'new value'\n",
    "dict_1['new_element'] = 'new value'\n",
    "dict_1\n",
    "\n"
   ]
  },
  {
   "cell_type": "code",
   "execution_count": 137,
   "metadata": {},
   "outputs": [
    {
     "data": {
      "text/plain": [
       "{'index0': 2, 'index1': 3, 'index2': '2', 'index3': 2, 'new_element': '123123'}"
      ]
     },
     "execution_count": 137,
     "metadata": {},
     "output_type": "execute_result"
    }
   ],
   "source": [
    "dict_1['new_element'] = '123123' #修改键值对的值\n",
    "dict_1"
   ]
  },
  {
   "cell_type": "code",
   "execution_count": 106,
   "metadata": {},
   "outputs": [
    {
     "data": {
      "text/plain": [
       "{'index0': 2, 'index1': 3, 'index2': '2', 'index3': 2}"
      ]
     },
     "execution_count": 106,
     "metadata": {},
     "output_type": "execute_result"
    }
   ],
   "source": [
    "## 向字典里删除元素：\n",
    "del dict_1['new_element'] # 通过 del key 来 del 整个键值对\n",
    "dict_1\n",
    "\n",
    "\n"
   ]
  },
  {
   "cell_type": "code",
   "execution_count": 140,
   "metadata": {},
   "outputs": [
    {
     "data": {
      "text/plain": [
       "{1, '1', 2, 3, 6, 'a'}"
      ]
     },
     "execution_count": 140,
     "metadata": {},
     "output_type": "execute_result"
    }
   ],
   "source": [
    "## set 集合：无序，互异，确定性\n",
    "\n",
    "set_1 = set([3, 2, '1', 6, 1, 'a'])\n",
    "set_1\n",
    "\n",
    "\n",
    "# 注意：set 如何表示 {} or () 以及 无序性"
   ]
  },
  {
   "cell_type": "code",
   "execution_count": 141,
   "metadata": {},
   "outputs": [
    {
     "ename": "TypeError",
     "evalue": "'set' object does not support indexing",
     "output_type": "error",
     "traceback": [
      "\u001b[0;31m---------------------------------------------------------------------------\u001b[0m",
      "\u001b[0;31mTypeError\u001b[0m                                 Traceback (most recent call last)",
      "\u001b[0;32m<ipython-input-141-86901cfa1ec0>\u001b[0m in \u001b[0;36m<module>\u001b[0;34m()\u001b[0m\n\u001b[0;32m----> 1\u001b[0;31m \u001b[0mprint\u001b[0m\u001b[0;34m(\u001b[0m\u001b[0mset_1\u001b[0m\u001b[0;34m[\u001b[0m\u001b[0;36m1\u001b[0m\u001b[0;34m]\u001b[0m\u001b[0;34m)\u001b[0m\u001b[0;34m\u001b[0m\u001b[0;34m\u001b[0m\u001b[0m\n\u001b[0m",
      "\u001b[0;31mTypeError\u001b[0m: 'set' object does not support indexing"
     ]
    }
   ],
   "source": [
    " print(set_1[1])"
   ]
  },
  {
   "cell_type": "code",
   "execution_count": 142,
   "metadata": {},
   "outputs": [
    {
     "data": {
      "text/plain": [
       "{'a', 'b', 'e', 'h', 'l', 'p', 't'}"
      ]
     },
     "execution_count": 142,
     "metadata": {},
     "output_type": "execute_result"
    }
   ],
   "source": [
    "set_2 = set('alphabet')\n",
    "set_2 #?!\n",
    "\n",
    "\n"
   ]
  },
  {
   "cell_type": "code",
   "execution_count": 143,
   "metadata": {},
   "outputs": [
    {
     "name": "stdout",
     "output_type": "stream",
     "text": [
      "{'a'}\n",
      "\n",
      " {1, 2, 3, '1', 'a', 6, 'h', 'l', 'b', 'p', 'e', 't'}\n",
      "\n",
      " {'h', 'l', 'b', 'p', 'e', 't'}\n"
     ]
    }
   ],
   "source": [
    "# 集合运算\n",
    "print(set_1 & set_2) # ∩\n",
    "\n",
    "print('\\n', set_1 | set_2) # ∪\n",
    "\n",
    "print('\\n', set_2 - set_1)  # 在set_2但不在set_1里\n",
    "\n",
    "\n"
   ]
  },
  {
   "cell_type": "code",
   "execution_count": null,
   "metadata": {},
   "outputs": [],
   "source": [
    "#### references:\n",
    "# 1) introduction to data science for social and policy research - collecting and organizing data with R and Python\n",
    "# 2) https://github.com/stoive/pythontutorial\n",
    "# 3) Python 文本分析（机械工业出版社）\n",
    "# 4) https://automatetheboringstuff.com/\n"
   ]
  }
 ],
 "metadata": {
  "kernelspec": {
   "display_name": "Python 3.10.6 64-bit",
   "language": "python",
   "name": "python3"
  },
  "language_info": {
   "codemirror_mode": {
    "name": "ipython",
    "version": 3
   },
   "file_extension": ".py",
   "mimetype": "text/x-python",
   "name": "python",
   "nbconvert_exporter": "python",
   "pygments_lexer": "ipython3",
   "version": "3.10.6"
  },
  "vscode": {
   "interpreter": {
    "hash": "75ecd1a9698ab1e5b8e5273a3f8eebfdafa024a6119ea74078720fb9def1d71d"
   }
  }
 },
 "nbformat": 4,
 "nbformat_minor": 2
}
