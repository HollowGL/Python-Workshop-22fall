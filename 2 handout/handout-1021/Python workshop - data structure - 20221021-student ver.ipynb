{
 "cells": [
  {
   "cell_type": "markdown",
   "metadata": {},
   "source": [
    "#### 关于 清华大学计算社会科学平台\n",
    "\n",
    "为了提升清华计算社会科学研究的整体水平，营造“创新、共享、开放、合作”的大数据科研环境，打造大数据时代清华社会科学发展的独特品牌，2017年5月，清华大学社科学院决定联合清华其他社科类学院系、清华大学数据科学研究院建设“清华大学计算社会科学平台（Tsinghua-Computational Social Science Institution）”以服务于社科学院在“十三五”期间顺利实现“弯道超车”，建成国际一流社会科学的发展目标。\n",
    "\n",
    "“清华大学计算社会科学平台”将充分利用清华大学、大数据产业界、相关政府部门的多样化资源条件，组织经济学、心理学、社会学、政治学、国际关系等多学科研究团队系统地开展将大数据资源、大数据方法和大数据方案应用于社会科学研究，为社会科学研究范式转换、促进重大经济社会问题解决提供理论和应用知识。\n",
    "\n",
    "\n",
    "\n",
    "\n",
    "\n"
   ]
  },
  {
   "cell_type": "markdown",
   "metadata": {},
   "source": [
    "### 本节内容\n",
    "#### pandas包的使用\n"
   ]
  },
  {
   "cell_type": "code",
   "execution_count": 18,
   "metadata": {},
   "outputs": [
    {
     "ename": "NameError",
     "evalue": "name 'dict_1' is not defined",
     "output_type": "error",
     "traceback": [
      "\u001b[1;31m---------------------------------------------------------------------------\u001b[0m",
      "\u001b[1;31mNameError\u001b[0m                                 Traceback (most recent call last)",
      "Cell \u001b[1;32mIn [18], line 2\u001b[0m\n\u001b[0;32m      1\u001b[0m \u001b[39m## 向字典里添加元素：dict_name['new_element'] = 'new value'\u001b[39;00m\n\u001b[1;32m----> 2\u001b[0m dict_1[\u001b[39m'\u001b[39m\u001b[39mnew_key\u001b[39m\u001b[39m'\u001b[39m] \u001b[39m=\u001b[39m \u001b[39m'\u001b[39m\u001b[39mnew value\u001b[39m\u001b[39m'\u001b[39m\n\u001b[0;32m      3\u001b[0m dict_1\n",
      "\u001b[1;31mNameError\u001b[0m: name 'dict_1' is not defined"
     ]
    }
   ],
   "source": [
    "## 向字典里添加元素：dict_name['new_element'] = 'new value'\n",
    "dict_1['new_key'] = 'new value'\n",
    "dict_1\n",
    "\n"
   ]
  },
  {
   "cell_type": "markdown",
   "metadata": {},
   "source": [
    "#### 基础数据处理"
   ]
  },
  {
   "cell_type": "code",
   "execution_count": null,
   "metadata": {},
   "outputs": [
    {
     "data": {
      "text/plain": [
       "array([ 1.26041421,  0.72542566,  0.69852883,  0.12310086, -0.64947929,\n",
       "        0.2364085 ])"
      ]
     },
     "execution_count": 1,
     "metadata": {},
     "output_type": "execute_result"
    }
   ],
   "source": [
    "import numpy as np\n",
    "import pandas as pd\n",
    "import random # 帮助你 generate 随机数\n",
    "\n",
    "np.random.seed(3201) # 伪随机数 - 可复制性\n",
    "pd_item = np.random.randn(6)\n",
    "pd_item\n",
    "\n"
   ]
  },
  {
   "cell_type": "code",
   "execution_count": null,
   "metadata": {},
   "outputs": [
    {
     "data": {
      "text/plain": [
       "a    1.260414\n",
       "b    0.725426\n",
       "c    0.698529\n",
       "d    0.123101\n",
       "e   -0.649479\n",
       "f    0.236409\n",
       "Name: this_is_my_name, dtype: float64"
      ]
     },
     "execution_count": 2,
     "metadata": {},
     "output_type": "execute_result"
    }
   ],
   "source": [
    "# 把创建好的 item 放入数组 series 中\n",
    "\n",
    "s = pd.Series(pd_item, index = ['a', 'b', 'c', 'd', 'e', 'f'], name = \"this_is_my_name\")\n",
    "\n",
    "s"
   ]
  },
  {
   "cell_type": "code",
   "execution_count": null,
   "metadata": {},
   "outputs": [
    {
     "name": "stdout",
     "output_type": "stream",
     "text": [
      "this_is_my_name\n"
     ]
    }
   ],
   "source": [
    "print(s.name) # print out the name of this series\n"
   ]
  },
  {
   "cell_type": "code",
   "execution_count": null,
   "metadata": {},
   "outputs": [
    {
     "name": "stdout",
     "output_type": "stream",
     "text": [
      "index 为 0对应的： 1.260414210077518\n",
      "index 为 a对应的： 1.260414210077518\n"
     ]
    }
   ],
   "source": [
    "print('index 为 0对应的：', s[0])\n",
    "\n",
    "print('index 为 a对应的：', s['a'])\n",
    "\n"
   ]
  },
  {
   "cell_type": "code",
   "execution_count": null,
   "metadata": {},
   "outputs": [
    {
     "name": "stdout",
     "output_type": "stream",
     "text": [
      "False\n",
      "a    2.000000\n",
      "b    0.725426\n",
      "c    0.698529\n",
      "d    0.123101\n",
      "e   -0.649479\n",
      "f    0.236409\n",
      "Name: this_is_my_name, dtype: float64\n"
     ]
    }
   ],
   "source": [
    "print(s['a'] == 2) # 在此注意赋值的 ’=‘ 和 等号 ’==‘\n",
    "\n",
    "s['a'] = 2\n",
    "\n",
    "print(s)"
   ]
  },
  {
   "cell_type": "code",
   "execution_count": null,
   "metadata": {},
   "outputs": [
    {
     "data": {
      "text/plain": [
       "a    4.000000\n",
       "b    1.450851\n",
       "c    1.397058\n",
       "d    0.246202\n",
       "e   -1.298959\n",
       "f    0.472817\n",
       "Name: this_is_my_name, dtype: float64"
      ]
     },
     "execution_count": 6,
     "metadata": {},
     "output_type": "execute_result"
    }
   ],
   "source": [
    "s + s # 对 series 进行运算\n",
    "\n"
   ]
  },
  {
   "cell_type": "code",
   "execution_count": null,
   "metadata": {},
   "outputs": [
    {
     "name": "stdout",
     "output_type": "stream",
     "text": [
      "a    4.000000\n",
      "b    0.526242\n",
      "c    0.487943\n",
      "d    0.015154\n",
      "e    0.421823\n",
      "f    0.055889\n",
      "Name: this_is_my_name, dtype: float64\n",
      "a    2.000000\n",
      "b    0.725426\n",
      "c    0.698529\n",
      "d    0.123101\n",
      "e   -0.649479\n",
      "f    0.236409\n",
      "Name: this_is_my_name, dtype: float64\n"
     ]
    }
   ],
   "source": [
    "print(s * s)\n",
    "print(s) # s 是否变化？\n"
   ]
  },
  {
   "cell_type": "markdown",
   "metadata": {},
   "source": [
    "#### about 'iloc' and 'loc'\n",
    "#### - use iloc to index “index position”\n",
    "#### - use loc to index labels"
   ]
  },
  {
   "cell_type": "code",
   "execution_count": null,
   "metadata": {},
   "outputs": [
    {
     "name": "stdout",
     "output_type": "stream",
     "text": [
      "a    2.0\n",
      "Name: this_is_my_name, dtype: float64 \n",
      "\n"
     ]
    }
   ],
   "source": [
    "print(s.iloc[:1], '\\n')\n",
    "\n",
    "# : = select all data across rows/columns.\n",
    "# 0:3 will select row/column 0, 1 and 2, 3 excluded. \n",
    "\n",
    "\n",
    "\n"
   ]
  },
  {
   "cell_type": "code",
   "execution_count": null,
   "metadata": {},
   "outputs": [
    {
     "name": "stdout",
     "output_type": "stream",
     "text": [
      "0.7254256611129096 \n",
      "\n"
     ]
    }
   ],
   "source": [
    "print(s.iloc[1], '\\n')"
   ]
  },
  {
   "cell_type": "code",
   "execution_count": null,
   "metadata": {},
   "outputs": [
    {
     "name": "stdout",
     "output_type": "stream",
     "text": [
      "b    0.725426\n",
      "c    0.698529\n",
      "d    0.123101\n",
      "e   -0.649479\n",
      "f    0.236409\n",
      "Name: this_is_my_name, dtype: float64\n"
     ]
    }
   ],
   "source": [
    "print(s.iloc[1:])"
   ]
  },
  {
   "cell_type": "code",
   "execution_count": null,
   "metadata": {},
   "outputs": [],
   "source": [
    "# print(s.loc['a'])\n",
    "# print(s.loc[1])"
   ]
  },
  {
   "cell_type": "code",
   "execution_count": null,
   "metadata": {},
   "outputs": [],
   "source": [
    "# 从单一series 到 多个series\n",
    "\n",
    "# {key: value}\n",
    "d = {\n",
    "    \"one\": pd.Series([1.0, 2.0, 1.5, 5.0], index = ['a', 'b', 'c', 'd']),\n",
    "    \"two\": pd.Series([1.0, 2.0, 3.0, 4.0], index = ['a', 'b', 'c', 'd']),\n",
    "}\n"
   ]
  },
  {
   "cell_type": "code",
   "execution_count": null,
   "metadata": {},
   "outputs": [
    {
     "name": "stdout",
     "output_type": "stream",
     "text": [
      "{'one': a    1.0\n",
      "b    2.0\n",
      "c    1.5\n",
      "d    5.0\n",
      "dtype: float64, 'two': a    1.0\n",
      "b    2.0\n",
      "c    3.0\n",
      "d    4.0\n",
      "dtype: float64}\n"
     ]
    }
   ],
   "source": [
    "print(d)"
   ]
  },
  {
   "cell_type": "code",
   "execution_count": null,
   "metadata": {},
   "outputs": [],
   "source": [
    "df = pd.DataFrame(d) # 把 series 转化为 dataframe"
   ]
  },
  {
   "cell_type": "code",
   "execution_count": null,
   "metadata": {},
   "outputs": [
    {
     "data": {
      "text/html": [
       "<div>\n",
       "<style scoped>\n",
       "    .dataframe tbody tr th:only-of-type {\n",
       "        vertical-align: middle;\n",
       "    }\n",
       "\n",
       "    .dataframe tbody tr th {\n",
       "        vertical-align: top;\n",
       "    }\n",
       "\n",
       "    .dataframe thead th {\n",
       "        text-align: right;\n",
       "    }\n",
       "</style>\n",
       "<table border=\"1\" class=\"dataframe\">\n",
       "  <thead>\n",
       "    <tr style=\"text-align: right;\">\n",
       "      <th></th>\n",
       "      <th>one</th>\n",
       "      <th>two</th>\n",
       "    </tr>\n",
       "  </thead>\n",
       "  <tbody>\n",
       "    <tr>\n",
       "      <th>a</th>\n",
       "      <td>1.0</td>\n",
       "      <td>1.0</td>\n",
       "    </tr>\n",
       "    <tr>\n",
       "      <th>b</th>\n",
       "      <td>2.0</td>\n",
       "      <td>2.0</td>\n",
       "    </tr>\n",
       "    <tr>\n",
       "      <th>c</th>\n",
       "      <td>1.5</td>\n",
       "      <td>3.0</td>\n",
       "    </tr>\n",
       "    <tr>\n",
       "      <th>d</th>\n",
       "      <td>5.0</td>\n",
       "      <td>4.0</td>\n",
       "    </tr>\n",
       "  </tbody>\n",
       "</table>\n",
       "</div>"
      ],
      "text/plain": [
       "   one  two\n",
       "a  1.0  1.0\n",
       "b  2.0  2.0\n",
       "c  1.5  3.0\n",
       "d  5.0  4.0"
      ]
     },
     "execution_count": 15,
     "metadata": {},
     "output_type": "execute_result"
    }
   ],
   "source": [
    "df\n"
   ]
  },
  {
   "cell_type": "code",
   "execution_count": null,
   "metadata": {},
   "outputs": [
    {
     "name": "stdout",
     "output_type": "stream",
     "text": [
      "a    2.000000\n",
      "b    0.725426\n",
      "c    0.698529\n",
      "d    0.123101\n",
      "e   -0.649479\n",
      "f    0.236409\n",
      "Name: this_is_my_name, dtype: float64\n"
     ]
    }
   ],
   "source": [
    "print(s)"
   ]
  },
  {
   "cell_type": "code",
   "execution_count": null,
   "metadata": {},
   "outputs": [
    {
     "data": {
      "text/plain": [
       "Index(['a', 'b', 'c', 'd'], dtype='object')"
      ]
     },
     "execution_count": 16,
     "metadata": {},
     "output_type": "execute_result"
    }
   ],
   "source": [
    "df.index # row\n"
   ]
  },
  {
   "cell_type": "code",
   "execution_count": null,
   "metadata": {},
   "outputs": [
    {
     "data": {
      "text/plain": [
       "Index(['one', 'two'], dtype='object')"
      ]
     },
     "execution_count": 33,
     "metadata": {},
     "output_type": "execute_result"
    }
   ],
   "source": [
    "df.columns # column\n"
   ]
  },
  {
   "cell_type": "code",
   "execution_count": null,
   "metadata": {},
   "outputs": [
    {
     "data": {
      "text/html": [
       "<div>\n",
       "<style scoped>\n",
       "    .dataframe tbody tr th:only-of-type {\n",
       "        vertical-align: middle;\n",
       "    }\n",
       "\n",
       "    .dataframe tbody tr th {\n",
       "        vertical-align: top;\n",
       "    }\n",
       "\n",
       "    .dataframe thead th {\n",
       "        text-align: right;\n",
       "    }\n",
       "</style>\n",
       "<table border=\"1\" class=\"dataframe\">\n",
       "  <thead>\n",
       "    <tr style=\"text-align: right;\">\n",
       "      <th></th>\n",
       "      <th>one</th>\n",
       "      <th>two</th>\n",
       "    </tr>\n",
       "  </thead>\n",
       "  <tbody>\n",
       "    <tr>\n",
       "      <th>d</th>\n",
       "      <td>5.0</td>\n",
       "      <td>4.0</td>\n",
       "    </tr>\n",
       "    <tr>\n",
       "      <th>b</th>\n",
       "      <td>2.0</td>\n",
       "      <td>2.0</td>\n",
       "    </tr>\n",
       "    <tr>\n",
       "      <th>c</th>\n",
       "      <td>1.5</td>\n",
       "      <td>3.0</td>\n",
       "    </tr>\n",
       "    <tr>\n",
       "      <th>a</th>\n",
       "      <td>1.0</td>\n",
       "      <td>1.0</td>\n",
       "    </tr>\n",
       "  </tbody>\n",
       "</table>\n",
       "</div>"
      ],
      "text/plain": [
       "   one  two\n",
       "d  5.0  4.0\n",
       "b  2.0  2.0\n",
       "c  1.5  3.0\n",
       "a  1.0  1.0"
      ]
     },
     "execution_count": 34,
     "metadata": {},
     "output_type": "execute_result"
    }
   ],
   "source": [
    "# column排序\n",
    "df.sort_values(by = 'one', ascending = False) # by = 'two'\n"
   ]
  },
  {
   "cell_type": "markdown",
   "metadata": {},
   "source": [
    "关于pandas包中的函数使用方法见 https://pandas.pydata.org/pandas-docs/stable/reference/api/pandas.DataFrame.sort_values.html"
   ]
  },
  {
   "cell_type": "code",
   "execution_count": null,
   "metadata": {},
   "outputs": [
    {
     "data": {
      "text/html": [
       "<div>\n",
       "<style scoped>\n",
       "    .dataframe tbody tr th:only-of-type {\n",
       "        vertical-align: middle;\n",
       "    }\n",
       "\n",
       "    .dataframe tbody tr th {\n",
       "        vertical-align: top;\n",
       "    }\n",
       "\n",
       "    .dataframe thead th {\n",
       "        text-align: right;\n",
       "    }\n",
       "</style>\n",
       "<table border=\"1\" class=\"dataframe\">\n",
       "  <thead>\n",
       "    <tr style=\"text-align: right;\">\n",
       "      <th></th>\n",
       "      <th>one</th>\n",
       "      <th>two</th>\n",
       "    </tr>\n",
       "  </thead>\n",
       "  <tbody>\n",
       "    <tr>\n",
       "      <th>d</th>\n",
       "      <td>5.0</td>\n",
       "      <td>4.0</td>\n",
       "    </tr>\n",
       "    <tr>\n",
       "      <th>c</th>\n",
       "      <td>1.5</td>\n",
       "      <td>3.0</td>\n",
       "    </tr>\n",
       "    <tr>\n",
       "      <th>b</th>\n",
       "      <td>2.0</td>\n",
       "      <td>2.0</td>\n",
       "    </tr>\n",
       "    <tr>\n",
       "      <th>a</th>\n",
       "      <td>1.0</td>\n",
       "      <td>1.0</td>\n",
       "    </tr>\n",
       "  </tbody>\n",
       "</table>\n",
       "</div>"
      ],
      "text/plain": [
       "   one  two\n",
       "d  5.0  4.0\n",
       "c  1.5  3.0\n",
       "b  2.0  2.0\n",
       "a  1.0  1.0"
      ]
     },
     "execution_count": 35,
     "metadata": {},
     "output_type": "execute_result"
    }
   ],
   "source": [
    "# 按轴排序\n",
    "\n",
    "df.sort_index(axis = 0, ascending = False) \n",
    "\n",
    "# axis = 0 是指沿着（along）第0个维度进行运算，纵向（axis = 0）, 横向（axis = 1）\n"
   ]
  },
  {
   "cell_type": "code",
   "execution_count": null,
   "metadata": {},
   "outputs": [
    {
     "name": "stdout",
     "output_type": "stream",
     "text": [
      "   one\n",
      "a  1.0\n",
      "b  2.0\n",
      "c  1.5 \n",
      " <class 'pandas.core.frame.DataFrame'>\n"
     ]
    }
   ],
   "source": [
    "# loc 用标签选择数据：\n",
    "\n",
    "print(df.loc['a':'c', ['one']], '\\n', type(df.loc[:, ['one']])) # 如果选择多列，要使用 ['one', 'two']\n",
    "\n",
    "\n"
   ]
  },
  {
   "cell_type": "code",
   "execution_count": null,
   "metadata": {},
   "outputs": [
    {
     "name": "stdout",
     "output_type": "stream",
     "text": [
      "a    1.0\n",
      "b    2.0\n",
      "c    1.5\n",
      "d    5.0\n",
      "Name: one, dtype: float64\n",
      "\n",
      " <class 'pandas.core.series.Series'>\n"
     ]
    }
   ],
   "source": [
    "print(df.loc[:, 'one'])# 如果在这里改成‘one’， ‘two’ 会怎么样呢？\n",
    "\n",
    "print('\\n', type(df.loc[:, 'one'])) # 注意这个部分的 type\n"
   ]
  },
  {
   "cell_type": "code",
   "execution_count": 20,
   "metadata": {},
   "outputs": [
    {
     "name": "stdout",
     "output_type": "stream",
     "text": [
      "c:\\Users\\guil\\Desktop\\Python-Workshop-22fall\\2 handout-1021\\handout-1021\n"
     ]
    }
   ],
   "source": [
    "# how to read dataframe\n",
    "# read data.frame\n",
    "\n",
    "\n",
    "import os # looking for path\n",
    "\n",
    "\n",
    "folder_for_data = os.getcwd() # see os.getcwd() current working directory\n",
    "\n",
    "print(os.getcwd())\n"
   ]
  },
  {
   "cell_type": "code",
   "execution_count": 21,
   "metadata": {},
   "outputs": [
    {
     "name": "stdout",
     "output_type": "stream",
     "text": [
      "c:\\Users\\guil\\Desktop\\Python-Workshop-22fall\\2 handout-1021\\handout-1021\\ufo.csv\n"
     ]
    },
    {
     "data": {
      "text/html": [
       "<div>\n",
       "<style scoped>\n",
       "    .dataframe tbody tr th:only-of-type {\n",
       "        vertical-align: middle;\n",
       "    }\n",
       "\n",
       "    .dataframe tbody tr th {\n",
       "        vertical-align: top;\n",
       "    }\n",
       "\n",
       "    .dataframe thead th {\n",
       "        text-align: right;\n",
       "    }\n",
       "</style>\n",
       "<table border=\"1\" class=\"dataframe\">\n",
       "  <thead>\n",
       "    <tr style=\"text-align: right;\">\n",
       "      <th></th>\n",
       "      <th>City</th>\n",
       "      <th>Colors Reported</th>\n",
       "      <th>Shape Reported</th>\n",
       "      <th>State</th>\n",
       "      <th>Time</th>\n",
       "    </tr>\n",
       "  </thead>\n",
       "  <tbody>\n",
       "    <tr>\n",
       "      <th>0</th>\n",
       "      <td>Ithaca</td>\n",
       "      <td>NaN</td>\n",
       "      <td>TRIANGLE</td>\n",
       "      <td>NY</td>\n",
       "      <td>6/1/1930 22:00</td>\n",
       "    </tr>\n",
       "    <tr>\n",
       "      <th>1</th>\n",
       "      <td>Willingboro</td>\n",
       "      <td>NaN</td>\n",
       "      <td>OTHER</td>\n",
       "      <td>NJ</td>\n",
       "      <td>6/30/1930 20:00</td>\n",
       "    </tr>\n",
       "    <tr>\n",
       "      <th>2</th>\n",
       "      <td>Holyoke</td>\n",
       "      <td>NaN</td>\n",
       "      <td>OVAL</td>\n",
       "      <td>CO</td>\n",
       "      <td>2/15/1931 14:00</td>\n",
       "    </tr>\n",
       "    <tr>\n",
       "      <th>3</th>\n",
       "      <td>Abilene</td>\n",
       "      <td>NaN</td>\n",
       "      <td>DISK</td>\n",
       "      <td>KS</td>\n",
       "      <td>6/1/1931 13:00</td>\n",
       "    </tr>\n",
       "    <tr>\n",
       "      <th>4</th>\n",
       "      <td>New York Worlds Fair</td>\n",
       "      <td>NaN</td>\n",
       "      <td>LIGHT</td>\n",
       "      <td>NY</td>\n",
       "      <td>4/18/1933 19:00</td>\n",
       "    </tr>\n",
       "  </tbody>\n",
       "</table>\n",
       "</div>"
      ],
      "text/plain": [
       "                   City Colors Reported Shape Reported State             Time\n",
       "0                Ithaca             NaN       TRIANGLE    NY   6/1/1930 22:00\n",
       "1           Willingboro             NaN          OTHER    NJ  6/30/1930 20:00\n",
       "2               Holyoke             NaN           OVAL    CO  2/15/1931 14:00\n",
       "3               Abilene             NaN           DISK    KS   6/1/1931 13:00\n",
       "4  New York Worlds Fair             NaN          LIGHT    NY  4/18/1933 19:00"
      ]
     },
     "execution_count": 21,
     "metadata": {},
     "output_type": "execute_result"
    }
   ],
   "source": [
    "file_path = os.path.join(folder_for_data, 'ufo.csv') \n",
    "\n",
    "print(file_path)\n",
    "\n",
    "# print(file_path) ## what do you see?\n",
    "\n",
    "data = pd.read_csv(file_path, encoding = 'utf-8') # encoding: python要按照utf-8编码的方式来读取程序\n",
    "\n",
    "data.head() # first five observations; and then try data.tail()\n"
   ]
  },
  {
   "cell_type": "code",
   "execution_count": 40,
   "metadata": {},
   "outputs": [
    {
     "name": "stdout",
     "output_type": "stream",
     "text": [
      "<class 'pandas.core.frame.DataFrame'>\n",
      "RangeIndex: 18241 entries, 0 to 18240\n",
      "Data columns (total 5 columns):\n",
      " #   Column           Non-Null Count  Dtype \n",
      "---  ------           --------------  ----- \n",
      " 0   City             18216 non-null  object\n",
      " 1   Colors Reported  2882 non-null   object\n",
      " 2   Shape Reported   15597 non-null  object\n",
      " 3   State            18241 non-null  object\n",
      " 4   Time             18241 non-null  object\n",
      "dtypes: object(5)\n",
      "memory usage: 712.7+ KB\n"
     ]
    }
   ],
   "source": [
    "# check data property\n",
    "data.info()\n"
   ]
  },
  {
   "cell_type": "code",
   "execution_count": 41,
   "metadata": {},
   "outputs": [
    {
     "data": {
      "text/plain": [
       "0                  Ithaca\n",
       "1             Willingboro\n",
       "2                 Holyoke\n",
       "3                 Abilene\n",
       "4    New York Worlds Fair\n",
       "Name: City, dtype: object"
      ]
     },
     "execution_count": 41,
     "metadata": {},
     "output_type": "execute_result"
    }
   ],
   "source": [
    "# how to select...\n",
    "data['City'].head()\n"
   ]
  },
  {
   "cell_type": "code",
   "execution_count": 42,
   "metadata": {},
   "outputs": [
    {
     "name": "stdout",
     "output_type": "stream",
     "text": [
      "City                   Willingboro\n",
      "Colors Reported                NaN\n",
      "Shape Reported               OTHER\n",
      "State                           NJ\n",
      "Time               6/30/1930 20:00\n",
      "Name: 1, dtype: object\n"
     ]
    }
   ],
   "source": [
    "print(data.iloc[1]) # how many observations did you print?\n",
    "\n",
    "# print(data.iloc[1:3])\n"
   ]
  },
  {
   "cell_type": "code",
   "execution_count": 43,
   "metadata": {},
   "outputs": [
    {
     "data": {
      "text/plain": [
       "True"
      ]
     },
     "execution_count": 43,
     "metadata": {},
     "output_type": "execute_result"
    }
   ],
   "source": [
    "#### check if there are missing values in the table\n",
    "\n",
    "data['City'].isna().any()\n",
    "\n"
   ]
  },
  {
   "cell_type": "code",
   "execution_count": 44,
   "metadata": {},
   "outputs": [
    {
     "data": {
      "text/plain": [
       "City                  25\n",
       "Colors Reported    15359\n",
       "Shape Reported      2644\n",
       "State                  0\n",
       "Time                   0\n",
       "dtype: int64"
      ]
     },
     "execution_count": 44,
     "metadata": {},
     "output_type": "execute_result"
    }
   ],
   "source": [
    "data.isna().sum()"
   ]
  },
  {
   "cell_type": "code",
   "execution_count": 45,
   "metadata": {},
   "outputs": [
    {
     "name": "stdout",
     "output_type": "stream",
     "text": [
      "(array([   21,    22,   204,   241,   613,  1877,  2013,  2546,  3123,\n",
      "        4736,  5269,  6735,  7208,  8828,  8967,  9273,  9388,  9587,\n",
      "       10399, 11625, 12441, 15767, 15812, 16054, 16608]),)\n"
     ]
    }
   ],
   "source": [
    "# 如何了解哪些是missing？\n",
    "result = data['City'].isnull().to_numpy().nonzero() \n",
    "print(result)"
   ]
  },
  {
   "cell_type": "code",
   "execution_count": 46,
   "metadata": {},
   "outputs": [
    {
     "name": "stdout",
     "output_type": "stream",
     "text": [
      "0                  Ithaca\n",
      "1             Willingboro\n",
      "2                 Holyoke\n",
      "3                 Abilene\n",
      "4    New York Worlds Fair\n",
      "Name: City, dtype: object\n"
     ]
    },
    {
     "data": {
      "text/html": [
       "<div>\n",
       "<style scoped>\n",
       "    .dataframe tbody tr th:only-of-type {\n",
       "        vertical-align: middle;\n",
       "    }\n",
       "\n",
       "    .dataframe tbody tr th {\n",
       "        vertical-align: top;\n",
       "    }\n",
       "\n",
       "    .dataframe thead th {\n",
       "        text-align: right;\n",
       "    }\n",
       "</style>\n",
       "<table border=\"1\" class=\"dataframe\">\n",
       "  <thead>\n",
       "    <tr style=\"text-align: right;\">\n",
       "      <th></th>\n",
       "      <th>City</th>\n",
       "      <th>Colors Reported</th>\n",
       "      <th>Shape Reported</th>\n",
       "      <th>State</th>\n",
       "      <th>Time</th>\n",
       "    </tr>\n",
       "  </thead>\n",
       "  <tbody>\n",
       "    <tr>\n",
       "      <th>0</th>\n",
       "      <td>Ithaca</td>\n",
       "      <td>NaN</td>\n",
       "      <td>TRIANGLE</td>\n",
       "      <td>NY</td>\n",
       "      <td>6/1/1930 22:00</td>\n",
       "    </tr>\n",
       "    <tr>\n",
       "      <th>1</th>\n",
       "      <td>Willingboro</td>\n",
       "      <td>NaN</td>\n",
       "      <td>OTHER</td>\n",
       "      <td>NJ</td>\n",
       "      <td>6/30/1930 20:00</td>\n",
       "    </tr>\n",
       "    <tr>\n",
       "      <th>2</th>\n",
       "      <td>Holyoke</td>\n",
       "      <td>NaN</td>\n",
       "      <td>OVAL</td>\n",
       "      <td>CO</td>\n",
       "      <td>2/15/1931 14:00</td>\n",
       "    </tr>\n",
       "    <tr>\n",
       "      <th>3</th>\n",
       "      <td>Abilene</td>\n",
       "      <td>NaN</td>\n",
       "      <td>DISK</td>\n",
       "      <td>KS</td>\n",
       "      <td>6/1/1931 13:00</td>\n",
       "    </tr>\n",
       "    <tr>\n",
       "      <th>4</th>\n",
       "      <td>New York Worlds Fair</td>\n",
       "      <td>NaN</td>\n",
       "      <td>LIGHT</td>\n",
       "      <td>NY</td>\n",
       "      <td>4/18/1933 19:00</td>\n",
       "    </tr>\n",
       "  </tbody>\n",
       "</table>\n",
       "</div>"
      ],
      "text/plain": [
       "                   City Colors Reported Shape Reported State             Time\n",
       "0                Ithaca             NaN       TRIANGLE    NY   6/1/1930 22:00\n",
       "1           Willingboro             NaN          OTHER    NJ  6/30/1930 20:00\n",
       "2               Holyoke             NaN           OVAL    CO  2/15/1931 14:00\n",
       "3               Abilene             NaN           DISK    KS   6/1/1931 13:00\n",
       "4  New York Worlds Fair             NaN          LIGHT    NY  4/18/1933 19:00"
      ]
     },
     "execution_count": 46,
     "metadata": {},
     "output_type": "execute_result"
    }
   ],
   "source": [
    "print(data.iloc[:,0].head()) \n",
    "data.head()"
   ]
  },
  {
   "cell_type": "code",
   "execution_count": 47,
   "metadata": {},
   "outputs": [
    {
     "data": {
      "text/html": [
       "<div>\n",
       "<style scoped>\n",
       "    .dataframe tbody tr th:only-of-type {\n",
       "        vertical-align: middle;\n",
       "    }\n",
       "\n",
       "    .dataframe tbody tr th {\n",
       "        vertical-align: top;\n",
       "    }\n",
       "\n",
       "    .dataframe thead th {\n",
       "        text-align: right;\n",
       "    }\n",
       "</style>\n",
       "<table border=\"1\" class=\"dataframe\">\n",
       "  <thead>\n",
       "    <tr style=\"text-align: right;\">\n",
       "      <th></th>\n",
       "      <th>Colors Reported</th>\n",
       "      <th>Shape Reported</th>\n",
       "    </tr>\n",
       "  </thead>\n",
       "  <tbody>\n",
       "    <tr>\n",
       "      <th>0</th>\n",
       "      <td>NaN</td>\n",
       "      <td>TRIANGLE</td>\n",
       "    </tr>\n",
       "    <tr>\n",
       "      <th>1</th>\n",
       "      <td>NaN</td>\n",
       "      <td>OTHER</td>\n",
       "    </tr>\n",
       "    <tr>\n",
       "      <th>2</th>\n",
       "      <td>NaN</td>\n",
       "      <td>OVAL</td>\n",
       "    </tr>\n",
       "    <tr>\n",
       "      <th>3</th>\n",
       "      <td>NaN</td>\n",
       "      <td>DISK</td>\n",
       "    </tr>\n",
       "    <tr>\n",
       "      <th>4</th>\n",
       "      <td>NaN</td>\n",
       "      <td>LIGHT</td>\n",
       "    </tr>\n",
       "  </tbody>\n",
       "</table>\n",
       "</div>"
      ],
      "text/plain": [
       "  Colors Reported Shape Reported\n",
       "0             NaN       TRIANGLE\n",
       "1             NaN          OTHER\n",
       "2             NaN           OVAL\n",
       "3             NaN           DISK\n",
       "4             NaN          LIGHT"
      ]
     },
     "execution_count": 47,
     "metadata": {},
     "output_type": "execute_result"
    }
   ],
   "source": [
    "data.iloc[:,1:3].head() # guess what do you have?"
   ]
  },
  {
   "cell_type": "code",
   "execution_count": 48,
   "metadata": {},
   "outputs": [
    {
     "name": "stdout",
     "output_type": "stream",
     "text": [
      "          City Colors Reported Shape Reported State             Time\n",
      "1  Willingboro             NaN          OTHER    NJ  6/30/1930 20:00\n",
      "2      Holyoke             NaN           OVAL    CO  2/15/1931 14:00\n"
     ]
    }
   ],
   "source": [
    "print(data.iloc[1:3])\n"
   ]
  },
  {
   "cell_type": "code",
   "execution_count": 49,
   "metadata": {},
   "outputs": [
    {
     "name": "stdout",
     "output_type": "stream",
     "text": [
      "                   City State\n",
      "0                Ithaca    NY\n",
      "1           Willingboro    NJ\n",
      "2               Holyoke    CO\n",
      "3               Abilene    KS\n",
      "4  New York Worlds Fair    NY \n",
      "\n"
     ]
    }
   ],
   "source": [
    "# select columns by variable name + check structure of your dataset\n",
    "\n",
    "print(data[['City', 'State']].head(), '\\n')\n"
   ]
  },
  {
   "cell_type": "code",
   "execution_count": 50,
   "metadata": {},
   "outputs": [
    {
     "name": "stdout",
     "output_type": "stream",
     "text": [
      "(18241, 2)\n"
     ]
    }
   ],
   "source": [
    "print(data[['City', 'State']].shape) # dimension"
   ]
  },
  {
   "cell_type": "markdown",
   "metadata": {},
   "source": [
    "#### 时间 datetime"
   ]
  },
  {
   "cell_type": "code",
   "execution_count": 51,
   "metadata": {},
   "outputs": [
    {
     "name": "stdout",
     "output_type": "stream",
     "text": [
      "2022-10-21 16:49:14.337805 <class 'datetime.datetime'>\n"
     ]
    }
   ],
   "source": [
    "import datetime # import datetime 模块\n",
    "from datetime import datetime\n",
    "\n",
    "now = datetime.now()\n",
    "print(now, type(now))"
   ]
  },
  {
   "cell_type": "code",
   "execution_count": 52,
   "metadata": {},
   "outputs": [
    {
     "name": "stdout",
     "output_type": "stream",
     "text": [
      "Fri, Oct 21, 2022 16:49 <class 'str'>\n"
     ]
    }
   ],
   "source": [
    "print(now.strftime('%a, %b %d, %Y %H:%M'), type(now.strftime('%a, %b %d, %Y %H:%M')))"
   ]
  },
  {
   "cell_type": "code",
   "execution_count": 53,
   "metadata": {},
   "outputs": [
    {
     "name": "stdout",
     "output_type": "stream",
     "text": [
      "6/30/1930 20:00 <class 'str'>\n"
     ]
    }
   ],
   "source": [
    "print(data['Time'][1], type(data['Time'][1]))\n"
   ]
  },
  {
   "cell_type": "code",
   "execution_count": 54,
   "metadata": {},
   "outputs": [
    {
     "name": "stdout",
     "output_type": "stream",
     "text": [
      "1930-06-30 20:00:00 <class 'datetime.datetime'>\n"
     ]
    }
   ],
   "source": [
    "# 先将string 转化为 datetime\n",
    "transformed = datetime.strptime(data['Time'][1], '%m/%d/%Y %H:%M')\n",
    "print(transformed, type(transformed))"
   ]
  },
  {
   "cell_type": "code",
   "execution_count": 55,
   "metadata": {},
   "outputs": [
    {
     "name": "stdout",
     "output_type": "stream",
     "text": [
      "Mon, Jun 30, 1930 20:00 <class 'str'>\n"
     ]
    }
   ],
   "source": [
    "transformed_new = transformed.strftime('%a, %b %d, %Y %H:%M')\n",
    "print(transformed_new, type(transformed_new))\n"
   ]
  },
  {
   "cell_type": "code",
   "execution_count": 56,
   "metadata": {},
   "outputs": [],
   "source": [
    "data['Time_new'] = data['Time'].apply(lambda apple: datetime.strptime(apple, \"%m/%d/%Y %H:%M\").strftime(\"%a, %b %d, %Y %H:%M\"))\n",
    "\n",
    "# p-parse; f-format"
   ]
  },
  {
   "cell_type": "code",
   "execution_count": 57,
   "metadata": {},
   "outputs": [
    {
     "data": {
      "text/html": [
       "<div>\n",
       "<style scoped>\n",
       "    .dataframe tbody tr th:only-of-type {\n",
       "        vertical-align: middle;\n",
       "    }\n",
       "\n",
       "    .dataframe tbody tr th {\n",
       "        vertical-align: top;\n",
       "    }\n",
       "\n",
       "    .dataframe thead th {\n",
       "        text-align: right;\n",
       "    }\n",
       "</style>\n",
       "<table border=\"1\" class=\"dataframe\">\n",
       "  <thead>\n",
       "    <tr style=\"text-align: right;\">\n",
       "      <th></th>\n",
       "      <th>City</th>\n",
       "      <th>Colors Reported</th>\n",
       "      <th>Shape Reported</th>\n",
       "      <th>State</th>\n",
       "      <th>Time</th>\n",
       "      <th>Time_new</th>\n",
       "    </tr>\n",
       "  </thead>\n",
       "  <tbody>\n",
       "    <tr>\n",
       "      <th>0</th>\n",
       "      <td>Ithaca</td>\n",
       "      <td>NaN</td>\n",
       "      <td>TRIANGLE</td>\n",
       "      <td>NY</td>\n",
       "      <td>6/1/1930 22:00</td>\n",
       "      <td>Sun, Jun 01, 1930 22:00</td>\n",
       "    </tr>\n",
       "    <tr>\n",
       "      <th>1</th>\n",
       "      <td>Willingboro</td>\n",
       "      <td>NaN</td>\n",
       "      <td>OTHER</td>\n",
       "      <td>NJ</td>\n",
       "      <td>6/30/1930 20:00</td>\n",
       "      <td>Mon, Jun 30, 1930 20:00</td>\n",
       "    </tr>\n",
       "    <tr>\n",
       "      <th>2</th>\n",
       "      <td>Holyoke</td>\n",
       "      <td>NaN</td>\n",
       "      <td>OVAL</td>\n",
       "      <td>CO</td>\n",
       "      <td>2/15/1931 14:00</td>\n",
       "      <td>Sun, Feb 15, 1931 14:00</td>\n",
       "    </tr>\n",
       "    <tr>\n",
       "      <th>3</th>\n",
       "      <td>Abilene</td>\n",
       "      <td>NaN</td>\n",
       "      <td>DISK</td>\n",
       "      <td>KS</td>\n",
       "      <td>6/1/1931 13:00</td>\n",
       "      <td>Mon, Jun 01, 1931 13:00</td>\n",
       "    </tr>\n",
       "    <tr>\n",
       "      <th>4</th>\n",
       "      <td>New York Worlds Fair</td>\n",
       "      <td>NaN</td>\n",
       "      <td>LIGHT</td>\n",
       "      <td>NY</td>\n",
       "      <td>4/18/1933 19:00</td>\n",
       "      <td>Tue, Apr 18, 1933 19:00</td>\n",
       "    </tr>\n",
       "  </tbody>\n",
       "</table>\n",
       "</div>"
      ],
      "text/plain": [
       "                   City Colors Reported Shape Reported State             Time  \\\n",
       "0                Ithaca             NaN       TRIANGLE    NY   6/1/1930 22:00   \n",
       "1           Willingboro             NaN          OTHER    NJ  6/30/1930 20:00   \n",
       "2               Holyoke             NaN           OVAL    CO  2/15/1931 14:00   \n",
       "3               Abilene             NaN           DISK    KS   6/1/1931 13:00   \n",
       "4  New York Worlds Fair             NaN          LIGHT    NY  4/18/1933 19:00   \n",
       "\n",
       "                  Time_new  \n",
       "0  Sun, Jun 01, 1930 22:00  \n",
       "1  Mon, Jun 30, 1930 20:00  \n",
       "2  Sun, Feb 15, 1931 14:00  \n",
       "3  Mon, Jun 01, 1931 13:00  \n",
       "4  Tue, Apr 18, 1933 19:00  "
      ]
     },
     "execution_count": 57,
     "metadata": {},
     "output_type": "execute_result"
    }
   ],
   "source": [
    "data.head()"
   ]
  },
  {
   "cell_type": "markdown",
   "metadata": {},
   "source": [
    "#### 建立/删除新变量："
   ]
  },
  {
   "cell_type": "code",
   "execution_count": 58,
   "metadata": {},
   "outputs": [
    {
     "data": {
      "text/plain": [
       "Index(['City', 'Colors Reported', 'Shape Reported', 'State', 'Time',\n",
       "       'Time_new'],\n",
       "      dtype='object')"
      ]
     },
     "execution_count": 58,
     "metadata": {},
     "output_type": "execute_result"
    }
   ],
   "source": [
    "# examine the column names\n",
    "\n",
    "data.columns\n",
    "\n"
   ]
  },
  {
   "cell_type": "code",
   "execution_count": 59,
   "metadata": {},
   "outputs": [
    {
     "data": {
      "text/html": [
       "<div>\n",
       "<style scoped>\n",
       "    .dataframe tbody tr th:only-of-type {\n",
       "        vertical-align: middle;\n",
       "    }\n",
       "\n",
       "    .dataframe tbody tr th {\n",
       "        vertical-align: top;\n",
       "    }\n",
       "\n",
       "    .dataframe thead th {\n",
       "        text-align: right;\n",
       "    }\n",
       "</style>\n",
       "<table border=\"1\" class=\"dataframe\">\n",
       "  <thead>\n",
       "    <tr style=\"text-align: right;\">\n",
       "      <th></th>\n",
       "      <th>City</th>\n",
       "      <th>Colors Reported</th>\n",
       "      <th>Shape Reported</th>\n",
       "      <th>State</th>\n",
       "      <th>Time</th>\n",
       "      <th>Time_new</th>\n",
       "      <th>Location</th>\n",
       "    </tr>\n",
       "  </thead>\n",
       "  <tbody>\n",
       "    <tr>\n",
       "      <th>0</th>\n",
       "      <td>Ithaca</td>\n",
       "      <td>NaN</td>\n",
       "      <td>TRIANGLE</td>\n",
       "      <td>NY</td>\n",
       "      <td>6/1/1930 22:00</td>\n",
       "      <td>Sun, Jun 01, 1930 22:00</td>\n",
       "      <td>Ithaca, NY</td>\n",
       "    </tr>\n",
       "    <tr>\n",
       "      <th>1</th>\n",
       "      <td>Willingboro</td>\n",
       "      <td>NaN</td>\n",
       "      <td>OTHER</td>\n",
       "      <td>NJ</td>\n",
       "      <td>6/30/1930 20:00</td>\n",
       "      <td>Mon, Jun 30, 1930 20:00</td>\n",
       "      <td>Willingboro, NJ</td>\n",
       "    </tr>\n",
       "    <tr>\n",
       "      <th>2</th>\n",
       "      <td>Holyoke</td>\n",
       "      <td>NaN</td>\n",
       "      <td>OVAL</td>\n",
       "      <td>CO</td>\n",
       "      <td>2/15/1931 14:00</td>\n",
       "      <td>Sun, Feb 15, 1931 14:00</td>\n",
       "      <td>Holyoke, CO</td>\n",
       "    </tr>\n",
       "    <tr>\n",
       "      <th>3</th>\n",
       "      <td>Abilene</td>\n",
       "      <td>NaN</td>\n",
       "      <td>DISK</td>\n",
       "      <td>KS</td>\n",
       "      <td>6/1/1931 13:00</td>\n",
       "      <td>Mon, Jun 01, 1931 13:00</td>\n",
       "      <td>Abilene, KS</td>\n",
       "    </tr>\n",
       "    <tr>\n",
       "      <th>4</th>\n",
       "      <td>New York Worlds Fair</td>\n",
       "      <td>NaN</td>\n",
       "      <td>LIGHT</td>\n",
       "      <td>NY</td>\n",
       "      <td>4/18/1933 19:00</td>\n",
       "      <td>Tue, Apr 18, 1933 19:00</td>\n",
       "      <td>New York Worlds Fair, NY</td>\n",
       "    </tr>\n",
       "  </tbody>\n",
       "</table>\n",
       "</div>"
      ],
      "text/plain": [
       "                   City Colors Reported Shape Reported State             Time  \\\n",
       "0                Ithaca             NaN       TRIANGLE    NY   6/1/1930 22:00   \n",
       "1           Willingboro             NaN          OTHER    NJ  6/30/1930 20:00   \n",
       "2               Holyoke             NaN           OVAL    CO  2/15/1931 14:00   \n",
       "3               Abilene             NaN           DISK    KS   6/1/1931 13:00   \n",
       "4  New York Worlds Fair             NaN          LIGHT    NY  4/18/1933 19:00   \n",
       "\n",
       "                  Time_new                  Location  \n",
       "0  Sun, Jun 01, 1930 22:00                Ithaca, NY  \n",
       "1  Mon, Jun 30, 1930 20:00           Willingboro, NJ  \n",
       "2  Sun, Feb 15, 1931 14:00               Holyoke, CO  \n",
       "3  Mon, Jun 01, 1931 13:00               Abilene, KS  \n",
       "4  Tue, Apr 18, 1933 19:00  New York Worlds Fair, NY  "
      ]
     },
     "execution_count": 59,
     "metadata": {},
     "output_type": "execute_result"
    }
   ],
   "source": [
    "data['Location'] = data.City + ', ' + data.State # use ',' to join these two columns, 'Location' is the variable name you assign\n",
    "\n",
    "data.head() # new variable added!\n",
    "\n"
   ]
  },
  {
   "cell_type": "code",
   "execution_count": 60,
   "metadata": {},
   "outputs": [
    {
     "data": {
      "text/plain": [
       "0        False\n",
       "1        False\n",
       "2        False\n",
       "3        False\n",
       "4        False\n",
       "         ...  \n",
       "18236    False\n",
       "18237    False\n",
       "18238    False\n",
       "18239    False\n",
       "18240    False\n",
       "Name: State, Length: 18241, dtype: bool"
      ]
     },
     "execution_count": 60,
     "metadata": {},
     "output_type": "execute_result"
    }
   ],
   "source": [
    "# 根据一些自己设置的值进行选择\n",
    "New_England = ['ME', 'VT', 'NH', 'MA', 'CT', 'RI']\n",
    "data['State'].isin(New_England)\n",
    "\n"
   ]
  },
  {
   "cell_type": "code",
   "execution_count": 61,
   "metadata": {},
   "outputs": [
    {
     "data": {
      "text/html": [
       "<div>\n",
       "<style scoped>\n",
       "    .dataframe tbody tr th:only-of-type {\n",
       "        vertical-align: middle;\n",
       "    }\n",
       "\n",
       "    .dataframe tbody tr th {\n",
       "        vertical-align: top;\n",
       "    }\n",
       "\n",
       "    .dataframe thead th {\n",
       "        text-align: right;\n",
       "    }\n",
       "</style>\n",
       "<table border=\"1\" class=\"dataframe\">\n",
       "  <thead>\n",
       "    <tr style=\"text-align: right;\">\n",
       "      <th></th>\n",
       "      <th>City</th>\n",
       "      <th>Colors Reported</th>\n",
       "      <th>Shape Reported</th>\n",
       "      <th>State</th>\n",
       "      <th>Time</th>\n",
       "      <th>Time_new</th>\n",
       "      <th>Location</th>\n",
       "    </tr>\n",
       "  </thead>\n",
       "  <tbody>\n",
       "    <tr>\n",
       "      <th>30</th>\n",
       "      <td>South Kingstown</td>\n",
       "      <td>NaN</td>\n",
       "      <td>SPHERE</td>\n",
       "      <td>RI</td>\n",
       "      <td>7/1/1944 20:00</td>\n",
       "      <td>Sat, Jul 01, 1944 20:00</td>\n",
       "      <td>South Kingstown, RI</td>\n",
       "    </tr>\n",
       "    <tr>\n",
       "      <th>46</th>\n",
       "      <td>South Portland</td>\n",
       "      <td>NaN</td>\n",
       "      <td>OVAL</td>\n",
       "      <td>ME</td>\n",
       "      <td>7/1/1946 13:30</td>\n",
       "      <td>Mon, Jul 01, 1946 13:30</td>\n",
       "      <td>South Portland, ME</td>\n",
       "    </tr>\n",
       "    <tr>\n",
       "      <th>102</th>\n",
       "      <td>Los Angeles</td>\n",
       "      <td>NaN</td>\n",
       "      <td>CIRCLE</td>\n",
       "      <td>CT</td>\n",
       "      <td>6/4/1949 10:00</td>\n",
       "      <td>Sat, Jun 04, 1949 10:00</td>\n",
       "      <td>Los Angeles, CT</td>\n",
       "    </tr>\n",
       "    <tr>\n",
       "      <th>150</th>\n",
       "      <td>Thompsonville</td>\n",
       "      <td>NaN</td>\n",
       "      <td>DISK</td>\n",
       "      <td>CT</td>\n",
       "      <td>2/3/1951 22:00</td>\n",
       "      <td>Sat, Feb 03, 1951 22:00</td>\n",
       "      <td>Thompsonville, CT</td>\n",
       "    </tr>\n",
       "    <tr>\n",
       "      <th>211</th>\n",
       "      <td>Manville</td>\n",
       "      <td>NaN</td>\n",
       "      <td>SPHERE</td>\n",
       "      <td>RI</td>\n",
       "      <td>7/30/1952 15:00</td>\n",
       "      <td>Wed, Jul 30, 1952 15:00</td>\n",
       "      <td>Manville, RI</td>\n",
       "    </tr>\n",
       "    <tr>\n",
       "      <th>...</th>\n",
       "      <td>...</td>\n",
       "      <td>...</td>\n",
       "      <td>...</td>\n",
       "      <td>...</td>\n",
       "      <td>...</td>\n",
       "      <td>...</td>\n",
       "      <td>...</td>\n",
       "    </tr>\n",
       "    <tr>\n",
       "      <th>18197</th>\n",
       "      <td>Greenfiled</td>\n",
       "      <td>GREEN</td>\n",
       "      <td>FIREBALL</td>\n",
       "      <td>MA</td>\n",
       "      <td>12/26/2000 18:30</td>\n",
       "      <td>Tue, Dec 26, 2000 18:30</td>\n",
       "      <td>Greenfiled, MA</td>\n",
       "    </tr>\n",
       "    <tr>\n",
       "      <th>18198</th>\n",
       "      <td>Warren</td>\n",
       "      <td>NaN</td>\n",
       "      <td>FIREBALL</td>\n",
       "      <td>VT</td>\n",
       "      <td>12/26/2000 18:30</td>\n",
       "      <td>Tue, Dec 26, 2000 18:30</td>\n",
       "      <td>Warren, VT</td>\n",
       "    </tr>\n",
       "    <tr>\n",
       "      <th>18203</th>\n",
       "      <td>Saco</td>\n",
       "      <td>NaN</td>\n",
       "      <td>TRIANGLE</td>\n",
       "      <td>ME</td>\n",
       "      <td>12/27/2000 22:10</td>\n",
       "      <td>Wed, Dec 27, 2000 22:10</td>\n",
       "      <td>Saco, ME</td>\n",
       "    </tr>\n",
       "    <tr>\n",
       "      <th>18211</th>\n",
       "      <td>Holyoke</td>\n",
       "      <td>NaN</td>\n",
       "      <td>DIAMOND</td>\n",
       "      <td>MA</td>\n",
       "      <td>12/28/2000 18:00</td>\n",
       "      <td>Thu, Dec 28, 2000 18:00</td>\n",
       "      <td>Holyoke, MA</td>\n",
       "    </tr>\n",
       "    <tr>\n",
       "      <th>18221</th>\n",
       "      <td>Franklin</td>\n",
       "      <td>NaN</td>\n",
       "      <td>DISK</td>\n",
       "      <td>NH</td>\n",
       "      <td>12/29/2000 20:50</td>\n",
       "      <td>Fri, Dec 29, 2000 20:50</td>\n",
       "      <td>Franklin, NH</td>\n",
       "    </tr>\n",
       "  </tbody>\n",
       "</table>\n",
       "<p>964 rows × 7 columns</p>\n",
       "</div>"
      ],
      "text/plain": [
       "                  City Colors Reported Shape Reported State              Time  \\\n",
       "30     South Kingstown             NaN         SPHERE    RI    7/1/1944 20:00   \n",
       "46      South Portland             NaN           OVAL    ME    7/1/1946 13:30   \n",
       "102        Los Angeles             NaN         CIRCLE    CT    6/4/1949 10:00   \n",
       "150      Thompsonville             NaN           DISK    CT    2/3/1951 22:00   \n",
       "211           Manville             NaN         SPHERE    RI   7/30/1952 15:00   \n",
       "...                ...             ...            ...   ...               ...   \n",
       "18197       Greenfiled           GREEN       FIREBALL    MA  12/26/2000 18:30   \n",
       "18198           Warren             NaN       FIREBALL    VT  12/26/2000 18:30   \n",
       "18203             Saco             NaN       TRIANGLE    ME  12/27/2000 22:10   \n",
       "18211          Holyoke             NaN        DIAMOND    MA  12/28/2000 18:00   \n",
       "18221         Franklin             NaN           DISK    NH  12/29/2000 20:50   \n",
       "\n",
       "                      Time_new             Location  \n",
       "30     Sat, Jul 01, 1944 20:00  South Kingstown, RI  \n",
       "46     Mon, Jul 01, 1946 13:30   South Portland, ME  \n",
       "102    Sat, Jun 04, 1949 10:00      Los Angeles, CT  \n",
       "150    Sat, Feb 03, 1951 22:00    Thompsonville, CT  \n",
       "211    Wed, Jul 30, 1952 15:00         Manville, RI  \n",
       "...                        ...                  ...  \n",
       "18197  Tue, Dec 26, 2000 18:30       Greenfiled, MA  \n",
       "18198  Tue, Dec 26, 2000 18:30           Warren, VT  \n",
       "18203  Wed, Dec 27, 2000 22:10             Saco, ME  \n",
       "18211  Thu, Dec 28, 2000 18:00          Holyoke, MA  \n",
       "18221  Fri, Dec 29, 2000 20:50         Franklin, NH  \n",
       "\n",
       "[964 rows x 7 columns]"
      ]
     },
     "execution_count": 61,
     "metadata": {},
     "output_type": "execute_result"
    }
   ],
   "source": [
    "data[data['State'].isin(New_England)] # data[......]"
   ]
  },
  {
   "cell_type": "code",
   "execution_count": 62,
   "metadata": {},
   "outputs": [
    {
     "data": {
      "text/html": [
       "<div>\n",
       "<style scoped>\n",
       "    .dataframe tbody tr th:only-of-type {\n",
       "        vertical-align: middle;\n",
       "    }\n",
       "\n",
       "    .dataframe tbody tr th {\n",
       "        vertical-align: top;\n",
       "    }\n",
       "\n",
       "    .dataframe thead th {\n",
       "        text-align: right;\n",
       "    }\n",
       "</style>\n",
       "<table border=\"1\" class=\"dataframe\">\n",
       "  <thead>\n",
       "    <tr style=\"text-align: right;\">\n",
       "      <th></th>\n",
       "      <th>City</th>\n",
       "      <th>Colors Reported</th>\n",
       "      <th>Shape Reported</th>\n",
       "      <th>State</th>\n",
       "      <th>Time</th>\n",
       "      <th>Time_new</th>\n",
       "      <th>Location</th>\n",
       "      <th>ready_to_be_dropped</th>\n",
       "      <th>ready_to_be_dropped_1</th>\n",
       "    </tr>\n",
       "  </thead>\n",
       "  <tbody>\n",
       "    <tr>\n",
       "      <th>0</th>\n",
       "      <td>Ithaca</td>\n",
       "      <td>NaN</td>\n",
       "      <td>TRIANGLE</td>\n",
       "      <td>NY</td>\n",
       "      <td>6/1/1930 22:00</td>\n",
       "      <td>Sun, Jun 01, 1930 22:00</td>\n",
       "      <td>Ithaca, NY</td>\n",
       "      <td>2</td>\n",
       "      <td>1</td>\n",
       "    </tr>\n",
       "    <tr>\n",
       "      <th>1</th>\n",
       "      <td>Willingboro</td>\n",
       "      <td>NaN</td>\n",
       "      <td>OTHER</td>\n",
       "      <td>NJ</td>\n",
       "      <td>6/30/1930 20:00</td>\n",
       "      <td>Mon, Jun 30, 1930 20:00</td>\n",
       "      <td>Willingboro, NJ</td>\n",
       "      <td>2</td>\n",
       "      <td>1</td>\n",
       "    </tr>\n",
       "    <tr>\n",
       "      <th>2</th>\n",
       "      <td>Holyoke</td>\n",
       "      <td>NaN</td>\n",
       "      <td>OVAL</td>\n",
       "      <td>CO</td>\n",
       "      <td>2/15/1931 14:00</td>\n",
       "      <td>Sun, Feb 15, 1931 14:00</td>\n",
       "      <td>Holyoke, CO</td>\n",
       "      <td>2</td>\n",
       "      <td>1</td>\n",
       "    </tr>\n",
       "    <tr>\n",
       "      <th>3</th>\n",
       "      <td>Abilene</td>\n",
       "      <td>NaN</td>\n",
       "      <td>DISK</td>\n",
       "      <td>KS</td>\n",
       "      <td>6/1/1931 13:00</td>\n",
       "      <td>Mon, Jun 01, 1931 13:00</td>\n",
       "      <td>Abilene, KS</td>\n",
       "      <td>2</td>\n",
       "      <td>1</td>\n",
       "    </tr>\n",
       "    <tr>\n",
       "      <th>4</th>\n",
       "      <td>New York Worlds Fair</td>\n",
       "      <td>NaN</td>\n",
       "      <td>LIGHT</td>\n",
       "      <td>NY</td>\n",
       "      <td>4/18/1933 19:00</td>\n",
       "      <td>Tue, Apr 18, 1933 19:00</td>\n",
       "      <td>New York Worlds Fair, NY</td>\n",
       "      <td>2</td>\n",
       "      <td>1</td>\n",
       "    </tr>\n",
       "  </tbody>\n",
       "</table>\n",
       "</div>"
      ],
      "text/plain": [
       "                   City Colors Reported Shape Reported State             Time  \\\n",
       "0                Ithaca             NaN       TRIANGLE    NY   6/1/1930 22:00   \n",
       "1           Willingboro             NaN          OTHER    NJ  6/30/1930 20:00   \n",
       "2               Holyoke             NaN           OVAL    CO  2/15/1931 14:00   \n",
       "3               Abilene             NaN           DISK    KS   6/1/1931 13:00   \n",
       "4  New York Worlds Fair             NaN          LIGHT    NY  4/18/1933 19:00   \n",
       "\n",
       "                  Time_new                  Location  ready_to_be_dropped  \\\n",
       "0  Sun, Jun 01, 1930 22:00                Ithaca, NY                    2   \n",
       "1  Mon, Jun 30, 1930 20:00           Willingboro, NJ                    2   \n",
       "2  Sun, Feb 15, 1931 14:00               Holyoke, CO                    2   \n",
       "3  Mon, Jun 01, 1931 13:00               Abilene, KS                    2   \n",
       "4  Tue, Apr 18, 1933 19:00  New York Worlds Fair, NY                    2   \n",
       "\n",
       "   ready_to_be_dropped_1  \n",
       "0                      1  \n",
       "1                      1  \n",
       "2                      1  \n",
       "3                      1  \n",
       "4                      1  "
      ]
     },
     "execution_count": 62,
     "metadata": {},
     "output_type": "execute_result"
    }
   ],
   "source": [
    "# how to remove column(variable) from the dataframe?\n",
    "\n",
    "\n",
    "data['ready_to_be_dropped'] = 2 \n",
    "data['ready_to_be_dropped_1'] = 1\n",
    "\n",
    "data.head()\n"
   ]
  },
  {
   "cell_type": "code",
   "execution_count": 63,
   "metadata": {},
   "outputs": [
    {
     "data": {
      "text/html": [
       "<div>\n",
       "<style scoped>\n",
       "    .dataframe tbody tr th:only-of-type {\n",
       "        vertical-align: middle;\n",
       "    }\n",
       "\n",
       "    .dataframe tbody tr th {\n",
       "        vertical-align: top;\n",
       "    }\n",
       "\n",
       "    .dataframe thead th {\n",
       "        text-align: right;\n",
       "    }\n",
       "</style>\n",
       "<table border=\"1\" class=\"dataframe\">\n",
       "  <thead>\n",
       "    <tr style=\"text-align: right;\">\n",
       "      <th></th>\n",
       "      <th>City</th>\n",
       "      <th>Colors Reported</th>\n",
       "      <th>Shape Reported</th>\n",
       "      <th>State</th>\n",
       "      <th>Time</th>\n",
       "      <th>Time_new</th>\n",
       "      <th>Location</th>\n",
       "    </tr>\n",
       "  </thead>\n",
       "  <tbody>\n",
       "    <tr>\n",
       "      <th>0</th>\n",
       "      <td>Ithaca</td>\n",
       "      <td>NaN</td>\n",
       "      <td>TRIANGLE</td>\n",
       "      <td>NY</td>\n",
       "      <td>6/1/1930 22:00</td>\n",
       "      <td>Sun, Jun 01, 1930 22:00</td>\n",
       "      <td>Ithaca, NY</td>\n",
       "    </tr>\n",
       "    <tr>\n",
       "      <th>1</th>\n",
       "      <td>Willingboro</td>\n",
       "      <td>NaN</td>\n",
       "      <td>OTHER</td>\n",
       "      <td>NJ</td>\n",
       "      <td>6/30/1930 20:00</td>\n",
       "      <td>Mon, Jun 30, 1930 20:00</td>\n",
       "      <td>Willingboro, NJ</td>\n",
       "    </tr>\n",
       "    <tr>\n",
       "      <th>2</th>\n",
       "      <td>Holyoke</td>\n",
       "      <td>NaN</td>\n",
       "      <td>OVAL</td>\n",
       "      <td>CO</td>\n",
       "      <td>2/15/1931 14:00</td>\n",
       "      <td>Sun, Feb 15, 1931 14:00</td>\n",
       "      <td>Holyoke, CO</td>\n",
       "    </tr>\n",
       "    <tr>\n",
       "      <th>3</th>\n",
       "      <td>Abilene</td>\n",
       "      <td>NaN</td>\n",
       "      <td>DISK</td>\n",
       "      <td>KS</td>\n",
       "      <td>6/1/1931 13:00</td>\n",
       "      <td>Mon, Jun 01, 1931 13:00</td>\n",
       "      <td>Abilene, KS</td>\n",
       "    </tr>\n",
       "    <tr>\n",
       "      <th>4</th>\n",
       "      <td>New York Worlds Fair</td>\n",
       "      <td>NaN</td>\n",
       "      <td>LIGHT</td>\n",
       "      <td>NY</td>\n",
       "      <td>4/18/1933 19:00</td>\n",
       "      <td>Tue, Apr 18, 1933 19:00</td>\n",
       "      <td>New York Worlds Fair, NY</td>\n",
       "    </tr>\n",
       "  </tbody>\n",
       "</table>\n",
       "</div>"
      ],
      "text/plain": [
       "                   City Colors Reported Shape Reported State             Time  \\\n",
       "0                Ithaca             NaN       TRIANGLE    NY   6/1/1930 22:00   \n",
       "1           Willingboro             NaN          OTHER    NJ  6/30/1930 20:00   \n",
       "2               Holyoke             NaN           OVAL    CO  2/15/1931 14:00   \n",
       "3               Abilene             NaN           DISK    KS   6/1/1931 13:00   \n",
       "4  New York Worlds Fair             NaN          LIGHT    NY  4/18/1933 19:00   \n",
       "\n",
       "                  Time_new                  Location  \n",
       "0  Sun, Jun 01, 1930 22:00                Ithaca, NY  \n",
       "1  Mon, Jun 30, 1930 20:00           Willingboro, NJ  \n",
       "2  Sun, Feb 15, 1931 14:00               Holyoke, CO  \n",
       "3  Mon, Jun 01, 1931 13:00               Abilene, KS  \n",
       "4  Tue, Apr 18, 1933 19:00  New York Worlds Fair, NY  "
      ]
     },
     "execution_count": 63,
     "metadata": {},
     "output_type": "execute_result"
    }
   ],
   "source": [
    "data_drop_sample = data.drop(['ready_to_be_dropped','ready_to_be_dropped_1'], axis = 1, inplace = False)\n",
    "\n",
    "# 注意上一行代码中的axis = 1, 是沿着行从左到右的方向进行，所以删除的是列（column）\n",
    "# 详细说明见 https://numpy.org/doc/stable/glossary.html - 'along an axis' 部分\n",
    "\n",
    "\n",
    "data_drop_sample.head()\n",
    "\n",
    "\n",
    "\n"
   ]
  },
  {
   "cell_type": "code",
   "execution_count": 64,
   "metadata": {},
   "outputs": [
    {
     "data": {
      "text/html": [
       "<div>\n",
       "<style scoped>\n",
       "    .dataframe tbody tr th:only-of-type {\n",
       "        vertical-align: middle;\n",
       "    }\n",
       "\n",
       "    .dataframe tbody tr th {\n",
       "        vertical-align: top;\n",
       "    }\n",
       "\n",
       "    .dataframe thead th {\n",
       "        text-align: right;\n",
       "    }\n",
       "</style>\n",
       "<table border=\"1\" class=\"dataframe\">\n",
       "  <thead>\n",
       "    <tr style=\"text-align: right;\">\n",
       "      <th></th>\n",
       "      <th>City</th>\n",
       "      <th>Colors Reported</th>\n",
       "      <th>Shape Reported</th>\n",
       "      <th>State</th>\n",
       "      <th>Time</th>\n",
       "      <th>Time_new</th>\n",
       "      <th>Location</th>\n",
       "      <th>ready_to_be_dropped</th>\n",
       "      <th>ready_to_be_dropped_1</th>\n",
       "    </tr>\n",
       "  </thead>\n",
       "  <tbody>\n",
       "    <tr>\n",
       "      <th>0</th>\n",
       "      <td>Ithaca</td>\n",
       "      <td>NaN</td>\n",
       "      <td>TRIANGLE</td>\n",
       "      <td>NY</td>\n",
       "      <td>6/1/1930 22:00</td>\n",
       "      <td>Sun, Jun 01, 1930 22:00</td>\n",
       "      <td>Ithaca, NY</td>\n",
       "      <td>2</td>\n",
       "      <td>1</td>\n",
       "    </tr>\n",
       "    <tr>\n",
       "      <th>1</th>\n",
       "      <td>Willingboro</td>\n",
       "      <td>NaN</td>\n",
       "      <td>OTHER</td>\n",
       "      <td>NJ</td>\n",
       "      <td>6/30/1930 20:00</td>\n",
       "      <td>Mon, Jun 30, 1930 20:00</td>\n",
       "      <td>Willingboro, NJ</td>\n",
       "      <td>2</td>\n",
       "      <td>1</td>\n",
       "    </tr>\n",
       "    <tr>\n",
       "      <th>2</th>\n",
       "      <td>Holyoke</td>\n",
       "      <td>NaN</td>\n",
       "      <td>OVAL</td>\n",
       "      <td>CO</td>\n",
       "      <td>2/15/1931 14:00</td>\n",
       "      <td>Sun, Feb 15, 1931 14:00</td>\n",
       "      <td>Holyoke, CO</td>\n",
       "      <td>2</td>\n",
       "      <td>1</td>\n",
       "    </tr>\n",
       "    <tr>\n",
       "      <th>3</th>\n",
       "      <td>Abilene</td>\n",
       "      <td>NaN</td>\n",
       "      <td>DISK</td>\n",
       "      <td>KS</td>\n",
       "      <td>6/1/1931 13:00</td>\n",
       "      <td>Mon, Jun 01, 1931 13:00</td>\n",
       "      <td>Abilene, KS</td>\n",
       "      <td>2</td>\n",
       "      <td>1</td>\n",
       "    </tr>\n",
       "    <tr>\n",
       "      <th>4</th>\n",
       "      <td>New York Worlds Fair</td>\n",
       "      <td>NaN</td>\n",
       "      <td>LIGHT</td>\n",
       "      <td>NY</td>\n",
       "      <td>4/18/1933 19:00</td>\n",
       "      <td>Tue, Apr 18, 1933 19:00</td>\n",
       "      <td>New York Worlds Fair, NY</td>\n",
       "      <td>2</td>\n",
       "      <td>1</td>\n",
       "    </tr>\n",
       "  </tbody>\n",
       "</table>\n",
       "</div>"
      ],
      "text/plain": [
       "                   City Colors Reported Shape Reported State             Time  \\\n",
       "0                Ithaca             NaN       TRIANGLE    NY   6/1/1930 22:00   \n",
       "1           Willingboro             NaN          OTHER    NJ  6/30/1930 20:00   \n",
       "2               Holyoke             NaN           OVAL    CO  2/15/1931 14:00   \n",
       "3               Abilene             NaN           DISK    KS   6/1/1931 13:00   \n",
       "4  New York Worlds Fair             NaN          LIGHT    NY  4/18/1933 19:00   \n",
       "\n",
       "                  Time_new                  Location  ready_to_be_dropped  \\\n",
       "0  Sun, Jun 01, 1930 22:00                Ithaca, NY                    2   \n",
       "1  Mon, Jun 30, 1930 20:00           Willingboro, NJ                    2   \n",
       "2  Sun, Feb 15, 1931 14:00               Holyoke, CO                    2   \n",
       "3  Mon, Jun 01, 1931 13:00               Abilene, KS                    2   \n",
       "4  Tue, Apr 18, 1933 19:00  New York Worlds Fair, NY                    2   \n",
       "\n",
       "   ready_to_be_dropped_1  \n",
       "0                      1  \n",
       "1                      1  \n",
       "2                      1  \n",
       "3                      1  \n",
       "4                      1  "
      ]
     },
     "execution_count": 64,
     "metadata": {},
     "output_type": "execute_result"
    }
   ],
   "source": [
    "data.head()"
   ]
  },
  {
   "cell_type": "code",
   "execution_count": 65,
   "metadata": {},
   "outputs": [
    {
     "data": {
      "text/html": [
       "<div>\n",
       "<style scoped>\n",
       "    .dataframe tbody tr th:only-of-type {\n",
       "        vertical-align: middle;\n",
       "    }\n",
       "\n",
       "    .dataframe tbody tr th {\n",
       "        vertical-align: top;\n",
       "    }\n",
       "\n",
       "    .dataframe thead th {\n",
       "        text-align: right;\n",
       "    }\n",
       "</style>\n",
       "<table border=\"1\" class=\"dataframe\">\n",
       "  <thead>\n",
       "    <tr style=\"text-align: right;\">\n",
       "      <th></th>\n",
       "      <th>City</th>\n",
       "      <th>Colors Reported</th>\n",
       "      <th>Shape Reported</th>\n",
       "      <th>State</th>\n",
       "      <th>Time</th>\n",
       "      <th>Time_new</th>\n",
       "      <th>Location</th>\n",
       "    </tr>\n",
       "  </thead>\n",
       "  <tbody>\n",
       "    <tr>\n",
       "      <th>0</th>\n",
       "      <td>Ithaca</td>\n",
       "      <td>NaN</td>\n",
       "      <td>TRIANGLE</td>\n",
       "      <td>NY</td>\n",
       "      <td>6/1/1930 22:00</td>\n",
       "      <td>Sun, Jun 01, 1930 22:00</td>\n",
       "      <td>Ithaca, NY</td>\n",
       "    </tr>\n",
       "    <tr>\n",
       "      <th>1</th>\n",
       "      <td>Willingboro</td>\n",
       "      <td>NaN</td>\n",
       "      <td>OTHER</td>\n",
       "      <td>NJ</td>\n",
       "      <td>6/30/1930 20:00</td>\n",
       "      <td>Mon, Jun 30, 1930 20:00</td>\n",
       "      <td>Willingboro, NJ</td>\n",
       "    </tr>\n",
       "    <tr>\n",
       "      <th>2</th>\n",
       "      <td>Holyoke</td>\n",
       "      <td>NaN</td>\n",
       "      <td>OVAL</td>\n",
       "      <td>CO</td>\n",
       "      <td>2/15/1931 14:00</td>\n",
       "      <td>Sun, Feb 15, 1931 14:00</td>\n",
       "      <td>Holyoke, CO</td>\n",
       "    </tr>\n",
       "    <tr>\n",
       "      <th>3</th>\n",
       "      <td>Abilene</td>\n",
       "      <td>NaN</td>\n",
       "      <td>DISK</td>\n",
       "      <td>KS</td>\n",
       "      <td>6/1/1931 13:00</td>\n",
       "      <td>Mon, Jun 01, 1931 13:00</td>\n",
       "      <td>Abilene, KS</td>\n",
       "    </tr>\n",
       "    <tr>\n",
       "      <th>4</th>\n",
       "      <td>New York Worlds Fair</td>\n",
       "      <td>NaN</td>\n",
       "      <td>LIGHT</td>\n",
       "      <td>NY</td>\n",
       "      <td>4/18/1933 19:00</td>\n",
       "      <td>Tue, Apr 18, 1933 19:00</td>\n",
       "      <td>New York Worlds Fair, NY</td>\n",
       "    </tr>\n",
       "  </tbody>\n",
       "</table>\n",
       "</div>"
      ],
      "text/plain": [
       "                   City Colors Reported Shape Reported State             Time  \\\n",
       "0                Ithaca             NaN       TRIANGLE    NY   6/1/1930 22:00   \n",
       "1           Willingboro             NaN          OTHER    NJ  6/30/1930 20:00   \n",
       "2               Holyoke             NaN           OVAL    CO  2/15/1931 14:00   \n",
       "3               Abilene             NaN           DISK    KS   6/1/1931 13:00   \n",
       "4  New York Worlds Fair             NaN          LIGHT    NY  4/18/1933 19:00   \n",
       "\n",
       "                  Time_new                  Location  \n",
       "0  Sun, Jun 01, 1930 22:00                Ithaca, NY  \n",
       "1  Mon, Jun 30, 1930 20:00           Willingboro, NJ  \n",
       "2  Sun, Feb 15, 1931 14:00               Holyoke, CO  \n",
       "3  Mon, Jun 01, 1931 13:00               Abilene, KS  \n",
       "4  Tue, Apr 18, 1933 19:00  New York Worlds Fair, NY  "
      ]
     },
     "execution_count": 65,
     "metadata": {},
     "output_type": "execute_result"
    }
   ],
   "source": [
    "data.drop(['ready_to_be_dropped','ready_to_be_dropped_1'], axis = 1, inplace = True)\n",
    "data.head()\n"
   ]
  },
  {
   "cell_type": "code",
   "execution_count": 66,
   "metadata": {},
   "outputs": [
    {
     "data": {
      "text/html": [
       "<div>\n",
       "<style scoped>\n",
       "    .dataframe tbody tr th:only-of-type {\n",
       "        vertical-align: middle;\n",
       "    }\n",
       "\n",
       "    .dataframe tbody tr th {\n",
       "        vertical-align: top;\n",
       "    }\n",
       "\n",
       "    .dataframe thead th {\n",
       "        text-align: right;\n",
       "    }\n",
       "</style>\n",
       "<table border=\"1\" class=\"dataframe\">\n",
       "  <thead>\n",
       "    <tr style=\"text-align: right;\">\n",
       "      <th></th>\n",
       "      <th>City</th>\n",
       "      <th>Colors Reported</th>\n",
       "      <th>Shape Reported</th>\n",
       "      <th>State</th>\n",
       "      <th>Time</th>\n",
       "      <th>Time_new</th>\n",
       "      <th>Location</th>\n",
       "      <th>Score</th>\n",
       "      <th>awww</th>\n",
       "    </tr>\n",
       "  </thead>\n",
       "  <tbody>\n",
       "    <tr>\n",
       "      <th>0</th>\n",
       "      <td>Ithaca</td>\n",
       "      <td>NaN</td>\n",
       "      <td>TRIANGLE</td>\n",
       "      <td>NY</td>\n",
       "      <td>6/1/1930 22:00</td>\n",
       "      <td>Sun, Jun 01, 1930 22:00</td>\n",
       "      <td>Ithaca, NY</td>\n",
       "      <td>98</td>\n",
       "      <td>94</td>\n",
       "    </tr>\n",
       "    <tr>\n",
       "      <th>1</th>\n",
       "      <td>Willingboro</td>\n",
       "      <td>NaN</td>\n",
       "      <td>OTHER</td>\n",
       "      <td>NJ</td>\n",
       "      <td>6/30/1930 20:00</td>\n",
       "      <td>Mon, Jun 30, 1930 20:00</td>\n",
       "      <td>Willingboro, NJ</td>\n",
       "      <td>93</td>\n",
       "      <td>93</td>\n",
       "    </tr>\n",
       "    <tr>\n",
       "      <th>2</th>\n",
       "      <td>Holyoke</td>\n",
       "      <td>NaN</td>\n",
       "      <td>OVAL</td>\n",
       "      <td>CO</td>\n",
       "      <td>2/15/1931 14:00</td>\n",
       "      <td>Sun, Feb 15, 1931 14:00</td>\n",
       "      <td>Holyoke, CO</td>\n",
       "      <td>93</td>\n",
       "      <td>97</td>\n",
       "    </tr>\n",
       "    <tr>\n",
       "      <th>3</th>\n",
       "      <td>Abilene</td>\n",
       "      <td>NaN</td>\n",
       "      <td>DISK</td>\n",
       "      <td>KS</td>\n",
       "      <td>6/1/1931 13:00</td>\n",
       "      <td>Mon, Jun 01, 1931 13:00</td>\n",
       "      <td>Abilene, KS</td>\n",
       "      <td>97</td>\n",
       "      <td>93</td>\n",
       "    </tr>\n",
       "    <tr>\n",
       "      <th>4</th>\n",
       "      <td>New York Worlds Fair</td>\n",
       "      <td>NaN</td>\n",
       "      <td>LIGHT</td>\n",
       "      <td>NY</td>\n",
       "      <td>4/18/1933 19:00</td>\n",
       "      <td>Tue, Apr 18, 1933 19:00</td>\n",
       "      <td>New York Worlds Fair, NY</td>\n",
       "      <td>100</td>\n",
       "      <td>93</td>\n",
       "    </tr>\n",
       "  </tbody>\n",
       "</table>\n",
       "</div>"
      ],
      "text/plain": [
       "                   City Colors Reported Shape Reported State             Time  \\\n",
       "0                Ithaca             NaN       TRIANGLE    NY   6/1/1930 22:00   \n",
       "1           Willingboro             NaN          OTHER    NJ  6/30/1930 20:00   \n",
       "2               Holyoke             NaN           OVAL    CO  2/15/1931 14:00   \n",
       "3               Abilene             NaN           DISK    KS   6/1/1931 13:00   \n",
       "4  New York Worlds Fair             NaN          LIGHT    NY  4/18/1933 19:00   \n",
       "\n",
       "                  Time_new                  Location  Score  awww  \n",
       "0  Sun, Jun 01, 1930 22:00                Ithaca, NY     98    94  \n",
       "1  Mon, Jun 30, 1930 20:00           Willingboro, NJ     93    93  \n",
       "2  Sun, Feb 15, 1931 14:00               Holyoke, CO     93    97  \n",
       "3  Mon, Jun 01, 1931 13:00               Abilene, KS     97    93  \n",
       "4  Tue, Apr 18, 1933 19:00  New York Worlds Fair, NY    100    93  "
      ]
     },
     "execution_count": 66,
     "metadata": {},
     "output_type": "execute_result"
    }
   ],
   "source": [
    "def randomlist(variable, seednum): \n",
    "    random.seed(seednum) \n",
    "    random_number_list = [] # make an empty list where you can place your numbers later.\n",
    "    for name_it_as_you_like in range(0, len(data)): # you can change this 'name_it_as_you_like' to anything you want, let's say, GPA\n",
    "        another_name = random.randint(90,100) # randint = give me some random interger\n",
    "        random_number_list.append(another_name)\n",
    "    data[variable] = random_number_list\n",
    "\n",
    "randomlist('Score', 100084)\n",
    "randomlist('awww', 2301)\n",
    "\n",
    "data.head()\n",
    "\n",
    "\n"
   ]
  },
  {
   "cell_type": "code",
   "execution_count": 67,
   "metadata": {},
   "outputs": [
    {
     "data": {
      "text/plain": [
       "CA    2529\n",
       "WA    1322\n",
       "TX    1027\n",
       "NY     914\n",
       "FL     837\n",
       "AZ     738\n",
       "OH     667\n",
       "IL     613\n",
       "PA     598\n",
       "MI     591\n",
       "OR     534\n",
       "MO     448\n",
       "NJ     370\n",
       "CO     367\n",
       "WI     357\n",
       "NC     356\n",
       "IN     326\n",
       "GA     325\n",
       "MA     322\n",
       "VA     299\n",
       "TN     286\n",
       "NV     284\n",
       "MN     254\n",
       "KY     244\n",
       "NM     241\n",
       "CT     225\n",
       "MD     215\n",
       "AR     206\n",
       "UT     193\n",
       "AL     193\n",
       "OK     193\n",
       "ME     181\n",
       "KS     176\n",
       "LA     174\n",
       "SC     166\n",
       "IA     162\n",
       "MT     144\n",
       "MS     139\n",
       "WV     132\n",
       "ID     130\n",
       "NH     125\n",
       "AK     116\n",
       "NE     101\n",
       "HI      85\n",
       "WY      69\n",
       "RI      67\n",
       "SD      57\n",
       "ND      51\n",
       "VT      44\n",
       "DE      43\n",
       "Fl       4\n",
       "Ca       1\n",
       "Name: State, dtype: int64"
      ]
     },
     "execution_count": 67,
     "metadata": {},
     "output_type": "execute_result"
    }
   ],
   "source": [
    "data['State'].value_counts()\n",
    "\n",
    "# https://pandas.pydata.org/pandas-docs/stable/reference/api/pandas.DataFrame.value_counts.html"
   ]
  },
  {
   "cell_type": "code",
   "execution_count": 68,
   "metadata": {},
   "outputs": [
    {
     "data": {
      "text/plain": [
       "CA    0.138644\n",
       "WA    0.072474\n",
       "TX    0.056302\n",
       "NY    0.050107\n",
       "FL    0.045886\n",
       "AZ    0.040458\n",
       "OH    0.036566\n",
       "IL    0.033606\n",
       "PA    0.032783\n",
       "MI    0.032400\n",
       "Name: State, dtype: float64"
      ]
     },
     "execution_count": 68,
     "metadata": {},
     "output_type": "execute_result"
    }
   ],
   "source": [
    "data['State'].value_counts(normalize = True)[:10]\n"
   ]
  },
  {
   "cell_type": "code",
   "execution_count": 69,
   "metadata": {},
   "outputs": [
    {
     "data": {
      "text/html": [
       "<div>\n",
       "<style scoped>\n",
       "    .dataframe tbody tr th:only-of-type {\n",
       "        vertical-align: middle;\n",
       "    }\n",
       "\n",
       "    .dataframe tbody tr th {\n",
       "        vertical-align: top;\n",
       "    }\n",
       "\n",
       "    .dataframe thead th {\n",
       "        text-align: right;\n",
       "    }\n",
       "</style>\n",
       "<table border=\"1\" class=\"dataframe\">\n",
       "  <thead>\n",
       "    <tr style=\"text-align: right;\">\n",
       "      <th></th>\n",
       "      <th>City</th>\n",
       "      <th>Colors Reported</th>\n",
       "      <th>Shape Reported</th>\n",
       "      <th>State</th>\n",
       "      <th>Time</th>\n",
       "      <th>Time_new</th>\n",
       "      <th>Location</th>\n",
       "      <th>Score</th>\n",
       "      <th>awww</th>\n",
       "    </tr>\n",
       "  </thead>\n",
       "  <tbody>\n",
       "    <tr>\n",
       "      <th>9120</th>\n",
       "      <td>Princeton</td>\n",
       "      <td>ORANGE</td>\n",
       "      <td>NaN</td>\n",
       "      <td>WI</td>\n",
       "      <td>3/1/1996 0:00</td>\n",
       "      <td>Fri, Mar 01, 1996 00:00</td>\n",
       "      <td>Princeton, WI</td>\n",
       "      <td>100</td>\n",
       "      <td>95</td>\n",
       "    </tr>\n",
       "    <tr>\n",
       "      <th>2384</th>\n",
       "      <td>Gainsville</td>\n",
       "      <td>NaN</td>\n",
       "      <td>SPHERE</td>\n",
       "      <td>GA</td>\n",
       "      <td>6/1/1973 18:00</td>\n",
       "      <td>Fri, Jun 01, 1973 18:00</td>\n",
       "      <td>Gainsville, GA</td>\n",
       "      <td>100</td>\n",
       "      <td>100</td>\n",
       "    </tr>\n",
       "    <tr>\n",
       "      <th>2363</th>\n",
       "      <td>Oakcliff</td>\n",
       "      <td>RED GREEN</td>\n",
       "      <td>CIRCLE</td>\n",
       "      <td>TX</td>\n",
       "      <td>4/16/1973 16:00</td>\n",
       "      <td>Mon, Apr 16, 1973 16:00</td>\n",
       "      <td>Oakcliff, TX</td>\n",
       "      <td>100</td>\n",
       "      <td>92</td>\n",
       "    </tr>\n",
       "    <tr>\n",
       "      <th>11057</th>\n",
       "      <td>Iola</td>\n",
       "      <td>NaN</td>\n",
       "      <td>FIREBALL</td>\n",
       "      <td>IL</td>\n",
       "      <td>12/15/1997 22:00</td>\n",
       "      <td>Mon, Dec 15, 1997 22:00</td>\n",
       "      <td>Iola, IL</td>\n",
       "      <td>100</td>\n",
       "      <td>99</td>\n",
       "    </tr>\n",
       "    <tr>\n",
       "      <th>11054</th>\n",
       "      <td>Thief River Falls</td>\n",
       "      <td>GREEN</td>\n",
       "      <td>DISK</td>\n",
       "      <td>MN</td>\n",
       "      <td>12/15/1997 1:00</td>\n",
       "      <td>Mon, Dec 15, 1997 01:00</td>\n",
       "      <td>Thief River Falls, MN</td>\n",
       "      <td>100</td>\n",
       "      <td>91</td>\n",
       "    </tr>\n",
       "  </tbody>\n",
       "</table>\n",
       "</div>"
      ],
      "text/plain": [
       "                    City Colors Reported Shape Reported State  \\\n",
       "9120           Princeton          ORANGE            NaN    WI   \n",
       "2384          Gainsville             NaN         SPHERE    GA   \n",
       "2363            Oakcliff       RED GREEN         CIRCLE    TX   \n",
       "11057               Iola             NaN       FIREBALL    IL   \n",
       "11054  Thief River Falls           GREEN           DISK    MN   \n",
       "\n",
       "                   Time                 Time_new               Location  \\\n",
       "9120      3/1/1996 0:00  Fri, Mar 01, 1996 00:00          Princeton, WI   \n",
       "2384     6/1/1973 18:00  Fri, Jun 01, 1973 18:00         Gainsville, GA   \n",
       "2363    4/16/1973 16:00  Mon, Apr 16, 1973 16:00           Oakcliff, TX   \n",
       "11057  12/15/1997 22:00  Mon, Dec 15, 1997 22:00               Iola, IL   \n",
       "11054   12/15/1997 1:00  Mon, Dec 15, 1997 01:00  Thief River Falls, MN   \n",
       "\n",
       "       Score  awww  \n",
       "9120     100    95  \n",
       "2384     100   100  \n",
       "2363     100    92  \n",
       "11057    100    99  \n",
       "11054    100    91  "
      ]
     },
     "execution_count": 69,
     "metadata": {},
     "output_type": "execute_result"
    }
   ],
   "source": [
    "# sort values by 'Score'\n",
    "data.sort_values('Score', ascending = False).head() # sort values by variable score by ascending order, but this will not change the actual order of your data\n",
    "\n"
   ]
  },
  {
   "cell_type": "code",
   "execution_count": 70,
   "metadata": {},
   "outputs": [
    {
     "data": {
      "text/html": [
       "<div>\n",
       "<style scoped>\n",
       "    .dataframe tbody tr th:only-of-type {\n",
       "        vertical-align: middle;\n",
       "    }\n",
       "\n",
       "    .dataframe tbody tr th {\n",
       "        vertical-align: top;\n",
       "    }\n",
       "\n",
       "    .dataframe thead th {\n",
       "        text-align: right;\n",
       "    }\n",
       "</style>\n",
       "<table border=\"1\" class=\"dataframe\">\n",
       "  <thead>\n",
       "    <tr style=\"text-align: right;\">\n",
       "      <th></th>\n",
       "      <th>City</th>\n",
       "      <th>Colors Reported</th>\n",
       "      <th>Shape Reported</th>\n",
       "      <th>State</th>\n",
       "      <th>Time</th>\n",
       "      <th>Time_new</th>\n",
       "      <th>Location</th>\n",
       "      <th>Score</th>\n",
       "      <th>awww</th>\n",
       "    </tr>\n",
       "  </thead>\n",
       "  <tbody>\n",
       "    <tr>\n",
       "      <th>1</th>\n",
       "      <td>Willingboro</td>\n",
       "      <td>NaN</td>\n",
       "      <td>OTHER</td>\n",
       "      <td>NJ</td>\n",
       "      <td>6/30/1930 20:00</td>\n",
       "      <td>Mon, Jun 30, 1930 20:00</td>\n",
       "      <td>Willingboro, NJ</td>\n",
       "      <td>93</td>\n",
       "      <td>93</td>\n",
       "    </tr>\n",
       "    <tr>\n",
       "      <th>2</th>\n",
       "      <td>Holyoke</td>\n",
       "      <td>NaN</td>\n",
       "      <td>OVAL</td>\n",
       "      <td>CO</td>\n",
       "      <td>2/15/1931 14:00</td>\n",
       "      <td>Sun, Feb 15, 1931 14:00</td>\n",
       "      <td>Holyoke, CO</td>\n",
       "      <td>93</td>\n",
       "      <td>97</td>\n",
       "    </tr>\n",
       "    <tr>\n",
       "      <th>11</th>\n",
       "      <td>Waterloo</td>\n",
       "      <td>NaN</td>\n",
       "      <td>FIREBALL</td>\n",
       "      <td>AL</td>\n",
       "      <td>6/1/1939 20:00</td>\n",
       "      <td>Thu, Jun 01, 1939 20:00</td>\n",
       "      <td>Waterloo, AL</td>\n",
       "      <td>93</td>\n",
       "      <td>98</td>\n",
       "    </tr>\n",
       "    <tr>\n",
       "      <th>13</th>\n",
       "      <td>Keokuk</td>\n",
       "      <td>NaN</td>\n",
       "      <td>OVAL</td>\n",
       "      <td>IA</td>\n",
       "      <td>7/7/1939 2:00</td>\n",
       "      <td>Fri, Jul 07, 1939 02:00</td>\n",
       "      <td>Keokuk, IA</td>\n",
       "      <td>93</td>\n",
       "      <td>93</td>\n",
       "    </tr>\n",
       "    <tr>\n",
       "      <th>17</th>\n",
       "      <td>Hapeville</td>\n",
       "      <td>NaN</td>\n",
       "      <td>NaN</td>\n",
       "      <td>GA</td>\n",
       "      <td>6/1/1942 22:30</td>\n",
       "      <td>Mon, Jun 01, 1942 22:30</td>\n",
       "      <td>Hapeville, GA</td>\n",
       "      <td>93</td>\n",
       "      <td>92</td>\n",
       "    </tr>\n",
       "    <tr>\n",
       "      <th>29</th>\n",
       "      <td>Ft. Duschene</td>\n",
       "      <td>NaN</td>\n",
       "      <td>DISK</td>\n",
       "      <td>UT</td>\n",
       "      <td>6/30/1944 10:00</td>\n",
       "      <td>Fri, Jun 30, 1944 10:00</td>\n",
       "      <td>Ft. Duschene, UT</td>\n",
       "      <td>93</td>\n",
       "      <td>94</td>\n",
       "    </tr>\n",
       "    <tr>\n",
       "      <th>31</th>\n",
       "      <td>North Tampa</td>\n",
       "      <td>NaN</td>\n",
       "      <td>CYLINDER</td>\n",
       "      <td>FL</td>\n",
       "      <td>7/15/1944 13:00</td>\n",
       "      <td>Sat, Jul 15, 1944 13:00</td>\n",
       "      <td>North Tampa, FL</td>\n",
       "      <td>93</td>\n",
       "      <td>93</td>\n",
       "    </tr>\n",
       "    <tr>\n",
       "      <th>40</th>\n",
       "      <td>Roswell</td>\n",
       "      <td>NaN</td>\n",
       "      <td>SPHERE</td>\n",
       "      <td>NM</td>\n",
       "      <td>12/15/1945 2:00</td>\n",
       "      <td>Sat, Dec 15, 1945 02:00</td>\n",
       "      <td>Roswell, NM</td>\n",
       "      <td>93</td>\n",
       "      <td>99</td>\n",
       "    </tr>\n",
       "    <tr>\n",
       "      <th>41</th>\n",
       "      <td>New York City</td>\n",
       "      <td>NaN</td>\n",
       "      <td>DISK</td>\n",
       "      <td>NY</td>\n",
       "      <td>1/8/1946 2:00</td>\n",
       "      <td>Tue, Jan 08, 1946 02:00</td>\n",
       "      <td>New York City, NY</td>\n",
       "      <td>93</td>\n",
       "      <td>100</td>\n",
       "    </tr>\n",
       "    <tr>\n",
       "      <th>47</th>\n",
       "      <td>Oak Lawn</td>\n",
       "      <td>NaN</td>\n",
       "      <td>FORMATION</td>\n",
       "      <td>IL</td>\n",
       "      <td>9/12/1946 0:00</td>\n",
       "      <td>Thu, Sep 12, 1946 00:00</td>\n",
       "      <td>Oak Lawn, IL</td>\n",
       "      <td>93</td>\n",
       "      <td>93</td>\n",
       "    </tr>\n",
       "  </tbody>\n",
       "</table>\n",
       "</div>"
      ],
      "text/plain": [
       "             City Colors Reported Shape Reported State             Time  \\\n",
       "1     Willingboro             NaN          OTHER    NJ  6/30/1930 20:00   \n",
       "2         Holyoke             NaN           OVAL    CO  2/15/1931 14:00   \n",
       "11       Waterloo             NaN       FIREBALL    AL   6/1/1939 20:00   \n",
       "13         Keokuk             NaN           OVAL    IA    7/7/1939 2:00   \n",
       "17      Hapeville             NaN            NaN    GA   6/1/1942 22:30   \n",
       "29   Ft. Duschene             NaN           DISK    UT  6/30/1944 10:00   \n",
       "31    North Tampa             NaN       CYLINDER    FL  7/15/1944 13:00   \n",
       "40        Roswell             NaN         SPHERE    NM  12/15/1945 2:00   \n",
       "41  New York City             NaN           DISK    NY    1/8/1946 2:00   \n",
       "47       Oak Lawn             NaN      FORMATION    IL   9/12/1946 0:00   \n",
       "\n",
       "                   Time_new           Location  Score  awww  \n",
       "1   Mon, Jun 30, 1930 20:00    Willingboro, NJ     93    93  \n",
       "2   Sun, Feb 15, 1931 14:00        Holyoke, CO     93    97  \n",
       "11  Thu, Jun 01, 1939 20:00       Waterloo, AL     93    98  \n",
       "13  Fri, Jul 07, 1939 02:00         Keokuk, IA     93    93  \n",
       "17  Mon, Jun 01, 1942 22:30      Hapeville, GA     93    92  \n",
       "29  Fri, Jun 30, 1944 10:00   Ft. Duschene, UT     93    94  \n",
       "31  Sat, Jul 15, 1944 13:00    North Tampa, FL     93    93  \n",
       "40  Sat, Dec 15, 1945 02:00        Roswell, NM     93    99  \n",
       "41  Tue, Jan 08, 1946 02:00  New York City, NY     93   100  \n",
       "47  Thu, Sep 12, 1946 00:00       Oak Lawn, IL     93    93  "
      ]
     },
     "execution_count": 70,
     "metadata": {},
     "output_type": "execute_result"
    }
   ],
   "source": [
    "# select by condition: only show those with score == 93\n",
    "data[data.Score == 93][:10]\n",
    "\n"
   ]
  },
  {
   "cell_type": "code",
   "execution_count": 71,
   "metadata": {},
   "outputs": [
    {
     "data": {
      "text/plain": [
       "0                  Ithaca\n",
       "1             Willingboro\n",
       "2                 Holyoke\n",
       "3                 Abilene\n",
       "4    New York Worlds Fair\n",
       "Name: City, dtype: object"
      ]
     },
     "execution_count": 71,
     "metadata": {},
     "output_type": "execute_result"
    }
   ],
   "source": [
    "data[data.Score >= 93].City.head() # select the city column for all observations that fit [data.Score >= 93]\n"
   ]
  },
  {
   "cell_type": "code",
   "execution_count": 72,
   "metadata": {},
   "outputs": [
    {
     "data": {
      "text/html": [
       "<div>\n",
       "<style scoped>\n",
       "    .dataframe tbody tr th:only-of-type {\n",
       "        vertical-align: middle;\n",
       "    }\n",
       "\n",
       "    .dataframe tbody tr th {\n",
       "        vertical-align: top;\n",
       "    }\n",
       "\n",
       "    .dataframe thead th {\n",
       "        text-align: right;\n",
       "    }\n",
       "</style>\n",
       "<table border=\"1\" class=\"dataframe\">\n",
       "  <thead>\n",
       "    <tr style=\"text-align: right;\">\n",
       "      <th></th>\n",
       "      <th>City</th>\n",
       "      <th>Colors Reported</th>\n",
       "      <th>Shape Reported</th>\n",
       "      <th>State</th>\n",
       "      <th>Time</th>\n",
       "      <th>Time_new</th>\n",
       "      <th>Location</th>\n",
       "      <th>Score</th>\n",
       "      <th>awww</th>\n",
       "    </tr>\n",
       "  </thead>\n",
       "  <tbody>\n",
       "    <tr>\n",
       "      <th>1</th>\n",
       "      <td>Willingboro</td>\n",
       "      <td>NaN</td>\n",
       "      <td>OTHER</td>\n",
       "      <td>NJ</td>\n",
       "      <td>6/30/1930 20:00</td>\n",
       "      <td>Mon, Jun 30, 1930 20:00</td>\n",
       "      <td>Willingboro, NJ</td>\n",
       "      <td>93</td>\n",
       "      <td>93</td>\n",
       "    </tr>\n",
       "    <tr>\n",
       "      <th>2</th>\n",
       "      <td>Holyoke</td>\n",
       "      <td>NaN</td>\n",
       "      <td>OVAL</td>\n",
       "      <td>CO</td>\n",
       "      <td>2/15/1931 14:00</td>\n",
       "      <td>Sun, Feb 15, 1931 14:00</td>\n",
       "      <td>Holyoke, CO</td>\n",
       "      <td>93</td>\n",
       "      <td>97</td>\n",
       "    </tr>\n",
       "    <tr>\n",
       "      <th>8</th>\n",
       "      <td>Eklutna</td>\n",
       "      <td>NaN</td>\n",
       "      <td>CIGAR</td>\n",
       "      <td>AK</td>\n",
       "      <td>10/15/1936 17:00</td>\n",
       "      <td>Thu, Oct 15, 1936 17:00</td>\n",
       "      <td>Eklutna, AK</td>\n",
       "      <td>95</td>\n",
       "      <td>98</td>\n",
       "    </tr>\n",
       "    <tr>\n",
       "      <th>11</th>\n",
       "      <td>Waterloo</td>\n",
       "      <td>NaN</td>\n",
       "      <td>FIREBALL</td>\n",
       "      <td>AL</td>\n",
       "      <td>6/1/1939 20:00</td>\n",
       "      <td>Thu, Jun 01, 1939 20:00</td>\n",
       "      <td>Waterloo, AL</td>\n",
       "      <td>93</td>\n",
       "      <td>98</td>\n",
       "    </tr>\n",
       "    <tr>\n",
       "      <th>13</th>\n",
       "      <td>Keokuk</td>\n",
       "      <td>NaN</td>\n",
       "      <td>OVAL</td>\n",
       "      <td>IA</td>\n",
       "      <td>7/7/1939 2:00</td>\n",
       "      <td>Fri, Jul 07, 1939 02:00</td>\n",
       "      <td>Keokuk, IA</td>\n",
       "      <td>93</td>\n",
       "      <td>93</td>\n",
       "    </tr>\n",
       "    <tr>\n",
       "      <th>17</th>\n",
       "      <td>Hapeville</td>\n",
       "      <td>NaN</td>\n",
       "      <td>NaN</td>\n",
       "      <td>GA</td>\n",
       "      <td>6/1/1942 22:30</td>\n",
       "      <td>Mon, Jun 01, 1942 22:30</td>\n",
       "      <td>Hapeville, GA</td>\n",
       "      <td>93</td>\n",
       "      <td>92</td>\n",
       "    </tr>\n",
       "    <tr>\n",
       "      <th>19</th>\n",
       "      <td>Bering Sea</td>\n",
       "      <td>RED</td>\n",
       "      <td>OTHER</td>\n",
       "      <td>AK</td>\n",
       "      <td>4/30/1943 23:00</td>\n",
       "      <td>Fri, Apr 30, 1943 23:00</td>\n",
       "      <td>Bering Sea, AK</td>\n",
       "      <td>95</td>\n",
       "      <td>98</td>\n",
       "    </tr>\n",
       "    <tr>\n",
       "      <th>20</th>\n",
       "      <td>Nebraska</td>\n",
       "      <td>NaN</td>\n",
       "      <td>DISK</td>\n",
       "      <td>NE</td>\n",
       "      <td>6/1/1943 15:00</td>\n",
       "      <td>Tue, Jun 01, 1943 15:00</td>\n",
       "      <td>Nebraska, NE</td>\n",
       "      <td>94</td>\n",
       "      <td>98</td>\n",
       "    </tr>\n",
       "    <tr>\n",
       "      <th>27</th>\n",
       "      <td>Clovis</td>\n",
       "      <td>NaN</td>\n",
       "      <td>DISK</td>\n",
       "      <td>NM</td>\n",
       "      <td>4/2/1944 11:00</td>\n",
       "      <td>Sun, Apr 02, 1944 11:00</td>\n",
       "      <td>Clovis, NM</td>\n",
       "      <td>94</td>\n",
       "      <td>91</td>\n",
       "    </tr>\n",
       "    <tr>\n",
       "      <th>29</th>\n",
       "      <td>Ft. Duschene</td>\n",
       "      <td>NaN</td>\n",
       "      <td>DISK</td>\n",
       "      <td>UT</td>\n",
       "      <td>6/30/1944 10:00</td>\n",
       "      <td>Fri, Jun 30, 1944 10:00</td>\n",
       "      <td>Ft. Duschene, UT</td>\n",
       "      <td>93</td>\n",
       "      <td>94</td>\n",
       "    </tr>\n",
       "  </tbody>\n",
       "</table>\n",
       "</div>"
      ],
      "text/plain": [
       "            City Colors Reported Shape Reported State              Time  \\\n",
       "1    Willingboro             NaN          OTHER    NJ   6/30/1930 20:00   \n",
       "2        Holyoke             NaN           OVAL    CO   2/15/1931 14:00   \n",
       "8        Eklutna             NaN          CIGAR    AK  10/15/1936 17:00   \n",
       "11      Waterloo             NaN       FIREBALL    AL    6/1/1939 20:00   \n",
       "13        Keokuk             NaN           OVAL    IA     7/7/1939 2:00   \n",
       "17     Hapeville             NaN            NaN    GA    6/1/1942 22:30   \n",
       "19    Bering Sea             RED          OTHER    AK   4/30/1943 23:00   \n",
       "20      Nebraska             NaN           DISK    NE    6/1/1943 15:00   \n",
       "27        Clovis             NaN           DISK    NM    4/2/1944 11:00   \n",
       "29  Ft. Duschene             NaN           DISK    UT   6/30/1944 10:00   \n",
       "\n",
       "                   Time_new          Location  Score  awww  \n",
       "1   Mon, Jun 30, 1930 20:00   Willingboro, NJ     93    93  \n",
       "2   Sun, Feb 15, 1931 14:00       Holyoke, CO     93    97  \n",
       "8   Thu, Oct 15, 1936 17:00       Eklutna, AK     95    98  \n",
       "11  Thu, Jun 01, 1939 20:00      Waterloo, AL     93    98  \n",
       "13  Fri, Jul 07, 1939 02:00        Keokuk, IA     93    93  \n",
       "17  Mon, Jun 01, 1942 22:30     Hapeville, GA     93    92  \n",
       "19  Fri, Apr 30, 1943 23:00    Bering Sea, AK     95    98  \n",
       "20  Tue, Jun 01, 1943 15:00      Nebraska, NE     94    98  \n",
       "27  Sun, Apr 02, 1944 11:00        Clovis, NM     94    91  \n",
       "29  Fri, Jun 30, 1944 10:00  Ft. Duschene, UT     93    94  "
      ]
     },
     "execution_count": 72,
     "metadata": {},
     "output_type": "execute_result"
    }
   ],
   "source": [
    "# what if you need more conditions?\n",
    "\n",
    "data[(data.Score >= 93) & (data.Score <= 95)] [:10]\n",
    "\n",
    "# try data[(data.Score >= 93) | (data.Score <= 95)]\n"
   ]
  },
  {
   "cell_type": "code",
   "execution_count": 73,
   "metadata": {},
   "outputs": [
    {
     "data": {
      "text/html": [
       "<div>\n",
       "<style scoped>\n",
       "    .dataframe tbody tr th:only-of-type {\n",
       "        vertical-align: middle;\n",
       "    }\n",
       "\n",
       "    .dataframe tbody tr th {\n",
       "        vertical-align: top;\n",
       "    }\n",
       "\n",
       "    .dataframe thead th {\n",
       "        text-align: right;\n",
       "    }\n",
       "</style>\n",
       "<table border=\"1\" class=\"dataframe\">\n",
       "  <thead>\n",
       "    <tr style=\"text-align: right;\">\n",
       "      <th></th>\n",
       "      <th>City</th>\n",
       "      <th>Colors Reported</th>\n",
       "      <th>Shape Reported</th>\n",
       "      <th>State</th>\n",
       "      <th>Time</th>\n",
       "      <th>Time_new</th>\n",
       "      <th>Location</th>\n",
       "      <th>Score</th>\n",
       "      <th>awww</th>\n",
       "    </tr>\n",
       "  </thead>\n",
       "  <tbody>\n",
       "    <tr>\n",
       "      <th>1</th>\n",
       "      <td>Willingboro</td>\n",
       "      <td>NaN</td>\n",
       "      <td>OTHER</td>\n",
       "      <td>NJ</td>\n",
       "      <td>6/30/1930 20:00</td>\n",
       "      <td>Mon, Jun 30, 1930 20:00</td>\n",
       "      <td>Willingboro, NJ</td>\n",
       "      <td>93</td>\n",
       "      <td>93</td>\n",
       "    </tr>\n",
       "    <tr>\n",
       "      <th>2</th>\n",
       "      <td>Holyoke</td>\n",
       "      <td>NaN</td>\n",
       "      <td>OVAL</td>\n",
       "      <td>CO</td>\n",
       "      <td>2/15/1931 14:00</td>\n",
       "      <td>Sun, Feb 15, 1931 14:00</td>\n",
       "      <td>Holyoke, CO</td>\n",
       "      <td>93</td>\n",
       "      <td>97</td>\n",
       "    </tr>\n",
       "    <tr>\n",
       "      <th>8</th>\n",
       "      <td>Eklutna</td>\n",
       "      <td>NaN</td>\n",
       "      <td>CIGAR</td>\n",
       "      <td>AK</td>\n",
       "      <td>10/15/1936 17:00</td>\n",
       "      <td>Thu, Oct 15, 1936 17:00</td>\n",
       "      <td>Eklutna, AK</td>\n",
       "      <td>95</td>\n",
       "      <td>98</td>\n",
       "    </tr>\n",
       "    <tr>\n",
       "      <th>11</th>\n",
       "      <td>Waterloo</td>\n",
       "      <td>NaN</td>\n",
       "      <td>FIREBALL</td>\n",
       "      <td>AL</td>\n",
       "      <td>6/1/1939 20:00</td>\n",
       "      <td>Thu, Jun 01, 1939 20:00</td>\n",
       "      <td>Waterloo, AL</td>\n",
       "      <td>93</td>\n",
       "      <td>98</td>\n",
       "    </tr>\n",
       "    <tr>\n",
       "      <th>13</th>\n",
       "      <td>Keokuk</td>\n",
       "      <td>NaN</td>\n",
       "      <td>OVAL</td>\n",
       "      <td>IA</td>\n",
       "      <td>7/7/1939 2:00</td>\n",
       "      <td>Fri, Jul 07, 1939 02:00</td>\n",
       "      <td>Keokuk, IA</td>\n",
       "      <td>93</td>\n",
       "      <td>93</td>\n",
       "    </tr>\n",
       "    <tr>\n",
       "      <th>17</th>\n",
       "      <td>Hapeville</td>\n",
       "      <td>NaN</td>\n",
       "      <td>NaN</td>\n",
       "      <td>GA</td>\n",
       "      <td>6/1/1942 22:30</td>\n",
       "      <td>Mon, Jun 01, 1942 22:30</td>\n",
       "      <td>Hapeville, GA</td>\n",
       "      <td>93</td>\n",
       "      <td>92</td>\n",
       "    </tr>\n",
       "    <tr>\n",
       "      <th>19</th>\n",
       "      <td>Bering Sea</td>\n",
       "      <td>RED</td>\n",
       "      <td>OTHER</td>\n",
       "      <td>AK</td>\n",
       "      <td>4/30/1943 23:00</td>\n",
       "      <td>Fri, Apr 30, 1943 23:00</td>\n",
       "      <td>Bering Sea, AK</td>\n",
       "      <td>95</td>\n",
       "      <td>98</td>\n",
       "    </tr>\n",
       "    <tr>\n",
       "      <th>20</th>\n",
       "      <td>Nebraska</td>\n",
       "      <td>NaN</td>\n",
       "      <td>DISK</td>\n",
       "      <td>NE</td>\n",
       "      <td>6/1/1943 15:00</td>\n",
       "      <td>Tue, Jun 01, 1943 15:00</td>\n",
       "      <td>Nebraska, NE</td>\n",
       "      <td>94</td>\n",
       "      <td>98</td>\n",
       "    </tr>\n",
       "    <tr>\n",
       "      <th>27</th>\n",
       "      <td>Clovis</td>\n",
       "      <td>NaN</td>\n",
       "      <td>DISK</td>\n",
       "      <td>NM</td>\n",
       "      <td>4/2/1944 11:00</td>\n",
       "      <td>Sun, Apr 02, 1944 11:00</td>\n",
       "      <td>Clovis, NM</td>\n",
       "      <td>94</td>\n",
       "      <td>91</td>\n",
       "    </tr>\n",
       "    <tr>\n",
       "      <th>29</th>\n",
       "      <td>Ft. Duschene</td>\n",
       "      <td>NaN</td>\n",
       "      <td>DISK</td>\n",
       "      <td>UT</td>\n",
       "      <td>6/30/1944 10:00</td>\n",
       "      <td>Fri, Jun 30, 1944 10:00</td>\n",
       "      <td>Ft. Duschene, UT</td>\n",
       "      <td>93</td>\n",
       "      <td>94</td>\n",
       "    </tr>\n",
       "  </tbody>\n",
       "</table>\n",
       "</div>"
      ],
      "text/plain": [
       "            City Colors Reported Shape Reported State              Time  \\\n",
       "1    Willingboro             NaN          OTHER    NJ   6/30/1930 20:00   \n",
       "2        Holyoke             NaN           OVAL    CO   2/15/1931 14:00   \n",
       "8        Eklutna             NaN          CIGAR    AK  10/15/1936 17:00   \n",
       "11      Waterloo             NaN       FIREBALL    AL    6/1/1939 20:00   \n",
       "13        Keokuk             NaN           OVAL    IA     7/7/1939 2:00   \n",
       "17     Hapeville             NaN            NaN    GA    6/1/1942 22:30   \n",
       "19    Bering Sea             RED          OTHER    AK   4/30/1943 23:00   \n",
       "20      Nebraska             NaN           DISK    NE    6/1/1943 15:00   \n",
       "27        Clovis             NaN           DISK    NM    4/2/1944 11:00   \n",
       "29  Ft. Duschene             NaN           DISK    UT   6/30/1944 10:00   \n",
       "\n",
       "                   Time_new          Location  Score  awww  \n",
       "1   Mon, Jun 30, 1930 20:00   Willingboro, NJ     93    93  \n",
       "2   Sun, Feb 15, 1931 14:00       Holyoke, CO     93    97  \n",
       "8   Thu, Oct 15, 1936 17:00       Eklutna, AK     95    98  \n",
       "11  Thu, Jun 01, 1939 20:00      Waterloo, AL     93    98  \n",
       "13  Fri, Jul 07, 1939 02:00        Keokuk, IA     93    93  \n",
       "17  Mon, Jun 01, 1942 22:30     Hapeville, GA     93    92  \n",
       "19  Fri, Apr 30, 1943 23:00    Bering Sea, AK     95    98  \n",
       "20  Tue, Jun 01, 1943 15:00      Nebraska, NE     94    98  \n",
       "27  Sun, Apr 02, 1944 11:00        Clovis, NM     94    91  \n",
       "29  Fri, Jun 30, 1944 10:00  Ft. Duschene, UT     93    94  "
      ]
     },
     "execution_count": 73,
     "metadata": {},
     "output_type": "execute_result"
    }
   ],
   "source": [
    "# which is equivalent to?\n",
    "data[data.Score.isin(range(93, 96))].head(10)\n"
   ]
  },
  {
   "cell_type": "code",
   "execution_count": 74,
   "metadata": {},
   "outputs": [
    {
     "data": {
      "text/html": [
       "<div>\n",
       "<style scoped>\n",
       "    .dataframe tbody tr th:only-of-type {\n",
       "        vertical-align: middle;\n",
       "    }\n",
       "\n",
       "    .dataframe tbody tr th {\n",
       "        vertical-align: top;\n",
       "    }\n",
       "\n",
       "    .dataframe thead th {\n",
       "        text-align: right;\n",
       "    }\n",
       "</style>\n",
       "<table border=\"1\" class=\"dataframe\">\n",
       "  <thead>\n",
       "    <tr style=\"text-align: right;\">\n",
       "      <th></th>\n",
       "      <th>Score</th>\n",
       "      <th>awww</th>\n",
       "    </tr>\n",
       "  </thead>\n",
       "  <tbody>\n",
       "    <tr>\n",
       "      <th>count</th>\n",
       "      <td>18241.000000</td>\n",
       "      <td>18241.000000</td>\n",
       "    </tr>\n",
       "    <tr>\n",
       "      <th>mean</th>\n",
       "      <td>94.995834</td>\n",
       "      <td>94.989639</td>\n",
       "    </tr>\n",
       "    <tr>\n",
       "      <th>std</th>\n",
       "      <td>3.161061</td>\n",
       "      <td>3.160969</td>\n",
       "    </tr>\n",
       "    <tr>\n",
       "      <th>min</th>\n",
       "      <td>90.000000</td>\n",
       "      <td>90.000000</td>\n",
       "    </tr>\n",
       "    <tr>\n",
       "      <th>25%</th>\n",
       "      <td>92.000000</td>\n",
       "      <td>92.000000</td>\n",
       "    </tr>\n",
       "    <tr>\n",
       "      <th>50%</th>\n",
       "      <td>95.000000</td>\n",
       "      <td>95.000000</td>\n",
       "    </tr>\n",
       "    <tr>\n",
       "      <th>75%</th>\n",
       "      <td>98.000000</td>\n",
       "      <td>98.000000</td>\n",
       "    </tr>\n",
       "    <tr>\n",
       "      <th>max</th>\n",
       "      <td>100.000000</td>\n",
       "      <td>100.000000</td>\n",
       "    </tr>\n",
       "  </tbody>\n",
       "</table>\n",
       "</div>"
      ],
      "text/plain": [
       "              Score          awww\n",
       "count  18241.000000  18241.000000\n",
       "mean      94.995834     94.989639\n",
       "std        3.161061      3.160969\n",
       "min       90.000000     90.000000\n",
       "25%       92.000000     92.000000\n",
       "50%       95.000000     95.000000\n",
       "75%       98.000000     98.000000\n",
       "max      100.000000    100.000000"
      ]
     },
     "execution_count": 74,
     "metadata": {},
     "output_type": "execute_result"
    }
   ],
   "source": [
    "# describe all of the numeric columns\n",
    "data.describe() # this will only show descriptives of numeric columns"
   ]
  },
  {
   "cell_type": "code",
   "execution_count": 75,
   "metadata": {},
   "outputs": [
    {
     "data": {
      "text/html": [
       "<div>\n",
       "<style scoped>\n",
       "    .dataframe tbody tr th:only-of-type {\n",
       "        vertical-align: middle;\n",
       "    }\n",
       "\n",
       "    .dataframe tbody tr th {\n",
       "        vertical-align: top;\n",
       "    }\n",
       "\n",
       "    .dataframe thead th {\n",
       "        text-align: right;\n",
       "    }\n",
       "</style>\n",
       "<table border=\"1\" class=\"dataframe\">\n",
       "  <thead>\n",
       "    <tr style=\"text-align: right;\">\n",
       "      <th></th>\n",
       "      <th>City</th>\n",
       "      <th>Colors Reported</th>\n",
       "      <th>Shape Reported</th>\n",
       "      <th>State</th>\n",
       "      <th>Time</th>\n",
       "      <th>Time_new</th>\n",
       "      <th>Location</th>\n",
       "      <th>Score</th>\n",
       "      <th>awww</th>\n",
       "    </tr>\n",
       "  </thead>\n",
       "  <tbody>\n",
       "    <tr>\n",
       "      <th>count</th>\n",
       "      <td>18216</td>\n",
       "      <td>2882</td>\n",
       "      <td>15597</td>\n",
       "      <td>18241</td>\n",
       "      <td>18241</td>\n",
       "      <td>18241</td>\n",
       "      <td>18216</td>\n",
       "      <td>18241.000000</td>\n",
       "      <td>18241.000000</td>\n",
       "    </tr>\n",
       "    <tr>\n",
       "      <th>unique</th>\n",
       "      <td>6476</td>\n",
       "      <td>27</td>\n",
       "      <td>27</td>\n",
       "      <td>52</td>\n",
       "      <td>16145</td>\n",
       "      <td>16145</td>\n",
       "      <td>8029</td>\n",
       "      <td>NaN</td>\n",
       "      <td>NaN</td>\n",
       "    </tr>\n",
       "    <tr>\n",
       "      <th>top</th>\n",
       "      <td>Seattle</td>\n",
       "      <td>RED</td>\n",
       "      <td>LIGHT</td>\n",
       "      <td>CA</td>\n",
       "      <td>11/16/1999 19:00</td>\n",
       "      <td>Tue, Nov 16, 1999 19:00</td>\n",
       "      <td>Seattle, WA</td>\n",
       "      <td>NaN</td>\n",
       "      <td>NaN</td>\n",
       "    </tr>\n",
       "    <tr>\n",
       "      <th>freq</th>\n",
       "      <td>187</td>\n",
       "      <td>780</td>\n",
       "      <td>2803</td>\n",
       "      <td>2529</td>\n",
       "      <td>27</td>\n",
       "      <td>27</td>\n",
       "      <td>187</td>\n",
       "      <td>NaN</td>\n",
       "      <td>NaN</td>\n",
       "    </tr>\n",
       "    <tr>\n",
       "      <th>mean</th>\n",
       "      <td>NaN</td>\n",
       "      <td>NaN</td>\n",
       "      <td>NaN</td>\n",
       "      <td>NaN</td>\n",
       "      <td>NaN</td>\n",
       "      <td>NaN</td>\n",
       "      <td>NaN</td>\n",
       "      <td>94.995834</td>\n",
       "      <td>94.989639</td>\n",
       "    </tr>\n",
       "    <tr>\n",
       "      <th>std</th>\n",
       "      <td>NaN</td>\n",
       "      <td>NaN</td>\n",
       "      <td>NaN</td>\n",
       "      <td>NaN</td>\n",
       "      <td>NaN</td>\n",
       "      <td>NaN</td>\n",
       "      <td>NaN</td>\n",
       "      <td>3.161061</td>\n",
       "      <td>3.160969</td>\n",
       "    </tr>\n",
       "    <tr>\n",
       "      <th>min</th>\n",
       "      <td>NaN</td>\n",
       "      <td>NaN</td>\n",
       "      <td>NaN</td>\n",
       "      <td>NaN</td>\n",
       "      <td>NaN</td>\n",
       "      <td>NaN</td>\n",
       "      <td>NaN</td>\n",
       "      <td>90.000000</td>\n",
       "      <td>90.000000</td>\n",
       "    </tr>\n",
       "    <tr>\n",
       "      <th>25%</th>\n",
       "      <td>NaN</td>\n",
       "      <td>NaN</td>\n",
       "      <td>NaN</td>\n",
       "      <td>NaN</td>\n",
       "      <td>NaN</td>\n",
       "      <td>NaN</td>\n",
       "      <td>NaN</td>\n",
       "      <td>92.000000</td>\n",
       "      <td>92.000000</td>\n",
       "    </tr>\n",
       "    <tr>\n",
       "      <th>50%</th>\n",
       "      <td>NaN</td>\n",
       "      <td>NaN</td>\n",
       "      <td>NaN</td>\n",
       "      <td>NaN</td>\n",
       "      <td>NaN</td>\n",
       "      <td>NaN</td>\n",
       "      <td>NaN</td>\n",
       "      <td>95.000000</td>\n",
       "      <td>95.000000</td>\n",
       "    </tr>\n",
       "    <tr>\n",
       "      <th>75%</th>\n",
       "      <td>NaN</td>\n",
       "      <td>NaN</td>\n",
       "      <td>NaN</td>\n",
       "      <td>NaN</td>\n",
       "      <td>NaN</td>\n",
       "      <td>NaN</td>\n",
       "      <td>NaN</td>\n",
       "      <td>98.000000</td>\n",
       "      <td>98.000000</td>\n",
       "    </tr>\n",
       "    <tr>\n",
       "      <th>max</th>\n",
       "      <td>NaN</td>\n",
       "      <td>NaN</td>\n",
       "      <td>NaN</td>\n",
       "      <td>NaN</td>\n",
       "      <td>NaN</td>\n",
       "      <td>NaN</td>\n",
       "      <td>NaN</td>\n",
       "      <td>100.000000</td>\n",
       "      <td>100.000000</td>\n",
       "    </tr>\n",
       "  </tbody>\n",
       "</table>\n",
       "</div>"
      ],
      "text/plain": [
       "           City Colors Reported Shape Reported  State              Time  \\\n",
       "count     18216            2882          15597  18241             18241   \n",
       "unique     6476              27             27     52             16145   \n",
       "top     Seattle             RED          LIGHT     CA  11/16/1999 19:00   \n",
       "freq        187             780           2803   2529                27   \n",
       "mean        NaN             NaN            NaN    NaN               NaN   \n",
       "std         NaN             NaN            NaN    NaN               NaN   \n",
       "min         NaN             NaN            NaN    NaN               NaN   \n",
       "25%         NaN             NaN            NaN    NaN               NaN   \n",
       "50%         NaN             NaN            NaN    NaN               NaN   \n",
       "75%         NaN             NaN            NaN    NaN               NaN   \n",
       "max         NaN             NaN            NaN    NaN               NaN   \n",
       "\n",
       "                       Time_new     Location         Score          awww  \n",
       "count                     18241        18216  18241.000000  18241.000000  \n",
       "unique                    16145         8029           NaN           NaN  \n",
       "top     Tue, Nov 16, 1999 19:00  Seattle, WA           NaN           NaN  \n",
       "freq                         27          187           NaN           NaN  \n",
       "mean                        NaN          NaN     94.995834     94.989639  \n",
       "std                         NaN          NaN      3.161061      3.160969  \n",
       "min                         NaN          NaN     90.000000     90.000000  \n",
       "25%                         NaN          NaN     92.000000     92.000000  \n",
       "50%                         NaN          NaN     95.000000     95.000000  \n",
       "75%                         NaN          NaN     98.000000     98.000000  \n",
       "max                         NaN          NaN    100.000000    100.000000  "
      ]
     },
     "execution_count": 75,
     "metadata": {},
     "output_type": "execute_result"
    }
   ],
   "source": [
    "# what if you want to describe all variables\n",
    "\n",
    "data.describe(include = 'all') # try data.describe(include=['object'])\n"
   ]
  },
  {
   "cell_type": "code",
   "execution_count": 76,
   "metadata": {},
   "outputs": [
    {
     "data": {
      "text/plain": [
       "Score    94.995834\n",
       "awww     94.989639\n",
       "dtype: float64"
      ]
     },
     "execution_count": 76,
     "metadata": {},
     "output_type": "execute_result"
    }
   ],
   "source": [
    "# now we want to look at……\n",
    "\n",
    "data.mean(axis = 0) # axis 0 = 沿着 column 进行运算\n"
   ]
  },
  {
   "cell_type": "code",
   "execution_count": 77,
   "metadata": {},
   "outputs": [
    {
     "data": {
      "text/plain": [
       "0    96.0\n",
       "1    93.0\n",
       "2    95.0\n",
       "3    95.0\n",
       "4    96.5\n",
       "dtype: float64"
      ]
     },
     "execution_count": 77,
     "metadata": {},
     "output_type": "execute_result"
    }
   ],
   "source": [
    "data.mean(axis = 1).head() # 沿着 row 进行运算\n",
    "\n"
   ]
  },
  {
   "cell_type": "code",
   "execution_count": 78,
   "metadata": {},
   "outputs": [
    {
     "data": {
      "text/html": [
       "<div>\n",
       "<style scoped>\n",
       "    .dataframe tbody tr th:only-of-type {\n",
       "        vertical-align: middle;\n",
       "    }\n",
       "\n",
       "    .dataframe tbody tr th {\n",
       "        vertical-align: top;\n",
       "    }\n",
       "\n",
       "    .dataframe thead th {\n",
       "        text-align: right;\n",
       "    }\n",
       "</style>\n",
       "<table border=\"1\" class=\"dataframe\">\n",
       "  <thead>\n",
       "    <tr style=\"text-align: right;\">\n",
       "      <th></th>\n",
       "      <th>City</th>\n",
       "      <th>Colors Reported</th>\n",
       "      <th>Shape Reported</th>\n",
       "      <th>State</th>\n",
       "      <th>Time</th>\n",
       "      <th>Time_new</th>\n",
       "      <th>Location</th>\n",
       "      <th>Score</th>\n",
       "      <th>awww</th>\n",
       "    </tr>\n",
       "  </thead>\n",
       "  <tbody>\n",
       "    <tr>\n",
       "      <th>6</th>\n",
       "      <td>Crater Lake</td>\n",
       "      <td>NaN</td>\n",
       "      <td>CIRCLE</td>\n",
       "      <td>CA</td>\n",
       "      <td>6/15/1935 0:00</td>\n",
       "      <td>Sat, Jun 15, 1935 00:00</td>\n",
       "      <td>Crater Lake, CA</td>\n",
       "      <td>97</td>\n",
       "      <td>96</td>\n",
       "    </tr>\n",
       "    <tr>\n",
       "      <th>10</th>\n",
       "      <td>Fontana</td>\n",
       "      <td>NaN</td>\n",
       "      <td>LIGHT</td>\n",
       "      <td>CA</td>\n",
       "      <td>8/15/1937 21:00</td>\n",
       "      <td>Sun, Aug 15, 1937 21:00</td>\n",
       "      <td>Fontana, CA</td>\n",
       "      <td>100</td>\n",
       "      <td>90</td>\n",
       "    </tr>\n",
       "    <tr>\n",
       "      <th>15</th>\n",
       "      <td>Forest Home</td>\n",
       "      <td>NaN</td>\n",
       "      <td>CIRCLE</td>\n",
       "      <td>CA</td>\n",
       "      <td>7/2/1941 11:30</td>\n",
       "      <td>Wed, Jul 02, 1941 11:30</td>\n",
       "      <td>Forest Home, CA</td>\n",
       "      <td>99</td>\n",
       "      <td>97</td>\n",
       "    </tr>\n",
       "    <tr>\n",
       "      <th>16</th>\n",
       "      <td>Los Angeles</td>\n",
       "      <td>NaN</td>\n",
       "      <td>NaN</td>\n",
       "      <td>CA</td>\n",
       "      <td>2/25/1942 0:00</td>\n",
       "      <td>Wed, Feb 25, 1942 00:00</td>\n",
       "      <td>Los Angeles, CA</td>\n",
       "      <td>96</td>\n",
       "      <td>95</td>\n",
       "    </tr>\n",
       "    <tr>\n",
       "      <th>25</th>\n",
       "      <td>San Diego</td>\n",
       "      <td>NaN</td>\n",
       "      <td>CIGAR</td>\n",
       "      <td>CA</td>\n",
       "      <td>1/1/1944 12:00</td>\n",
       "      <td>Sat, Jan 01, 1944 12:00</td>\n",
       "      <td>San Diego, CA</td>\n",
       "      <td>98</td>\n",
       "      <td>93</td>\n",
       "    </tr>\n",
       "    <tr>\n",
       "      <th>33</th>\n",
       "      <td>Salinas AFB</td>\n",
       "      <td>NaN</td>\n",
       "      <td>DISK</td>\n",
       "      <td>CA</td>\n",
       "      <td>6/1/1945 12:00</td>\n",
       "      <td>Fri, Jun 01, 1945 12:00</td>\n",
       "      <td>Salinas AFB, CA</td>\n",
       "      <td>92</td>\n",
       "      <td>92</td>\n",
       "    </tr>\n",
       "    <tr>\n",
       "      <th>38</th>\n",
       "      <td>Huntington Beach</td>\n",
       "      <td>NaN</td>\n",
       "      <td>DISK</td>\n",
       "      <td>CA</td>\n",
       "      <td>8/8/1945 12:00</td>\n",
       "      <td>Wed, Aug 08, 1945 12:00</td>\n",
       "      <td>Huntington Beach, CA</td>\n",
       "      <td>97</td>\n",
       "      <td>92</td>\n",
       "    </tr>\n",
       "    <tr>\n",
       "      <th>42</th>\n",
       "      <td>Merced</td>\n",
       "      <td>NaN</td>\n",
       "      <td>SPHERE</td>\n",
       "      <td>CA</td>\n",
       "      <td>2/1/1946 17:00</td>\n",
       "      <td>Fri, Feb 01, 1946 17:00</td>\n",
       "      <td>Merced, CA</td>\n",
       "      <td>95</td>\n",
       "      <td>93</td>\n",
       "    </tr>\n",
       "    <tr>\n",
       "      <th>44</th>\n",
       "      <td>Blairsden</td>\n",
       "      <td>GREEN</td>\n",
       "      <td>SPHERE</td>\n",
       "      <td>CA</td>\n",
       "      <td>6/30/1946 19:00</td>\n",
       "      <td>Sun, Jun 30, 1946 19:00</td>\n",
       "      <td>Blairsden, CA</td>\n",
       "      <td>100</td>\n",
       "      <td>98</td>\n",
       "    </tr>\n",
       "    <tr>\n",
       "      <th>52</th>\n",
       "      <td>San Deigo</td>\n",
       "      <td>NaN</td>\n",
       "      <td>TRIANGLE</td>\n",
       "      <td>CA</td>\n",
       "      <td>4/15/1947 23:00</td>\n",
       "      <td>Tue, Apr 15, 1947 23:00</td>\n",
       "      <td>San Deigo, CA</td>\n",
       "      <td>98</td>\n",
       "      <td>96</td>\n",
       "    </tr>\n",
       "  </tbody>\n",
       "</table>\n",
       "</div>"
      ],
      "text/plain": [
       "                City Colors Reported Shape Reported State             Time  \\\n",
       "6        Crater Lake             NaN         CIRCLE    CA   6/15/1935 0:00   \n",
       "10           Fontana             NaN          LIGHT    CA  8/15/1937 21:00   \n",
       "15       Forest Home             NaN         CIRCLE    CA   7/2/1941 11:30   \n",
       "16       Los Angeles             NaN            NaN    CA   2/25/1942 0:00   \n",
       "25         San Diego             NaN          CIGAR    CA   1/1/1944 12:00   \n",
       "33       Salinas AFB             NaN           DISK    CA   6/1/1945 12:00   \n",
       "38  Huntington Beach             NaN           DISK    CA   8/8/1945 12:00   \n",
       "42            Merced             NaN         SPHERE    CA   2/1/1946 17:00   \n",
       "44         Blairsden           GREEN         SPHERE    CA  6/30/1946 19:00   \n",
       "52         San Deigo             NaN       TRIANGLE    CA  4/15/1947 23:00   \n",
       "\n",
       "                   Time_new              Location  Score  awww  \n",
       "6   Sat, Jun 15, 1935 00:00       Crater Lake, CA     97    96  \n",
       "10  Sun, Aug 15, 1937 21:00           Fontana, CA    100    90  \n",
       "15  Wed, Jul 02, 1941 11:30       Forest Home, CA     99    97  \n",
       "16  Wed, Feb 25, 1942 00:00       Los Angeles, CA     96    95  \n",
       "25  Sat, Jan 01, 1944 12:00         San Diego, CA     98    93  \n",
       "33  Fri, Jun 01, 1945 12:00       Salinas AFB, CA     92    92  \n",
       "38  Wed, Aug 08, 1945 12:00  Huntington Beach, CA     97    92  \n",
       "42  Fri, Feb 01, 1946 17:00            Merced, CA     95    93  \n",
       "44  Sun, Jun 30, 1946 19:00         Blairsden, CA    100    98  \n",
       "52  Tue, Apr 15, 1947 23:00         San Deigo, CA     98    96  "
      ]
     },
     "execution_count": 78,
     "metadata": {},
     "output_type": "execute_result"
    }
   ],
   "source": [
    "# 如何计算加州的平均值？\n",
    "data[data.State == 'CA'][:10]\n"
   ]
  },
  {
   "cell_type": "code",
   "execution_count": 79,
   "metadata": {},
   "outputs": [
    {
     "data": {
      "text/plain": [
       "95.02767892447608"
      ]
     },
     "execution_count": 79,
     "metadata": {},
     "output_type": "execute_result"
    }
   ],
   "source": [
    "# group_by\n",
    "data[data.State == 'CA']['Score'].mean() # calculate score of california\n",
    "\n",
    "\n",
    "\n"
   ]
  },
  {
   "cell_type": "code",
   "execution_count": 80,
   "metadata": {},
   "outputs": [
    {
     "data": {
      "text/plain": [
       "State\n",
       "AK    95.0\n",
       "AL    95.0\n",
       "AR    96.0\n",
       "AZ    95.0\n",
       "CA    95.0\n",
       "CO    95.0\n",
       "CT    95.0\n",
       "Ca    99.0\n",
       "DE    95.0\n",
       "FL    95.0\n",
       "Fl    91.5\n",
       "GA    95.0\n",
       "HI    95.0\n",
       "IA    95.0\n",
       "ID    94.0\n",
       "IL    95.0\n",
       "IN    95.0\n",
       "KS    95.0\n",
       "KY    95.0\n",
       "LA    95.0\n",
       "MA    95.0\n",
       "MD    95.0\n",
       "ME    94.0\n",
       "MI    95.0\n",
       "MN    95.0\n",
       "MO    95.0\n",
       "MS    95.0\n",
       "MT    95.5\n",
       "NC    95.0\n",
       "ND    95.0\n",
       "NE    94.0\n",
       "NH    95.0\n",
       "NJ    95.0\n",
       "NM    95.0\n",
       "NV    94.0\n",
       "NY    95.0\n",
       "OH    95.0\n",
       "OK    95.0\n",
       "OR    95.0\n",
       "PA    95.0\n",
       "RI    94.0\n",
       "SC    95.0\n",
       "SD    96.0\n",
       "TN    95.0\n",
       "TX    95.0\n",
       "UT    95.0\n",
       "VA    95.0\n",
       "VT    95.0\n",
       "WA    95.0\n",
       "WI    95.0\n",
       "WV    95.0\n",
       "WY    95.0\n",
       "Name: Score, dtype: float64"
      ]
     },
     "execution_count": 80,
     "metadata": {},
     "output_type": "execute_result"
    }
   ],
   "source": [
    "data.groupby('State').Score.median() # calculate median for each group， 计算每个州的中位数\n",
    "\n",
    "# data.groupby('State').Score.mean() # this help calculate the mean for each group\n",
    "\n"
   ]
  },
  {
   "cell_type": "code",
   "execution_count": 81,
   "metadata": {},
   "outputs": [
    {
     "data": {
      "text/plain": [
       "State\n",
       "AK    100\n",
       "AL    100\n",
       "AR    100\n",
       "AZ    100\n",
       "CA    100\n",
       "Name: Score, dtype: int64"
      ]
     },
     "execution_count": 81,
     "metadata": {},
     "output_type": "execute_result"
    }
   ],
   "source": [
    "data.groupby('State').Score.max().head()\n",
    "\n"
   ]
  },
  {
   "cell_type": "code",
   "execution_count": 82,
   "metadata": {},
   "outputs": [
    {
     "data": {
      "text/html": [
       "<div>\n",
       "<style scoped>\n",
       "    .dataframe tbody tr th:only-of-type {\n",
       "        vertical-align: middle;\n",
       "    }\n",
       "\n",
       "    .dataframe tbody tr th {\n",
       "        vertical-align: top;\n",
       "    }\n",
       "\n",
       "    .dataframe thead th {\n",
       "        text-align: right;\n",
       "    }\n",
       "</style>\n",
       "<table border=\"1\" class=\"dataframe\">\n",
       "  <thead>\n",
       "    <tr style=\"text-align: right;\">\n",
       "      <th></th>\n",
       "      <th>count</th>\n",
       "      <th>mean</th>\n",
       "      <th>min</th>\n",
       "      <th>max</th>\n",
       "    </tr>\n",
       "    <tr>\n",
       "      <th>State</th>\n",
       "      <th></th>\n",
       "      <th></th>\n",
       "      <th></th>\n",
       "      <th></th>\n",
       "    </tr>\n",
       "  </thead>\n",
       "  <tbody>\n",
       "    <tr>\n",
       "      <th>AK</th>\n",
       "      <td>116</td>\n",
       "      <td>95.267241</td>\n",
       "      <td>90</td>\n",
       "      <td>100</td>\n",
       "    </tr>\n",
       "    <tr>\n",
       "      <th>AL</th>\n",
       "      <td>193</td>\n",
       "      <td>95.160622</td>\n",
       "      <td>90</td>\n",
       "      <td>100</td>\n",
       "    </tr>\n",
       "    <tr>\n",
       "      <th>AR</th>\n",
       "      <td>206</td>\n",
       "      <td>95.364078</td>\n",
       "      <td>90</td>\n",
       "      <td>100</td>\n",
       "    </tr>\n",
       "    <tr>\n",
       "      <th>AZ</th>\n",
       "      <td>738</td>\n",
       "      <td>95.100271</td>\n",
       "      <td>90</td>\n",
       "      <td>100</td>\n",
       "    </tr>\n",
       "    <tr>\n",
       "      <th>CA</th>\n",
       "      <td>2529</td>\n",
       "      <td>95.027679</td>\n",
       "      <td>90</td>\n",
       "      <td>100</td>\n",
       "    </tr>\n",
       "  </tbody>\n",
       "</table>\n",
       "</div>"
      ],
      "text/plain": [
       "       count       mean  min  max\n",
       "State                            \n",
       "AK       116  95.267241   90  100\n",
       "AL       193  95.160622   90  100\n",
       "AR       206  95.364078   90  100\n",
       "AZ       738  95.100271   90  100\n",
       "CA      2529  95.027679   90  100"
      ]
     },
     "execution_count": 82,
     "metadata": {},
     "output_type": "execute_result"
    }
   ],
   "source": [
    "data.groupby('State').Score.agg(['count', 'mean', 'min', 'max']).head() # calculate properties"
   ]
  },
  {
   "cell_type": "code",
   "execution_count": 83,
   "metadata": {},
   "outputs": [],
   "source": [
    "#### end\n"
   ]
  },
  {
   "cell_type": "markdown",
   "metadata": {},
   "source": [
    "#### references:\n",
    "1 introduction to data science for social and policy research - collecting and organizing data with R and Python\n",
    "2 https://github.com/stoive/pythontutorial\n",
    "3 pandas documentation see https://pandas.pydata.org/pandas-docs/stable/user_guide/dsintro.html#dsintro\n",
    "4 Python 文本分析（机械工业出版社）\n",
    "5 https://datagy.io/\n",
    "\n",
    "\n"
   ]
  },
  {
   "cell_type": "code",
   "execution_count": null,
   "metadata": {},
   "outputs": [],
   "source": []
  }
 ],
 "metadata": {
  "kernelspec": {
   "display_name": "Python 3.10.6 64-bit",
   "language": "python",
   "name": "python3"
  },
  "language_info": {
   "codemirror_mode": {
    "name": "ipython",
    "version": 3
   },
   "file_extension": ".py",
   "mimetype": "text/x-python",
   "name": "python",
   "nbconvert_exporter": "python",
   "pygments_lexer": "ipython3",
   "version": "3.10.6"
  },
  "vscode": {
   "interpreter": {
    "hash": "75ecd1a9698ab1e5b8e5273a3f8eebfdafa024a6119ea74078720fb9def1d71d"
   }
  }
 },
 "nbformat": 4,
 "nbformat_minor": 2
}
