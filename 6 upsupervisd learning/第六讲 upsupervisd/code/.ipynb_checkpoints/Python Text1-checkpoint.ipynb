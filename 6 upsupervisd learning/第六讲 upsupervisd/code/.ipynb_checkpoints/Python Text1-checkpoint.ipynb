{
 "cells": [
  {
   "cell_type": "markdown",
   "metadata": {
    "collapsed": true,
    "slideshow": {
     "slide_type": "slide"
    }
   },
   "source": [
    "# Python Text\n",
    "\n",
    "## Wednesday 30th August 2017\n",
    "## Tianguang Meng"
   ]
  },
  {
   "cell_type": "markdown",
   "metadata": {},
   "source": [
    "- [1 Input Text](#1-Input-Text)\n",
    "- [2 Text Detection](#2-Text-Detection)\n",
    "- [3 Text Computation](#3-Text-Computation)\n",
    "- [4 Text Data](#4-Text-Data)\n",
    "- [5 Text Reading](#5-Text-Reading)"
   ]
  },
  {
   "cell_type": "markdown",
   "metadata": {},
   "source": [
    "### 1-Input Text"
   ]
  },
  {
   "cell_type": "code",
   "execution_count": null,
   "metadata": {
    "collapsed": true
   },
   "outputs": [],
   "source": [
    "news = '习近平抵达捷克进行国事访问'"
   ]
  },
  {
   "cell_type": "code",
   "execution_count": null,
   "metadata": {
    "collapsed": false
   },
   "outputs": [],
   "source": [
    "print news"
   ]
  },
  {
   "cell_type": "code",
   "execution_count": null,
   "metadata": {
    "collapsed": true
   },
   "outputs": [],
   "source": [
    "texts = ['云南去年5800余名公职人员受处分','国务院成立山东疫苗案调查组','东北三省取消玉米临储']"
   ]
  },
  {
   "cell_type": "code",
   "execution_count": null,
   "metadata": {
    "collapsed": false
   },
   "outputs": [],
   "source": [
    "print texts[0]"
   ]
  },
  {
   "cell_type": "markdown",
   "metadata": {},
   "source": [
    "## 2-Text Detection"
   ]
  },
  {
   "cell_type": "code",
   "execution_count": null,
   "metadata": {
    "collapsed": false
   },
   "outputs": [],
   "source": [
    "len(\"习近平抵达捷克进行国事访问\") #length of the string "
   ]
  },
  {
   "cell_type": "code",
   "execution_count": null,
   "metadata": {
    "collapsed": false
   },
   "outputs": [],
   "source": [
    "len(\"Hello Tsinghua!\") #length of the string "
   ]
  },
  {
   "cell_type": "code",
   "execution_count": null,
   "metadata": {
    "collapsed": false
   },
   "outputs": [],
   "source": [
    "'Alice' == \"Alice\""
   ]
  },
  {
   "cell_type": "code",
   "execution_count": null,
   "metadata": {
    "collapsed": false
   },
   "outputs": [],
   "source": [
    "'Alice' == \"alice\""
   ]
  },
  {
   "cell_type": "code",
   "execution_count": null,
   "metadata": {
    "collapsed": false
   },
   "outputs": [],
   "source": [
    "\"That's a nice hat.\""
   ]
  },
  {
   "cell_type": "code",
   "execution_count": null,
   "metadata": {
    "collapsed": false
   },
   "outputs": [],
   "source": [
    "print \"1\\t2\" #\\t is tab"
   ]
  },
  {
   "cell_type": "code",
   "execution_count": null,
   "metadata": {
    "collapsed": false
   },
   "outputs": [],
   "source": [
    "print \"云南去年5800余名公职人员受处分\\n国务院成立山东疫苗案调查组\\n东北三省取消玉米临储\" #end-line character"
   ]
  },
  {
   "cell_type": "markdown",
   "metadata": {},
   "source": [
    "## 3-Text Computation"
   ]
  },
  {
   "cell_type": "code",
   "execution_count": null,
   "metadata": {
    "collapsed": false
   },
   "outputs": [],
   "source": [
    "\"White\"+\" \"+\"Rabbit\""
   ]
  },
  {
   "cell_type": "code",
   "execution_count": null,
   "metadata": {
    "collapsed": false
   },
   "outputs": [],
   "source": [
    "\"Alice\".capitalize()"
   ]
  },
  {
   "cell_type": "code",
   "execution_count": null,
   "metadata": {
    "collapsed": false
   },
   "outputs": [],
   "source": [
    "print \"alice\".upper()"
   ]
  },
  {
   "cell_type": "code",
   "execution_count": null,
   "metadata": {
    "collapsed": false
   },
   "outputs": [],
   "source": [
    "print \"ALICE\".lower()"
   ]
  },
  {
   "cell_type": "code",
   "execution_count": null,
   "metadata": {
    "collapsed": false
   },
   "outputs": [],
   "source": [
    "\"There were doors all around the hall\".count('h')"
   ]
  },
  {
   "cell_type": "code",
   "execution_count": null,
   "metadata": {
    "collapsed": false
   },
   "outputs": [],
   "source": [
    "\"There were doors all round the hall\".count('all')"
   ]
  },
  {
   "cell_type": "code",
   "execution_count": null,
   "metadata": {
    "collapsed": false
   },
   "outputs": [],
   "source": [
    "\"人民币在过去半年总是上演躺着也要中枪的剧情。英国脱欧一役中，人民币并没有太多暴露于脱欧的风险头寸，然后投资者寻求避险，人民币遭到“错杀”，在岸人民币兑美元跌至5年低位。另外在今年年初，美联储加息的预期让人民币连跌4日，最终还是央妈出手才逼退空头。上周三人民币兑美元的开盘价贬至6.6857，创2010年11月来新低，而人民币兑一篮子货币也达到了2014年10月以来最低。离岸人民币汇率一度跌破6.7，在岸人民币汇率极其逼近6.7。上周前三天内，人民币对美元汇率中间价累计贬值545点，较英国退欧后创下的低点再跌329点。最近三个月，在岸人民币兑美元汇率，以及离岸人民币兑美元汇率也贬值了3.25%。年初至今，人民币兑一篮子货币汇率已经贬值了5.9%。\".count('人')"
   ]
  },
  {
   "cell_type": "code",
   "execution_count": null,
   "metadata": {
    "collapsed": false
   },
   "outputs": [],
   "source": [
    "print \"   White Rabbit   \".strip()\n",
    "print \"\\t White Rabbit  \\t \".strip('\\t ')"
   ]
  },
  {
   "cell_type": "code",
   "execution_count": null,
   "metadata": {
    "collapsed": false
   },
   "outputs": [],
   "source": [
    "\"Rabbit\".startswith(\"R\")"
   ]
  },
  {
   "cell_type": "code",
   "execution_count": null,
   "metadata": {
    "collapsed": false
   },
   "outputs": [],
   "source": [
    "\"Rabbit\".endswith(\"t\")"
   ]
  },
  {
   "cell_type": "code",
   "execution_count": null,
   "metadata": {
    "collapsed": false
   },
   "outputs": [],
   "source": [
    "print \"a\" in \"Rabbit\" #returns a boolean \n",
    "print \"doors\" in \"There were doors all round the hall\" #returns a boolean"
   ]
  },
  {
   "cell_type": "markdown",
   "metadata": {},
   "source": [
    "## 4-Text Data"
   ]
  },
  {
   "cell_type": "code",
   "execution_count": null,
   "metadata": {
    "collapsed": true
   },
   "outputs": [],
   "source": [
    "id_number={'张三':'54201','李四':'87302','王五':'32201'}"
   ]
  },
  {
   "cell_type": "code",
   "execution_count": null,
   "metadata": {
    "collapsed": false
   },
   "outputs": [],
   "source": [
    "print id_number['李四']"
   ]
  },
  {
   "cell_type": "code",
   "execution_count": null,
   "metadata": {
    "collapsed": true
   },
   "outputs": [],
   "source": [
    "category={}\n",
    "category[\"苹果\"]=\"fruit\"\n",
    "category[\"香蕉\"]=\"fruit\"\n",
    "category[\"草莓\"]=\"fruit\"\n",
    "category[\"土豆\"]=\"vegetable\"\n",
    "category[\"西红柿\"]=\"vegetable\""
   ]
  },
  {
   "cell_type": "code",
   "execution_count": null,
   "metadata": {
    "collapsed": false
   },
   "outputs": [],
   "source": [
    "category[\"香蕉\"]"
   ]
  },
  {
   "cell_type": "code",
   "execution_count": null,
   "metadata": {
    "collapsed": true
   },
   "outputs": [],
   "source": [
    "doc_a = \"Brocolli is good to eat. My brother likes to eat good brocolli, but not my mother.\"\n",
    "doc_b = \"My mother spends a lot of time driving my brother around to baseball practice.\"\n",
    "doc_c = \"Some health experts suggest that driving may cause increased tension and blood pressure.\"\n",
    "doc_d = \"I often feel pressure to perform well at school, but my mother never seems to drive my brother to do better.\"\n",
    "doc_e = \"Health professionals say that brocolli is good for your health.\"\n",
    "\n",
    "# compile sample documents into a list\n",
    "doc_set = [doc_a, doc_b, doc_c, doc_d, doc_e]"
   ]
  },
  {
   "cell_type": "code",
   "execution_count": null,
   "metadata": {
    "collapsed": false
   },
   "outputs": [],
   "source": [
    "print doc_set"
   ]
  },
  {
   "cell_type": "markdown",
   "metadata": {},
   "source": [
    "## 5-Text Reading"
   ]
  },
  {
   "cell_type": "code",
   "execution_count": null,
   "metadata": {
    "collapsed": true
   },
   "outputs": [],
   "source": [
    "import os\n",
    "import re\n",
    "import pandas as pd\n",
    "import numpy as np\n",
    "import jieba.posseg as pseg"
   ]
  },
  {
   "cell_type": "code",
   "execution_count": null,
   "metadata": {
    "collapsed": false
   },
   "outputs": [],
   "source": [
    "report= pd.read_csv('samgov.csv')\n",
    "report.head()"
   ]
  },
  {
   "cell_type": "code",
   "execution_count": null,
   "metadata": {
    "collapsed": false
   },
   "outputs": [],
   "source": [
    "print report['content'][5].decode('utf-8')"
   ]
  },
  {
   "cell_type": "code",
   "execution_count": null,
   "metadata": {
    "collapsed": false
   },
   "outputs": [],
   "source": [
    "list(pseg.cut('尊敬的苏书记您好！赣县王母渡镇新兴村委员会（书记、村长、会计）三个职位在近5年内从未公开竟选，三人内定，并没有经过正规程序来进行。近5年内村财务从未公开过。村民批地建房由村书记一人收钱不开收据不开发票口头承诺要定可以办好，收费标准并无文件规定，漫口要价村民不知情，但近5年内的批地申请表并未办下来，一直积压在镇国土资源管理所。恳请苏书记督促赣县检察机关、县纪检部门到镇和村民中调查，因镇政府和镇国土资源所和村委员会的三个干部有着千丝万缕的联系，所以镇相关并未有过调查。赣县王母渡镇新兴村委员会村长去年说了一句话：我们光靠共产党的工资那里够呀，吃饭都不够，所以不搞点项目或从国土审批中一次性从村民手中收取一个上限的费用那才不吃亏，也确实村委会工作人员一次随口开价就从未有过批地费用补差或退回，难不成就每次都那么准刚刚好就够了。'))"
   ]
  },
  {
   "cell_type": "code",
   "execution_count": null,
   "metadata": {
    "collapsed": false
   },
   "outputs": [],
   "source": [
    "len(report) #length of the string "
   ]
  },
  {
   "cell_type": "code",
   "execution_count": null,
   "metadata": {
    "collapsed": false
   },
   "outputs": [],
   "source": [
    "report2 = pd.read_excel('C:/Users/Max Meng/Desktop/Summer Course/Lecture/Textasdata20170830/codeanddata/government.xls')\n",
    "report2.head()"
   ]
  },
  {
   "cell_type": "code",
   "execution_count": null,
   "metadata": {
    "collapsed": false
   },
   "outputs": [],
   "source": [
    "len(report2) #length of the string "
   ]
  },
  {
   "cell_type": "markdown",
   "metadata": {
    "collapsed": true
   },
   "source": [
    "<br><br><br><center><font color=#13577F size=6 face='arial black'>大数据社会科学的时代来临了!</font></center><br><br>"
   ]
  },
  {
   "cell_type": "markdown",
   "metadata": {},
   "source": [
    "<br><br><br><center><font color=#505050 size=4 face='arial black'>邮箱：maxmeng@tsinghua.edu.cn</font></center><br><br>"
   ]
  },
  {
   "cell_type": "markdown",
   "metadata": {},
   "source": [
    "<font color=#505050 size=4 face='arial black'>Copyright@Tsinghua Research Center on Data Science and Governance</font>"
   ]
  }
 ],
 "metadata": {
  "celltoolbar": "Raw Cell Format",
  "kernelspec": {
   "display_name": "Python 2",
   "language": "python",
   "name": "python2"
  },
  "language_info": {
   "codemirror_mode": {
    "name": "ipython",
    "version": 2
   },
   "file_extension": ".py",
   "mimetype": "text/x-python",
   "name": "python",
   "nbconvert_exporter": "python",
   "pygments_lexer": "ipython2",
   "version": "2.7.11"
  }
 },
 "nbformat": 4,
 "nbformat_minor": 0
}
